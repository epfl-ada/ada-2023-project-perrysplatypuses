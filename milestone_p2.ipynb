{
 "cells": [
  {
   "cell_type": "code",
   "execution_count": null,
   "metadata": {
    "execution": {
     "iopub.execute_input": "2023-11-16T21:38:55.805877Z",
     "iopub.status.busy": "2023-11-16T21:38:55.805338Z",
     "iopub.status.idle": "2023-11-16T21:38:55.821283Z",
     "shell.execute_reply": "2023-11-16T21:38:55.820763Z"
    }
   },
   "outputs": [],
   "source": [
    "%load_ext autoreload\n",
    "%autoreload 2"
   ]
  },
  {
   "cell_type": "code",
   "execution_count": null,
   "metadata": {
    "execution": {
     "iopub.execute_input": "2023-11-16T21:38:55.823689Z",
     "iopub.status.busy": "2023-11-16T21:38:55.823318Z",
     "iopub.status.idle": "2023-11-16T21:38:56.258114Z",
     "shell.execute_reply": "2023-11-16T21:38:56.257507Z"
    }
   },
   "outputs": [],
   "source": [
    "import pandas as pd\n",
    "import matplotlib.pyplot as plt\n",
    "import numpy as np\n",
    "from tqdm import tqdm"
   ]
  },
  {
   "cell_type": "markdown",
   "metadata": {},
   "source": [
    "# Loading the data\n",
    "\n",
    "For the character names and linguistic features extraction pipeline, please refer to `extract_character_attributes.ipynb`. And for the clusterization pipeline as well as the different clustering methods comparison refer to `clustering.ipynb`."
   ]
  },
  {
   "cell_type": "code",
   "execution_count": null,
   "metadata": {
    "execution": {
     "iopub.execute_input": "2023-11-16T21:38:56.261290Z",
     "iopub.status.busy": "2023-11-16T21:38:56.260781Z",
     "iopub.status.idle": "2023-11-16T21:38:56.649199Z",
     "shell.execute_reply": "2023-11-16T21:38:56.648463Z"
    }
   },
   "outputs": [],
   "source": [
    "characters =  pd.read_csv(\n",
    "    'data/character_clusters.csv', \n",
    "    index_col=0,\n",
    "    converters={\n",
    "        \"adj\": lambda x: x.strip(\"[]\").replace(\"'\",\"\").split(\", \"), # need this to read list columns from csv\n",
    "        \"active\": lambda x: x.strip(\"[]\").replace(\"'\",\"\").split(\", \"),\n",
    "        \"patient\": lambda x: x.strip(\"[]\").replace(\"'\",\"\").split(\", \")\n",
    "        }\n",
    "    )\n",
    "characters.head()"
   ]
  },
  {
   "cell_type": "code",
   "execution_count": null,
   "metadata": {
    "execution": {
     "iopub.execute_input": "2023-11-16T21:38:56.651905Z",
     "iopub.status.busy": "2023-11-16T21:38:56.651580Z",
     "iopub.status.idle": "2023-11-16T21:38:56.870617Z",
     "shell.execute_reply": "2023-11-16T21:38:56.869906Z"
    }
   },
   "outputs": [],
   "source": [
    "movies = pd.read_csv(\n",
    "    'data/MovieSummaries/movie.metadata.tsv', \n",
    "    sep='\\t', \n",
    "    names=['wiki_id', 'freebase_id', 'title', 'release_date', 'revenue', 'runtime', 'languages', 'countries', 'genres']\n",
    ")\n",
    "movies.head()"
   ]
  },
  {
   "cell_type": "code",
   "execution_count": null,
   "metadata": {
    "execution": {
     "iopub.execute_input": "2023-11-16T21:38:56.873399Z",
     "iopub.status.busy": "2023-11-16T21:38:56.872951Z",
     "iopub.status.idle": "2023-11-16T21:38:57.017722Z",
     "shell.execute_reply": "2023-11-16T21:38:57.017027Z"
    }
   },
   "outputs": [],
   "source": [
    "characters_and_movies = characters.merge(movies, how='left', on='wiki_id').dropna()\n",
    "characters_and_movies.head()"
   ]
  },
  {
   "cell_type": "code",
   "execution_count": null,
   "metadata": {
    "execution": {
     "iopub.execute_input": "2023-11-16T21:38:57.020807Z",
     "iopub.status.busy": "2023-11-16T21:38:57.020238Z",
     "iopub.status.idle": "2023-11-16T21:38:57.047441Z",
     "shell.execute_reply": "2023-11-16T21:38:57.046796Z"
    }
   },
   "outputs": [],
   "source": [
    "characters_and_movies[characters_and_movies['title'].str.contains(\"Batman\")][['title', 'character', 'cluster']]"
   ]
  },
  {
   "cell_type": "markdown",
   "metadata": {},
   "source": [
    "# Initial analysis of the actors' success"
   ]
  },
  {
   "cell_type": "code",
   "execution_count": null,
   "metadata": {},
   "outputs": [],
   "source": []
  },
  {
   "cell_type": "markdown",
   "metadata": {},
   "source": [
    "# Genre prediction using clusters"
   ]
  },
  {
   "cell_type": "code",
   "execution_count": null,
   "metadata": {},
   "outputs": [],
   "source": []
  },
  {
   "cell_type": "markdown",
   "metadata": {},
   "source": [
    "# Revenue prediction using clusters"
   ]
  },
  {
   "cell_type": "code",
   "execution_count": null,
   "metadata": {},
   "outputs": [],
   "source": []
  }
 ],
 "metadata": {
  "kernelspec": {
   "display_name": ".venv",
   "language": "python",
   "name": "python3"
  },
  "language_info": {
   "codemirror_mode": {
    "name": "ipython",
    "version": 3
   },
   "file_extension": ".py",
   "mimetype": "text/x-python",
   "name": "python",
   "nbconvert_exporter": "python",
   "pygments_lexer": "ipython3",
   "version": "3.9.18"
  }
 },
 "nbformat": 4,
 "nbformat_minor": 2
}
