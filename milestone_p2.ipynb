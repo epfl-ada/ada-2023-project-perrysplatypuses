{
 "cells": [
  {
   "cell_type": "code",
   "execution_count": 1,
   "metadata": {
    "execution": {
     "iopub.execute_input": "2023-11-17T16:18:56.136834Z",
     "iopub.status.busy": "2023-11-17T16:18:56.136617Z",
     "iopub.status.idle": "2023-11-17T16:18:56.151908Z",
     "shell.execute_reply": "2023-11-17T16:18:56.151273Z"
    }
   },
   "outputs": [],
   "source": [
    "%load_ext autoreload\n",
    "%autoreload 2"
   ]
  },
  {
   "cell_type": "code",
   "execution_count": 2,
   "metadata": {
    "execution": {
     "iopub.execute_input": "2023-11-17T16:18:56.154541Z",
     "iopub.status.busy": "2023-11-17T16:18:56.154077Z",
     "iopub.status.idle": "2023-11-17T16:18:56.850352Z",
     "shell.execute_reply": "2023-11-17T16:18:56.849627Z"
    }
   },
   "outputs": [],
   "source": [
    "import pandas as pd\n",
    "import matplotlib.pyplot as plt\n",
    "import numpy as np\n",
    "from tqdm import tqdm\n",
    "import seaborn as sns"
   ]
  },
  {
   "cell_type": "code",
   "execution_count": 3,
   "metadata": {
    "execution": {
     "iopub.execute_input": "2023-11-17T16:18:56.853657Z",
     "iopub.status.busy": "2023-11-17T16:18:56.853200Z",
     "iopub.status.idle": "2023-11-17T16:18:56.867330Z",
     "shell.execute_reply": "2023-11-17T16:18:56.866814Z"
    }
   },
   "outputs": [],
   "source": [
    "from IPython.display import clear_output\n",
    "import json"
   ]
  },
  {
   "cell_type": "code",
   "execution_count": 4,
   "metadata": {
    "execution": {
     "iopub.execute_input": "2023-11-17T16:18:56.869872Z",
     "iopub.status.busy": "2023-11-17T16:18:56.869478Z",
     "iopub.status.idle": "2023-11-17T16:18:56.990250Z",
     "shell.execute_reply": "2023-11-17T16:18:56.989601Z"
    }
   },
   "outputs": [],
   "source": [
    "from sklearn.cluster import AgglomerativeClustering, KMeans"
   ]
  },
  {
   "cell_type": "code",
   "execution_count": 5,
   "metadata": {
    "execution": {
     "iopub.execute_input": "2023-11-17T16:18:56.993548Z",
     "iopub.status.busy": "2023-11-17T16:18:56.993021Z",
     "iopub.status.idle": "2023-11-17T16:19:00.214499Z",
     "shell.execute_reply": "2023-11-17T16:19:00.213895Z"
    }
   },
   "outputs": [],
   "source": [
    "from utils.clustering import get_lda_clusters, get_vocab, word_topics_clustering, sort_meaningful, get_trf_clusters, topic_count\n",
    "from utils.clustering_evaluation import get_characters_with_tv_trop_info, variation_of_information, group_labels_by_clusters"
   ]
  },
  {
   "cell_type": "markdown",
   "metadata": {},
   "source": [
    "# Clustering methods comparison\n",
    "\n",
    "We use Variation of Information between our clusters and golden clusters from TV Tropes as suggested in [Learning Latent Personas of Film Characters](http://www.cs.cmu.edu/~dbamman/pubs/pdf/bamman+oconnor+smith.acl13.pdf). This way we can compare our methods' performance with the original method performance."
   ]
  },
  {
   "cell_type": "markdown",
   "metadata": {},
   "source": [
    "### LDA based clustering\n",
    "For the character names and linguistic features extraction pipeline, please refer to `extract_character_attributes.ipynb`."
   ]
  },
  {
   "cell_type": "code",
   "execution_count": 6,
   "metadata": {
    "execution": {
     "iopub.execute_input": "2023-11-17T16:19:00.217709Z",
     "iopub.status.busy": "2023-11-17T16:19:00.217411Z",
     "iopub.status.idle": "2023-11-17T16:19:03.718426Z",
     "shell.execute_reply": "2023-11-17T16:19:03.717634Z"
    }
   },
   "outputs": [
    {
     "data": {
      "text/html": [
       "<div>\n",
       "<style scoped>\n",
       "    .dataframe tbody tr th:only-of-type {\n",
       "        vertical-align: middle;\n",
       "    }\n",
       "\n",
       "    .dataframe tbody tr th {\n",
       "        vertical-align: top;\n",
       "    }\n",
       "\n",
       "    .dataframe thead th {\n",
       "        text-align: right;\n",
       "    }\n",
       "</style>\n",
       "<table border=\"1\" class=\"dataframe\">\n",
       "  <thead>\n",
       "    <tr style=\"text-align: right;\">\n",
       "      <th></th>\n",
       "      <th>wiki_id</th>\n",
       "      <th>character</th>\n",
       "      <th>adj</th>\n",
       "      <th>active</th>\n",
       "      <th>patient</th>\n",
       "    </tr>\n",
       "  </thead>\n",
       "  <tbody>\n",
       "    <tr>\n",
       "      <th>0</th>\n",
       "      <td>31186339</td>\n",
       "      <td>Peeta Mellark</td>\n",
       "      <td>[son]</td>\n",
       "      <td>[take, reveal, mean, form, present, beg, tell]</td>\n",
       "      <td>[force]</td>\n",
       "    </tr>\n",
       "    <tr>\n",
       "      <th>1</th>\n",
       "      <td>31186339</td>\n",
       "      <td>Cato</td>\n",
       "      <td>[]</td>\n",
       "      <td>[kill]</td>\n",
       "      <td>[encounter, wound, shoot]</td>\n",
       "    </tr>\n",
       "    <tr>\n",
       "      <th>2</th>\n",
       "      <td>31186339</td>\n",
       "      <td>Katniss</td>\n",
       "      <td>[]</td>\n",
       "      <td>[take, survive, drop, warn, run, shoot, presen...</td>\n",
       "      <td>[give, find, torment, spare, force, tell, warn]</td>\n",
       "    </tr>\n",
       "    <tr>\n",
       "      <th>3</th>\n",
       "      <td>31186339</td>\n",
       "      <td>Rue</td>\n",
       "      <td>[die]</td>\n",
       "      <td>[draw, care, draw, trap]</td>\n",
       "      <td>[hear, stab, comfort, kill]</td>\n",
       "    </tr>\n",
       "    <tr>\n",
       "      <th>4</th>\n",
       "      <td>31186339</td>\n",
       "      <td>Seneca Crane</td>\n",
       "      <td>[Gamemaker]</td>\n",
       "      <td>[change, lock]</td>\n",
       "      <td>[summon, convince]</td>\n",
       "    </tr>\n",
       "  </tbody>\n",
       "</table>\n",
       "</div>"
      ],
      "text/plain": [
       "    wiki_id      character          adj  \\\n",
       "0  31186339  Peeta Mellark        [son]   \n",
       "1  31186339           Cato           []   \n",
       "2  31186339        Katniss           []   \n",
       "3  31186339            Rue        [die]   \n",
       "4  31186339   Seneca Crane  [Gamemaker]   \n",
       "\n",
       "                                              active  \\\n",
       "0     [take, reveal, mean, form, present, beg, tell]   \n",
       "1                                             [kill]   \n",
       "2  [take, survive, drop, warn, run, shoot, presen...   \n",
       "3                           [draw, care, draw, trap]   \n",
       "4                                     [change, lock]   \n",
       "\n",
       "                                           patient  \n",
       "0                                          [force]  \n",
       "1                        [encounter, wound, shoot]  \n",
       "2  [give, find, torment, spare, force, tell, warn]  \n",
       "3                      [hear, stab, comfort, kill]  \n",
       "4                               [summon, convince]  "
      ]
     },
     "execution_count": 6,
     "metadata": {},
     "output_type": "execute_result"
    }
   ],
   "source": [
    "characters_attributes =  pd.read_csv(\n",
    "    'data/character_attributes.csv', \n",
    "    index_col=0,\n",
    "    converters={\n",
    "        \"adj\": lambda x: x.strip(\"[]\").replace(\"'\",\"\").split(\", \"), # need this to read list columns from csv\n",
    "        \"active\": lambda x: x.strip(\"[]\").replace(\"'\",\"\").split(\", \"),\n",
    "        \"patient\": lambda x: x.strip(\"[]\").replace(\"'\",\"\").split(\", \")\n",
    "        }\n",
    "    )\n",
    "# select only the characters who have at least 3 liguistic features\n",
    "characters_attributes = sort_meaningful(characters_attributes, 3)\n",
    "\n",
    "characters_attributes.head()"
   ]
  },
  {
   "cell_type": "code",
   "execution_count": 7,
   "metadata": {
    "execution": {
     "iopub.execute_input": "2023-11-17T16:19:03.721281Z",
     "iopub.status.busy": "2023-11-17T16:19:03.720874Z",
     "iopub.status.idle": "2023-11-17T16:19:03.998045Z",
     "shell.execute_reply": "2023-11-17T16:19:03.997416Z"
    }
   },
   "outputs": [],
   "source": [
    "characters_to_check, tv_tropes = get_characters_with_tv_trop_info(characters_attributes)"
   ]
  },
  {
   "cell_type": "code",
   "execution_count": 8,
   "metadata": {
    "execution": {
     "iopub.execute_input": "2023-11-17T16:19:04.001074Z",
     "iopub.status.busy": "2023-11-17T16:19:04.000599Z",
     "iopub.status.idle": "2023-11-17T16:19:17.392633Z",
     "shell.execute_reply": "2023-11-17T16:19:17.391960Z"
    }
   },
   "outputs": [
    {
     "data": {
      "text/plain": [
       "{'25 topics, 25 archetypes': 6.2466797099799205,\n",
       " '25 topics, 50 archetypes': 5.721030072070011,\n",
       " '25 topics, 100 archetypes': 5.19585126544422,\n",
       " '50 topics, 25 archetypes': 6.3319648575061835,\n",
       " '50 topics, 50 archetypes': 5.666473591455292,\n",
       " '50 topics, 100 archetypes': 4.976150571899939,\n",
       " '100 topics, 25 archetypes': 6.349160556531042,\n",
       " '100 topics, 50 archetypes': 5.607356379575675,\n",
       " '100 topics, 100 archetypes': 4.898739702618948}"
      ]
     },
     "execution_count": 8,
     "metadata": {},
     "output_type": "execute_result"
    }
   ],
   "source": [
    "agglomerative_clusters_n = [25, 50, 100]\n",
    "n_components = [25, 50, 100]\n",
    "\n",
    "configs = {}\n",
    "config_base = {'characters': characters_to_check, 'min_freq': 5, 'max_freq':0.9}\n",
    "\n",
    "for alg_n in agglomerative_clusters_n:\n",
    "    for n in n_components:\n",
    "        config = config_base.copy()\n",
    "        config['clustering_algo'] = AgglomerativeClustering(n_clusters=alg_n, metric='cosine', linkage='complete')\n",
    "        config['n_components'] = n\n",
    "        configs[f'{alg_n} topics, {n} archetypes'] = config\n",
    "\n",
    "results_lda = {}\n",
    "for k, config in configs.items():\n",
    "    clusters = get_lda_clusters(**config)\n",
    "    results_lda[k] = variation_of_information(group_labels_by_clusters(clusters), tv_tropes)\n",
    "    print(k, f'VI = {results_lda[k]}')\n",
    "\n",
    "clear_output(wait=True)\n",
    "results_lda"
   ]
  },
  {
   "cell_type": "markdown",
   "metadata": {},
   "source": [
    "Note, that the results are even better (K=100, P=100, 5.42 in the paper and 4.9 here) than the results from the [paper](http://www.cs.cmu.edu/~dbamman/pubs/pdf/bamman+oconnor+smith.acl13.pdf). That could indicate that using word2vec embeddings and Agglomerative clustering of the words to topics might be better suited for dividing the words into topics for the purpose of personas extraction."
   ]
  },
  {
   "cell_type": "markdown",
   "metadata": {},
   "source": [
    "### BERT based clustering\n",
    "\n",
    "For the embedding extraction see `utils/archive/transformer_embeddings.ipynb`"
   ]
  },
  {
   "cell_type": "code",
   "execution_count": 9,
   "metadata": {
    "execution": {
     "iopub.execute_input": "2023-11-17T16:19:17.395582Z",
     "iopub.status.busy": "2023-11-17T16:19:17.395221Z",
     "iopub.status.idle": "2023-11-17T16:19:18.847700Z",
     "shell.execute_reply": "2023-11-17T16:19:18.847009Z"
    }
   },
   "outputs": [
    {
     "data": {
      "text/html": [
       "<div>\n",
       "<style scoped>\n",
       "    .dataframe tbody tr th:only-of-type {\n",
       "        vertical-align: middle;\n",
       "    }\n",
       "\n",
       "    .dataframe tbody tr th {\n",
       "        vertical-align: top;\n",
       "    }\n",
       "\n",
       "    .dataframe thead th {\n",
       "        text-align: right;\n",
       "    }\n",
       "</style>\n",
       "<table border=\"1\" class=\"dataframe\">\n",
       "  <thead>\n",
       "    <tr style=\"text-align: right;\">\n",
       "      <th></th>\n",
       "      <th>wiki_id</th>\n",
       "      <th>character</th>\n",
       "      <th>emb</th>\n",
       "    </tr>\n",
       "  </thead>\n",
       "  <tbody>\n",
       "    <tr>\n",
       "      <th>0</th>\n",
       "      <td>6002183</td>\n",
       "      <td>Horton</td>\n",
       "      <td>[1.0488402843475342, 0.3811729848384857, 0.645...</td>\n",
       "    </tr>\n",
       "    <tr>\n",
       "      <th>1</th>\n",
       "      <td>6002183</td>\n",
       "      <td>Ned McDodd</td>\n",
       "      <td>[-0.5622232556343079, -0.2521360516548157, -0....</td>\n",
       "    </tr>\n",
       "    <tr>\n",
       "      <th>2</th>\n",
       "      <td>6002183</td>\n",
       "      <td>JoJo</td>\n",
       "      <td>[-0.7999439835548401, -0.4102073311805725, 0.6...</td>\n",
       "    </tr>\n",
       "    <tr>\n",
       "      <th>3</th>\n",
       "      <td>6002183</td>\n",
       "      <td>Sally</td>\n",
       "      <td>[0.7803803086280823, -0.7006192207336426, 0.32...</td>\n",
       "    </tr>\n",
       "    <tr>\n",
       "      <th>4</th>\n",
       "      <td>6002183</td>\n",
       "      <td>LaRue</td>\n",
       "      <td>[-0.038770418614149094, 0.219954714179039, -0....</td>\n",
       "    </tr>\n",
       "  </tbody>\n",
       "</table>\n",
       "</div>"
      ],
      "text/plain": [
       "   wiki_id   character                                                emb\n",
       "0  6002183      Horton  [1.0488402843475342, 0.3811729848384857, 0.645...\n",
       "1  6002183  Ned McDodd  [-0.5622232556343079, -0.2521360516548157, -0....\n",
       "2  6002183        JoJo  [-0.7999439835548401, -0.4102073311805725, 0.6...\n",
       "3  6002183       Sally  [0.7803803086280823, -0.7006192207336426, 0.32...\n",
       "4  6002183       LaRue  [-0.038770418614149094, 0.219954714179039, -0...."
      ]
     },
     "execution_count": 9,
     "metadata": {},
     "output_type": "execute_result"
    }
   ],
   "source": [
    "characters_with_trf_emb =  pd.read_csv(\n",
    "    'data/trf_embeddings_for_labeled_characters.csv', \n",
    "    index_col=0,\n",
    "    converters={\n",
    "        \"emb\": lambda x: [float(k) for k in x.strip(\"[]\").replace(\"'\",\"\").split(\", \")]\n",
    "        }\n",
    "    )\n",
    "# Leave only those, who we compared on the previous step\n",
    "characters_with_trf_emb = characters_with_trf_emb[characters_with_trf_emb['wiki_id'].isin(characters_to_check['wiki_id'].values)]\n",
    "\n",
    "characters_with_trf_emb.head()"
   ]
  },
  {
   "cell_type": "code",
   "execution_count": 10,
   "metadata": {
    "execution": {
     "iopub.execute_input": "2023-11-17T16:19:18.850324Z",
     "iopub.status.busy": "2023-11-17T16:19:18.849939Z",
     "iopub.status.idle": "2023-11-17T16:19:19.130654Z",
     "shell.execute_reply": "2023-11-17T16:19:19.129949Z"
    }
   },
   "outputs": [],
   "source": [
    "characters_to_check_trf, tv_tropes = get_characters_with_tv_trop_info(characters_with_trf_emb)"
   ]
  },
  {
   "cell_type": "code",
   "execution_count": 11,
   "metadata": {
    "execution": {
     "iopub.execute_input": "2023-11-17T16:19:19.133809Z",
     "iopub.status.busy": "2023-11-17T16:19:19.133548Z",
     "iopub.status.idle": "2023-11-17T16:19:21.304129Z",
     "shell.execute_reply": "2023-11-17T16:19:21.303327Z"
    }
   },
   "outputs": [
    {
     "data": {
      "text/plain": [
       "{'25 archetypes, agglomerative clustering': 6.126084917715467,\n",
       " '25 archetypes, kmeans clustering': 6.127801397431159,\n",
       " '50 archetypes, agglomerative clustering': 5.5954496618130625,\n",
       " '50 archetypes, kmeans clustering': 5.574013724301791,\n",
       " '100 archetypes, agglomerative clustering': 4.936886689856702,\n",
       " '100 archetypes, kmeans clustering': 4.885147515853927}"
      ]
     },
     "execution_count": 11,
     "metadata": {},
     "output_type": "execute_result"
    }
   ],
   "source": [
    "results_trf = {}\n",
    "for n in n_components:\n",
    "    k = f'{n} archetypes, agglomerative clustering'\n",
    "    agglomerative = AgglomerativeClustering(n_clusters=n, metric='euclidean', linkage='complete')\n",
    "    clusters = get_trf_clusters(characters_to_check_trf, agglomerative)\n",
    "    results_trf[k] = variation_of_information(group_labels_by_clusters(clusters), tv_tropes)\n",
    "    print(k, f'VI = {results_trf[k]}')\n",
    "\n",
    "    k = f'{n} archetypes, kmeans clustering'\n",
    "    kmeans = KMeans(n_clusters=n)\n",
    "    clusters = get_trf_clusters(characters_to_check_trf, kmeans)\n",
    "    results_trf[k] = variation_of_information(group_labels_by_clusters(clusters), tv_tropes)\n",
    "    print(k, f'VI = {results_trf[k]}')\n",
    "\n",
    "clear_output(wait=True)\n",
    "results_trf"
   ]
  },
  {
   "cell_type": "markdown",
   "metadata": {},
   "source": [
    "The results of BERT embeddings based clustering are also better than the results from the paper. Still, obtaining these embeddings is slow, and the difference between this and previous method is not that big, so we will stick to the faster and more interpretable LDA based method."
   ]
  },
  {
   "cell_type": "markdown",
   "metadata": {},
   "source": [
    "# Loading the data\n",
    "\n",
    "For the clusterization pipeline as well as the different clustering methods comparison refer to `clustering.ipynb`. For our initial analysis we will use 50 clusters."
   ]
  },
  {
   "cell_type": "code",
   "execution_count": 12,
   "metadata": {
    "execution": {
     "iopub.execute_input": "2023-11-17T16:19:21.308240Z",
     "iopub.status.busy": "2023-11-17T16:19:21.307732Z",
     "iopub.status.idle": "2023-11-17T16:19:21.891232Z",
     "shell.execute_reply": "2023-11-17T16:19:21.890534Z"
    }
   },
   "outputs": [
    {
     "data": {
      "text/html": [
       "<div>\n",
       "<style scoped>\n",
       "    .dataframe tbody tr th:only-of-type {\n",
       "        vertical-align: middle;\n",
       "    }\n",
       "\n",
       "    .dataframe tbody tr th {\n",
       "        vertical-align: top;\n",
       "    }\n",
       "\n",
       "    .dataframe thead th {\n",
       "        text-align: right;\n",
       "    }\n",
       "</style>\n",
       "<table border=\"1\" class=\"dataframe\">\n",
       "  <thead>\n",
       "    <tr style=\"text-align: right;\">\n",
       "      <th></th>\n",
       "      <th>wiki_id</th>\n",
       "      <th>character</th>\n",
       "      <th>adj</th>\n",
       "      <th>active</th>\n",
       "      <th>patient</th>\n",
       "      <th>cluster</th>\n",
       "    </tr>\n",
       "  </thead>\n",
       "  <tbody>\n",
       "    <tr>\n",
       "      <th>0</th>\n",
       "      <td>31186339</td>\n",
       "      <td>Peeta Mellark</td>\n",
       "      <td>[son]</td>\n",
       "      <td>[take, reveal, mean, form, present, beg, tell]</td>\n",
       "      <td>[force]</td>\n",
       "      <td>29</td>\n",
       "    </tr>\n",
       "    <tr>\n",
       "      <th>1</th>\n",
       "      <td>31186339</td>\n",
       "      <td>Cato</td>\n",
       "      <td>[]</td>\n",
       "      <td>[kill]</td>\n",
       "      <td>[encounter, wound, shoot]</td>\n",
       "      <td>15</td>\n",
       "    </tr>\n",
       "    <tr>\n",
       "      <th>2</th>\n",
       "      <td>31186339</td>\n",
       "      <td>Katniss</td>\n",
       "      <td>[]</td>\n",
       "      <td>[take, survive, drop, warn, run, shoot, presen...</td>\n",
       "      <td>[give, find, torment, spare, force, tell, warn]</td>\n",
       "      <td>9</td>\n",
       "    </tr>\n",
       "    <tr>\n",
       "      <th>3</th>\n",
       "      <td>31186339</td>\n",
       "      <td>Rue</td>\n",
       "      <td>[die]</td>\n",
       "      <td>[draw, care, draw, trap]</td>\n",
       "      <td>[hear, stab, comfort, kill]</td>\n",
       "      <td>1</td>\n",
       "    </tr>\n",
       "    <tr>\n",
       "      <th>4</th>\n",
       "      <td>31186339</td>\n",
       "      <td>Seneca Crane</td>\n",
       "      <td>[Gamemaker]</td>\n",
       "      <td>[change, lock]</td>\n",
       "      <td>[summon, convince]</td>\n",
       "      <td>14</td>\n",
       "    </tr>\n",
       "  </tbody>\n",
       "</table>\n",
       "</div>"
      ],
      "text/plain": [
       "    wiki_id      character          adj  \\\n",
       "0  31186339  Peeta Mellark        [son]   \n",
       "1  31186339           Cato           []   \n",
       "2  31186339        Katniss           []   \n",
       "3  31186339            Rue        [die]   \n",
       "4  31186339   Seneca Crane  [Gamemaker]   \n",
       "\n",
       "                                              active  \\\n",
       "0     [take, reveal, mean, form, present, beg, tell]   \n",
       "1                                             [kill]   \n",
       "2  [take, survive, drop, warn, run, shoot, presen...   \n",
       "3                           [draw, care, draw, trap]   \n",
       "4                                     [change, lock]   \n",
       "\n",
       "                                           patient  cluster  \n",
       "0                                          [force]       29  \n",
       "1                        [encounter, wound, shoot]       15  \n",
       "2  [give, find, torment, spare, force, tell, warn]        9  \n",
       "3                      [hear, stab, comfort, kill]        1  \n",
       "4                               [summon, convince]       14  "
      ]
     },
     "execution_count": 12,
     "metadata": {},
     "output_type": "execute_result"
    }
   ],
   "source": [
    "characters =  pd.read_csv(\n",
    "    'data/character_clusters.csv', \n",
    "    index_col=0,\n",
    "    converters={\n",
    "        \"adj\": lambda x: x.strip(\"[]\").replace(\"'\",\"\").split(\", \"), # need this to read list columns from csv\n",
    "        \"active\": lambda x: x.strip(\"[]\").replace(\"'\",\"\").split(\", \"),\n",
    "        \"patient\": lambda x: x.strip(\"[]\").replace(\"'\",\"\").split(\", \")\n",
    "        }\n",
    "    )\n",
    "characters.head()"
   ]
  },
  {
   "cell_type": "code",
   "execution_count": 13,
   "metadata": {
    "execution": {
     "iopub.execute_input": "2023-11-17T16:19:21.893917Z",
     "iopub.status.busy": "2023-11-17T16:19:21.893590Z",
     "iopub.status.idle": "2023-11-17T16:19:21.928377Z",
     "shell.execute_reply": "2023-11-17T16:19:21.927701Z"
    }
   },
   "outputs": [
    {
     "name": "stdout",
     "output_type": "stream",
     "text": [
      "In the clustered characters dataframe there are 74842 characters from 25664 movies\n"
     ]
    }
   ],
   "source": [
    "print(f\"In the clustered characters dataframe there are {len(characters)} characters from {len(set(characters['wiki_id'].values))} movies\")"
   ]
  },
  {
   "cell_type": "code",
   "execution_count": 14,
   "metadata": {
    "execution": {
     "iopub.execute_input": "2023-11-17T16:19:21.930841Z",
     "iopub.status.busy": "2023-11-17T16:19:21.930645Z",
     "iopub.status.idle": "2023-11-17T16:19:22.150262Z",
     "shell.execute_reply": "2023-11-17T16:19:22.149549Z"
    }
   },
   "outputs": [],
   "source": [
    "movies = pd.read_csv(\n",
    "    'data/MovieSummaries/movie.metadata.tsv', \n",
    "    sep='\\t', \n",
    "    names=['wiki_id', 'freebase_id', 'title', 'release_date', 'revenue', 'runtime', 'languages', 'countries', 'genres']\n",
    ")"
   ]
  },
  {
   "cell_type": "code",
   "execution_count": 15,
   "metadata": {
    "execution": {
     "iopub.execute_input": "2023-11-17T16:19:22.153578Z",
     "iopub.status.busy": "2023-11-17T16:19:22.153173Z",
     "iopub.status.idle": "2023-11-17T16:19:22.249019Z",
     "shell.execute_reply": "2023-11-17T16:19:22.248280Z"
    }
   },
   "outputs": [
    {
     "name": "stdout",
     "output_type": "stream",
     "text": [
      "In the clustered characters with movie metadata dataframe there are 23911 characters from 6280 movies with the revenue data\n"
     ]
    }
   ],
   "source": [
    "characters_and_movies = characters.merge(movies, how='left', on='wiki_id')\n",
    "characters_and_movies = characters_and_movies[characters_and_movies['revenue'].notna()]\n",
    "\n",
    "print(f\"In the clustered characters with movie metadata dataframe there are {len(characters_and_movies)} characters from {len(set(characters_and_movies['wiki_id'].values))} movies with the revenue data\")"
   ]
  },
  {
   "cell_type": "code",
   "execution_count": 16,
   "metadata": {
    "execution": {
     "iopub.execute_input": "2023-11-17T16:19:22.251489Z",
     "iopub.status.busy": "2023-11-17T16:19:22.251274Z",
     "iopub.status.idle": "2023-11-17T16:19:22.290875Z",
     "shell.execute_reply": "2023-11-17T16:19:22.290331Z"
    }
   },
   "outputs": [
    {
     "data": {
      "text/html": [
       "<div>\n",
       "<style scoped>\n",
       "    .dataframe tbody tr th:only-of-type {\n",
       "        vertical-align: middle;\n",
       "    }\n",
       "\n",
       "    .dataframe tbody tr th {\n",
       "        vertical-align: top;\n",
       "    }\n",
       "\n",
       "    .dataframe thead th {\n",
       "        text-align: right;\n",
       "    }\n",
       "</style>\n",
       "<table border=\"1\" class=\"dataframe\">\n",
       "  <thead>\n",
       "    <tr style=\"text-align: right;\">\n",
       "      <th></th>\n",
       "      <th>wiki_id</th>\n",
       "      <th>character</th>\n",
       "      <th>adj</th>\n",
       "      <th>active</th>\n",
       "      <th>patient</th>\n",
       "      <th>cluster</th>\n",
       "      <th>freebase_id</th>\n",
       "      <th>title</th>\n",
       "      <th>release_date</th>\n",
       "      <th>revenue</th>\n",
       "      <th>runtime</th>\n",
       "      <th>languages</th>\n",
       "      <th>countries</th>\n",
       "      <th>genres</th>\n",
       "    </tr>\n",
       "  </thead>\n",
       "  <tbody>\n",
       "    <tr>\n",
       "      <th>29560</th>\n",
       "      <td>1157124</td>\n",
       "      <td>Mark Darcy</td>\n",
       "      <td>[]</td>\n",
       "      <td>[have, go, ask, have, arrive, walk, confront, ...</td>\n",
       "      <td>[love, confront]</td>\n",
       "      <td>12</td>\n",
       "      <td>/m/04c11j</td>\n",
       "      <td>Bridget Jones: The Edge of Reason</td>\n",
       "      <td>2004-11-19</td>\n",
       "      <td>262520724.0</td>\n",
       "      <td>106.0</td>\n",
       "      <td>{\"/m/04306rv\": \"German Language\", \"/m/02h40lc\"...</td>\n",
       "      <td>{\"/m/09c7w0\": \"United States of America\", \"/m/...</td>\n",
       "      <td>{\"/m/06cvj\": \"Romantic comedy\", \"/m/02l7c8\": \"...</td>\n",
       "    </tr>\n",
       "    <tr>\n",
       "      <th>13690</th>\n",
       "      <td>24158745</td>\n",
       "      <td>Lou Perilli</td>\n",
       "      <td>[]</td>\n",
       "      <td>[decide, become, have]</td>\n",
       "      <td>[meet]</td>\n",
       "      <td>1</td>\n",
       "      <td>/m/07k4wk2</td>\n",
       "      <td>Steal Big Steal Little</td>\n",
       "      <td>1995-09-29</td>\n",
       "      <td>6278139.0</td>\n",
       "      <td>135.0</td>\n",
       "      <td>{}</td>\n",
       "      <td>{\"/m/09c7w0\": \"United States of America\"}</td>\n",
       "      <td>{\"/m/0gf28\": \"Parody\", \"/m/0hj3mz5\": \"Comedy o...</td>\n",
       "    </tr>\n",
       "    <tr>\n",
       "      <th>15515</th>\n",
       "      <td>164754</td>\n",
       "      <td>Gantu</td>\n",
       "      <td>[]</td>\n",
       "      <td>[put]</td>\n",
       "      <td>[stop, take]</td>\n",
       "      <td>9</td>\n",
       "      <td>/m/015ynm</td>\n",
       "      <td>Lilo &amp; Stitch</td>\n",
       "      <td>2002-06-16</td>\n",
       "      <td>273144151.0</td>\n",
       "      <td>84.0</td>\n",
       "      <td>{\"/m/02h40lc\": \"English Language\", \"/m/03pmt\":...</td>\n",
       "      <td>{\"/m/09c7w0\": \"United States of America\"}</td>\n",
       "      <td>{\"/m/06n90\": \"Science Fiction\", \"/m/03k9fj\": \"...</td>\n",
       "    </tr>\n",
       "  </tbody>\n",
       "</table>\n",
       "</div>"
      ],
      "text/plain": [
       "        wiki_id    character adj  \\\n",
       "29560   1157124   Mark Darcy  []   \n",
       "13690  24158745  Lou Perilli  []   \n",
       "15515    164754        Gantu  []   \n",
       "\n",
       "                                                  active           patient  \\\n",
       "29560  [have, go, ask, have, arrive, walk, confront, ...  [love, confront]   \n",
       "13690                             [decide, become, have]            [meet]   \n",
       "15515                                              [put]      [stop, take]   \n",
       "\n",
       "       cluster freebase_id                              title release_date  \\\n",
       "29560       12   /m/04c11j  Bridget Jones: The Edge of Reason   2004-11-19   \n",
       "13690        1  /m/07k4wk2             Steal Big Steal Little   1995-09-29   \n",
       "15515        9   /m/015ynm                      Lilo & Stitch   2002-06-16   \n",
       "\n",
       "           revenue  runtime  \\\n",
       "29560  262520724.0    106.0   \n",
       "13690    6278139.0    135.0   \n",
       "15515  273144151.0     84.0   \n",
       "\n",
       "                                               languages  \\\n",
       "29560  {\"/m/04306rv\": \"German Language\", \"/m/02h40lc\"...   \n",
       "13690                                                 {}   \n",
       "15515  {\"/m/02h40lc\": \"English Language\", \"/m/03pmt\":...   \n",
       "\n",
       "                                               countries  \\\n",
       "29560  {\"/m/09c7w0\": \"United States of America\", \"/m/...   \n",
       "13690          {\"/m/09c7w0\": \"United States of America\"}   \n",
       "15515          {\"/m/09c7w0\": \"United States of America\"}   \n",
       "\n",
       "                                                  genres  \n",
       "29560  {\"/m/06cvj\": \"Romantic comedy\", \"/m/02l7c8\": \"...  \n",
       "13690  {\"/m/0gf28\": \"Parody\", \"/m/0hj3mz5\": \"Comedy o...  \n",
       "15515  {\"/m/06n90\": \"Science Fiction\", \"/m/03k9fj\": \"...  "
      ]
     },
     "execution_count": 16,
     "metadata": {},
     "output_type": "execute_result"
    }
   ],
   "source": [
    "characters_and_movies.sample(3)"
   ]
  },
  {
   "cell_type": "code",
   "execution_count": 17,
   "metadata": {
    "execution": {
     "iopub.execute_input": "2023-11-17T16:19:22.293292Z",
     "iopub.status.busy": "2023-11-17T16:19:22.293079Z",
     "iopub.status.idle": "2023-11-17T16:19:22.336208Z",
     "shell.execute_reply": "2023-11-17T16:19:22.335581Z"
    }
   },
   "outputs": [
    {
     "data": {
      "text/html": [
       "<div>\n",
       "<style scoped>\n",
       "    .dataframe tbody tr th:only-of-type {\n",
       "        vertical-align: middle;\n",
       "    }\n",
       "\n",
       "    .dataframe tbody tr th {\n",
       "        vertical-align: top;\n",
       "    }\n",
       "\n",
       "    .dataframe thead th {\n",
       "        text-align: right;\n",
       "    }\n",
       "</style>\n",
       "<table border=\"1\" class=\"dataframe\">\n",
       "  <thead>\n",
       "    <tr style=\"text-align: right;\">\n",
       "      <th></th>\n",
       "      <th>title</th>\n",
       "      <th>character</th>\n",
       "      <th>cluster</th>\n",
       "    </tr>\n",
       "  </thead>\n",
       "  <tbody>\n",
       "    <tr>\n",
       "      <th>6348</th>\n",
       "      <td>Superman/Batman: Apocalypse</td>\n",
       "      <td>Superman</td>\n",
       "      <td>42</td>\n",
       "    </tr>\n",
       "    <tr>\n",
       "      <th>6349</th>\n",
       "      <td>Superman/Batman: Apocalypse</td>\n",
       "      <td>Batman</td>\n",
       "      <td>42</td>\n",
       "    </tr>\n",
       "    <tr>\n",
       "      <th>6350</th>\n",
       "      <td>Superman/Batman: Apocalypse</td>\n",
       "      <td>Barda</td>\n",
       "      <td>30</td>\n",
       "    </tr>\n",
       "    <tr>\n",
       "      <th>6351</th>\n",
       "      <td>Superman/Batman: Apocalypse</td>\n",
       "      <td>Kara</td>\n",
       "      <td>42</td>\n",
       "    </tr>\n",
       "    <tr>\n",
       "      <th>6352</th>\n",
       "      <td>Superman/Batman: Apocalypse</td>\n",
       "      <td>Darkseid</td>\n",
       "      <td>23</td>\n",
       "    </tr>\n",
       "    <tr>\n",
       "      <th>...</th>\n",
       "      <td>...</td>\n",
       "      <td>...</td>\n",
       "      <td>...</td>\n",
       "    </tr>\n",
       "    <tr>\n",
       "      <th>69321</th>\n",
       "      <td>Batman Forever</td>\n",
       "      <td>Riddler</td>\n",
       "      <td>42</td>\n",
       "    </tr>\n",
       "    <tr>\n",
       "      <th>69322</th>\n",
       "      <td>Batman Forever</td>\n",
       "      <td>Batman</td>\n",
       "      <td>42</td>\n",
       "    </tr>\n",
       "    <tr>\n",
       "      <th>69323</th>\n",
       "      <td>Batman Forever</td>\n",
       "      <td>Edward Nygma</td>\n",
       "      <td>17</td>\n",
       "    </tr>\n",
       "    <tr>\n",
       "      <th>69324</th>\n",
       "      <td>Batman Forever</td>\n",
       "      <td>Bruce Wayne</td>\n",
       "      <td>41</td>\n",
       "    </tr>\n",
       "    <tr>\n",
       "      <th>69325</th>\n",
       "      <td>Batman Forever</td>\n",
       "      <td>Robin</td>\n",
       "      <td>42</td>\n",
       "    </tr>\n",
       "  </tbody>\n",
       "</table>\n",
       "<p>64 rows × 3 columns</p>\n",
       "</div>"
      ],
      "text/plain": [
       "                             title     character  cluster\n",
       "6348   Superman/Batman: Apocalypse      Superman       42\n",
       "6349   Superman/Batman: Apocalypse        Batman       42\n",
       "6350   Superman/Batman: Apocalypse         Barda       30\n",
       "6351   Superman/Batman: Apocalypse          Kara       42\n",
       "6352   Superman/Batman: Apocalypse      Darkseid       23\n",
       "...                            ...           ...      ...\n",
       "69321               Batman Forever       Riddler       42\n",
       "69322               Batman Forever        Batman       42\n",
       "69323               Batman Forever  Edward Nygma       17\n",
       "69324               Batman Forever   Bruce Wayne       41\n",
       "69325               Batman Forever         Robin       42\n",
       "\n",
       "[64 rows x 3 columns]"
      ]
     },
     "execution_count": 17,
     "metadata": {},
     "output_type": "execute_result"
    }
   ],
   "source": [
    "characters_and_movies[characters_and_movies['title'].str.contains(\"Batman\")][['title', 'character', 'cluster']]"
   ]
  },
  {
   "cell_type": "markdown",
   "metadata": {},
   "source": [
    "We can notice, that, probably, cluster number 42 is the cluster of super-heroes."
   ]
  },
  {
   "cell_type": "markdown",
   "metadata": {},
   "source": [
    "## Clusters interpretability\n",
    "For now we won't give particular names to each cluster. But we show, how to use data from Latent Dirichlet Allocation model to understand what is the meaning of each cluster. We can look at the most important topics (groups of words) for each cluster and conclude, what is the role of the character form a particular cluster. "
   ]
  },
  {
   "cell_type": "code",
   "execution_count": 18,
   "metadata": {
    "execution": {
     "iopub.execute_input": "2023-11-17T16:19:22.338998Z",
     "iopub.status.busy": "2023-11-17T16:19:22.338612Z",
     "iopub.status.idle": "2023-11-17T16:19:22.366321Z",
     "shell.execute_reply": "2023-11-17T16:19:22.365794Z"
    }
   },
   "outputs": [],
   "source": [
    "topics_dict = json.load(open('data/words_by_topic.json', 'r'))\n",
    "lda_components = np.load('data/lda_components.npy')"
   ]
  },
  {
   "cell_type": "code",
   "execution_count": 19,
   "metadata": {
    "execution": {
     "iopub.execute_input": "2023-11-17T16:19:22.368890Z",
     "iopub.status.busy": "2023-11-17T16:19:22.368488Z",
     "iopub.status.idle": "2023-11-17T16:19:22.397773Z",
     "shell.execute_reply": "2023-11-17T16:19:22.397114Z"
    }
   },
   "outputs": [
    {
     "name": "stdout",
     "output_type": "stream",
     "text": [
      "For the cluster 0, the most important topic is patient verb from\n",
      "['ascend', 'bash', 'chase', 'climb', 'hit', 'jump', 'kick', 'knock', 'leap', 'move', 'nudge', 'pass', 'pull', 'push', 'run', 'slam', 'smash', 'step', 'turn']\n",
      "\n",
      "For the cluster 10, the most important topic is attribute from\n",
      "['alia', 'alias', 'aunt', 'babysit', 'babysitter', 'barmaid', 'betrothed', 'butler', 'codename', 'cousin', 'daughter', 'dote', 'elder', 'fiancee', 'fiancé', 'fiancée', 'goddaughter', 'granddaughter', 'grandson', 'housekeeper', 'husband', 'maid', 'name', 'nanny', 'nephew', 'nickname', 'niece', 'pseudonym', 'son', 'stepdaughter', 'stepson', 'uncle', 'widow', 'widowed', 'widower', 'wife']\n",
      "\n",
      "For the cluster 20, the most important topic is active verb from\n",
      "['accommodate', 'assemble', 'concoct', 'cover', 'decorate', 'divide', 'elaborate', 'equip', 'fabricate', 'follow', 'instal', 'install', 'merge', 'replace', 'replacement', 'set', 'split', 'unite', 'upgrade']\n",
      "\n",
      "For the cluster 30, the most important topic is active verb from\n",
      "['bind', 'bite', 'chew', 'chomp', 'fold', 'go', 'gobble', 'hang', 'huddle', 'lay', 'lick', 'lie', 'melt', 'pat', 'pluck', 'poke', 'rip', 'rub', 'sit', 'sniff', 'snort', 'soak', 'spit', 'suck', 'tear', 'wash', 'whip', 'wipe', 'yank']\n",
      "\n",
      "For the cluster 40, the most important topic is active verb from\n",
      "['attempt', 'ban', 'bid', 'bill', 'billy', 'order', 'plan', 'scheme']\n",
      "\n"
     ]
    }
   ],
   "source": [
    "for i in range(0, 50, 10):\n",
    "    idx = lda_components[i].argmax()\n",
    "    feature_type = 'attribute'\n",
    "    if idx // 200 == 1:\n",
    "        feature_type = 'active verb'\n",
    "    elif idx // 200 == 2:\n",
    "        feature_type = 'patient verb'\n",
    "    print(f'For the cluster {i}, the most important topic is {feature_type} from')\n",
    "    print(topics_dict[str(idx % 200)])\n",
    "    print()"
   ]
  },
  {
   "cell_type": "markdown",
   "metadata": {},
   "source": [
    "For example, we can see, that characters in cluster 0 are the onces who move a lot, while in cluster 10 characters are usually someones relative and characters in cluster 40 are some authority figures. Further, we will look at the top topics for each cluster to interpret, what are the common traits of the characters in one cluster."
   ]
  },
  {
   "cell_type": "markdown",
   "metadata": {},
   "source": [
    "# Initial analysis of the actors' success"
   ]
  },
  {
   "cell_type": "code",
   "execution_count": 20,
   "metadata": {
    "execution": {
     "iopub.execute_input": "2023-11-17T16:19:22.400724Z",
     "iopub.status.busy": "2023-11-17T16:19:22.400280Z",
     "iopub.status.idle": "2023-11-17T16:19:23.240070Z",
     "shell.execute_reply": "2023-11-17T16:19:23.239325Z"
    }
   },
   "outputs": [
    {
     "data": {
      "text/html": [
       "<div>\n",
       "<style scoped>\n",
       "    .dataframe tbody tr th:only-of-type {\n",
       "        vertical-align: middle;\n",
       "    }\n",
       "\n",
       "    .dataframe tbody tr th {\n",
       "        vertical-align: top;\n",
       "    }\n",
       "\n",
       "    .dataframe thead th {\n",
       "        text-align: right;\n",
       "    }\n",
       "</style>\n",
       "<table border=\"1\" class=\"dataframe\">\n",
       "  <thead>\n",
       "    <tr style=\"text-align: right;\">\n",
       "      <th></th>\n",
       "      <th>wiki_id</th>\n",
       "      <th>freebase_id</th>\n",
       "      <th>release_date</th>\n",
       "      <th>character</th>\n",
       "      <th>date_of_birth</th>\n",
       "      <th>sex</th>\n",
       "      <th>height</th>\n",
       "      <th>.</th>\n",
       "      <th>actor</th>\n",
       "      <th>age</th>\n",
       "      <th>character_map</th>\n",
       "      <th>..</th>\n",
       "      <th>...</th>\n",
       "      <th>....</th>\n",
       "    </tr>\n",
       "  </thead>\n",
       "  <tbody>\n",
       "    <tr>\n",
       "      <th>0</th>\n",
       "      <td>975900</td>\n",
       "      <td>/m/03vyhn</td>\n",
       "      <td>2001-08-24</td>\n",
       "      <td>Akooshay</td>\n",
       "      <td>1958-08-26</td>\n",
       "      <td>F</td>\n",
       "      <td>1.620</td>\n",
       "      <td>NaN</td>\n",
       "      <td>Wanda De Jesus</td>\n",
       "      <td>42.0</td>\n",
       "      <td>/m/0bgchxw</td>\n",
       "      <td>/m/0bgcj3x</td>\n",
       "      <td>/m/03wcfv7</td>\n",
       "      <td>NaN</td>\n",
       "    </tr>\n",
       "    <tr>\n",
       "      <th>1</th>\n",
       "      <td>975900</td>\n",
       "      <td>/m/03vyhn</td>\n",
       "      <td>2001-08-24</td>\n",
       "      <td>Lieutenant Melanie Ballard</td>\n",
       "      <td>1974-08-15</td>\n",
       "      <td>F</td>\n",
       "      <td>1.780</td>\n",
       "      <td>/m/044038p</td>\n",
       "      <td>Natasha Henstridge</td>\n",
       "      <td>27.0</td>\n",
       "      <td>/m/0jys3m</td>\n",
       "      <td>/m/0bgchn4</td>\n",
       "      <td>/m/0346l4</td>\n",
       "      <td>NaN</td>\n",
       "    </tr>\n",
       "    <tr>\n",
       "      <th>2</th>\n",
       "      <td>975900</td>\n",
       "      <td>/m/03vyhn</td>\n",
       "      <td>2001-08-24</td>\n",
       "      <td>Desolation Williams</td>\n",
       "      <td>1969-06-15</td>\n",
       "      <td>M</td>\n",
       "      <td>1.727</td>\n",
       "      <td>/m/0x67</td>\n",
       "      <td>Ice Cube</td>\n",
       "      <td>32.0</td>\n",
       "      <td>/m/0jys3g</td>\n",
       "      <td>/m/0bgchn_</td>\n",
       "      <td>/m/01vw26l</td>\n",
       "      <td>NaN</td>\n",
       "    </tr>\n",
       "    <tr>\n",
       "      <th>3</th>\n",
       "      <td>975900</td>\n",
       "      <td>/m/03vyhn</td>\n",
       "      <td>2001-08-24</td>\n",
       "      <td>Sgt Jericho Butler</td>\n",
       "      <td>1967-09-12</td>\n",
       "      <td>M</td>\n",
       "      <td>1.750</td>\n",
       "      <td>NaN</td>\n",
       "      <td>Jason Statham</td>\n",
       "      <td>33.0</td>\n",
       "      <td>/m/02vchl6</td>\n",
       "      <td>/m/0bgchnq</td>\n",
       "      <td>/m/034hyc</td>\n",
       "      <td>NaN</td>\n",
       "    </tr>\n",
       "    <tr>\n",
       "      <th>4</th>\n",
       "      <td>975900</td>\n",
       "      <td>/m/03vyhn</td>\n",
       "      <td>2001-08-24</td>\n",
       "      <td>Bashira Kincaid</td>\n",
       "      <td>1977-09-25</td>\n",
       "      <td>F</td>\n",
       "      <td>1.650</td>\n",
       "      <td>NaN</td>\n",
       "      <td>Clea DuVall</td>\n",
       "      <td>23.0</td>\n",
       "      <td>/m/02vbb3r</td>\n",
       "      <td>/m/0bgchp9</td>\n",
       "      <td>/m/01y9xg</td>\n",
       "      <td>NaN</td>\n",
       "    </tr>\n",
       "  </tbody>\n",
       "</table>\n",
       "</div>"
      ],
      "text/plain": [
       "   wiki_id freebase_id release_date                   character date_of_birth  \\\n",
       "0   975900   /m/03vyhn   2001-08-24                    Akooshay    1958-08-26   \n",
       "1   975900   /m/03vyhn   2001-08-24  Lieutenant Melanie Ballard    1974-08-15   \n",
       "2   975900   /m/03vyhn   2001-08-24         Desolation Williams    1969-06-15   \n",
       "3   975900   /m/03vyhn   2001-08-24          Sgt Jericho Butler    1967-09-12   \n",
       "4   975900   /m/03vyhn   2001-08-24             Bashira Kincaid    1977-09-25   \n",
       "\n",
       "  sex  height           .               actor   age character_map          ..  \\\n",
       "0   F   1.620         NaN      Wanda De Jesus  42.0    /m/0bgchxw  /m/0bgcj3x   \n",
       "1   F   1.780  /m/044038p  Natasha Henstridge  27.0     /m/0jys3m  /m/0bgchn4   \n",
       "2   M   1.727     /m/0x67            Ice Cube  32.0     /m/0jys3g  /m/0bgchn_   \n",
       "3   M   1.750         NaN       Jason Statham  33.0    /m/02vchl6  /m/0bgchnq   \n",
       "4   F   1.650         NaN         Clea DuVall  23.0    /m/02vbb3r  /m/0bgchp9   \n",
       "\n",
       "          ...  ....  \n",
       "0  /m/03wcfv7   NaN  \n",
       "1   /m/0346l4   NaN  \n",
       "2  /m/01vw26l   NaN  \n",
       "3   /m/034hyc   NaN  \n",
       "4   /m/01y9xg   NaN  "
      ]
     },
     "execution_count": 20,
     "metadata": {},
     "output_type": "execute_result"
    }
   ],
   "source": [
    "actors = pd.read_csv(\n",
    "    'data/MovieSummaries/character.metadata.tsv', \n",
    "    sep='\\t', \n",
    "    names=['wiki_id', 'freebase_id', 'release_date', 'character', 'date_of_birth', 'sex', 'height', '.','actor','age','character_map','..','...','....']\n",
    ")\n",
    "actors.head()"
   ]
  },
  {
   "cell_type": "code",
   "execution_count": 21,
   "metadata": {
    "execution": {
     "iopub.execute_input": "2023-11-17T16:19:23.242900Z",
     "iopub.status.busy": "2023-11-17T16:19:23.242480Z",
     "iopub.status.idle": "2023-11-17T16:19:26.622264Z",
     "shell.execute_reply": "2023-11-17T16:19:26.621463Z"
    }
   },
   "outputs": [
    {
     "data": {
      "text/html": [
       "<div>\n",
       "<style scoped>\n",
       "    .dataframe tbody tr th:only-of-type {\n",
       "        vertical-align: middle;\n",
       "    }\n",
       "\n",
       "    .dataframe tbody tr th {\n",
       "        vertical-align: top;\n",
       "    }\n",
       "\n",
       "    .dataframe thead th {\n",
       "        text-align: right;\n",
       "    }\n",
       "</style>\n",
       "<table border=\"1\" class=\"dataframe\">\n",
       "  <thead>\n",
       "    <tr style=\"text-align: right;\">\n",
       "      <th></th>\n",
       "      <th>wiki_id</th>\n",
       "      <th>freebase_id</th>\n",
       "      <th>title</th>\n",
       "      <th>release_date</th>\n",
       "      <th>revenue</th>\n",
       "      <th>runtime</th>\n",
       "      <th>languages</th>\n",
       "      <th>countries</th>\n",
       "      <th>genres</th>\n",
       "    </tr>\n",
       "  </thead>\n",
       "  <tbody>\n",
       "    <tr>\n",
       "      <th>0</th>\n",
       "      <td>975900</td>\n",
       "      <td>/m/03vyhn</td>\n",
       "      <td>Ghosts of Mars</td>\n",
       "      <td>2001-08-24</td>\n",
       "      <td>14010832.0</td>\n",
       "      <td>98.0</td>\n",
       "      <td>[English Language]</td>\n",
       "      <td>[United States of America]</td>\n",
       "      <td>[Thriller, Science Fiction, Horror, Adventure,...</td>\n",
       "    </tr>\n",
       "    <tr>\n",
       "      <th>1</th>\n",
       "      <td>3196793</td>\n",
       "      <td>/m/08yl5d</td>\n",
       "      <td>Getting Away with Murder: The JonBenét Ramsey ...</td>\n",
       "      <td>2000-02-16</td>\n",
       "      <td>NaN</td>\n",
       "      <td>95.0</td>\n",
       "      <td>[English Language]</td>\n",
       "      <td>[United States of America]</td>\n",
       "      <td>[Mystery, Biographical film, Drama, Crime Drama]</td>\n",
       "    </tr>\n",
       "    <tr>\n",
       "      <th>2</th>\n",
       "      <td>28463795</td>\n",
       "      <td>/m/0crgdbh</td>\n",
       "      <td>Brun bitter</td>\n",
       "      <td>1988</td>\n",
       "      <td>NaN</td>\n",
       "      <td>83.0</td>\n",
       "      <td>[Norwegian Language]</td>\n",
       "      <td>[Norway]</td>\n",
       "      <td>[Crime Fiction, Drama]</td>\n",
       "    </tr>\n",
       "    <tr>\n",
       "      <th>3</th>\n",
       "      <td>9363483</td>\n",
       "      <td>/m/0285_cd</td>\n",
       "      <td>White Of The Eye</td>\n",
       "      <td>1987</td>\n",
       "      <td>NaN</td>\n",
       "      <td>110.0</td>\n",
       "      <td>[English Language]</td>\n",
       "      <td>[United Kingdom]</td>\n",
       "      <td>[Thriller, Erotic thriller, Psychological thri...</td>\n",
       "    </tr>\n",
       "    <tr>\n",
       "      <th>4</th>\n",
       "      <td>261236</td>\n",
       "      <td>/m/01mrr1</td>\n",
       "      <td>A Woman in Flames</td>\n",
       "      <td>1983</td>\n",
       "      <td>NaN</td>\n",
       "      <td>106.0</td>\n",
       "      <td>[German Language]</td>\n",
       "      <td>[Germany]</td>\n",
       "      <td>[Drama]</td>\n",
       "    </tr>\n",
       "  </tbody>\n",
       "</table>\n",
       "</div>"
      ],
      "text/plain": [
       "    wiki_id freebase_id                                              title  \\\n",
       "0    975900   /m/03vyhn                                     Ghosts of Mars   \n",
       "1   3196793   /m/08yl5d  Getting Away with Murder: The JonBenét Ramsey ...   \n",
       "2  28463795  /m/0crgdbh                                        Brun bitter   \n",
       "3   9363483  /m/0285_cd                                   White Of The Eye   \n",
       "4    261236   /m/01mrr1                                  A Woman in Flames   \n",
       "\n",
       "  release_date     revenue  runtime             languages  \\\n",
       "0   2001-08-24  14010832.0     98.0    [English Language]   \n",
       "1   2000-02-16         NaN     95.0    [English Language]   \n",
       "2         1988         NaN     83.0  [Norwegian Language]   \n",
       "3         1987         NaN    110.0    [English Language]   \n",
       "4         1983         NaN    106.0     [German Language]   \n",
       "\n",
       "                    countries  \\\n",
       "0  [United States of America]   \n",
       "1  [United States of America]   \n",
       "2                    [Norway]   \n",
       "3            [United Kingdom]   \n",
       "4                   [Germany]   \n",
       "\n",
       "                                              genres  \n",
       "0  [Thriller, Science Fiction, Horror, Adventure,...  \n",
       "1   [Mystery, Biographical film, Drama, Crime Drama]  \n",
       "2                             [Crime Fiction, Drama]  \n",
       "3  [Thriller, Erotic thriller, Psychological thri...  \n",
       "4                                            [Drama]  "
      ]
     },
     "execution_count": 21,
     "metadata": {},
     "output_type": "execute_result"
    }
   ],
   "source": [
    "map_dict_to_list = lambda x: [value for key, value in eval(x).items()]\n",
    "movies['languages'] = movies['languages'].apply(map_dict_to_list)\n",
    "movies['countries'] = movies['countries'].apply(map_dict_to_list)\n",
    "movies['genres'] = movies['genres'].apply(map_dict_to_list)\n",
    "movies.head()"
   ]
  },
  {
   "cell_type": "markdown",
   "metadata": {},
   "source": [
    "### Determine which actors bring in the most money\n"
   ]
  },
  {
   "cell_type": "code",
   "execution_count": 22,
   "metadata": {
    "execution": {
     "iopub.execute_input": "2023-11-17T16:19:26.625052Z",
     "iopub.status.busy": "2023-11-17T16:19:26.624602Z",
     "iopub.status.idle": "2023-11-17T16:19:27.212640Z",
     "shell.execute_reply": "2023-11-17T16:19:27.211922Z"
    }
   },
   "outputs": [
    {
     "data": {
      "text/html": [
       "<div>\n",
       "<style scoped>\n",
       "    .dataframe tbody tr th:only-of-type {\n",
       "        vertical-align: middle;\n",
       "    }\n",
       "\n",
       "    .dataframe tbody tr th {\n",
       "        vertical-align: top;\n",
       "    }\n",
       "\n",
       "    .dataframe thead th {\n",
       "        text-align: right;\n",
       "    }\n",
       "</style>\n",
       "<table border=\"1\" class=\"dataframe\">\n",
       "  <thead>\n",
       "    <tr style=\"text-align: right;\">\n",
       "      <th></th>\n",
       "      <th>actor</th>\n",
       "      <th>bo_revenue</th>\n",
       "      <th>Actor Count</th>\n",
       "      <th>languages</th>\n",
       "      <th>sex</th>\n",
       "    </tr>\n",
       "  </thead>\n",
       "  <tbody>\n",
       "    <tr>\n",
       "      <th>0</th>\n",
       "      <td>Warwick Davis</td>\n",
       "      <td>1.293016e+10</td>\n",
       "      <td>19</td>\n",
       "      <td>[Croatian language, English Language]</td>\n",
       "      <td>M</td>\n",
       "    </tr>\n",
       "    <tr>\n",
       "      <th>19</th>\n",
       "      <td>Samuel L. Jackson</td>\n",
       "      <td>1.278943e+10</td>\n",
       "      <td>72</td>\n",
       "      <td>[Russian Language, English Language]</td>\n",
       "      <td>M</td>\n",
       "    </tr>\n",
       "    <tr>\n",
       "      <th>91</th>\n",
       "      <td>Frank Welker</td>\n",
       "      <td>1.028744e+10</td>\n",
       "      <td>61</td>\n",
       "      <td>[English Language, Spanish Language]</td>\n",
       "      <td>M</td>\n",
       "    </tr>\n",
       "    <tr>\n",
       "      <th>152</th>\n",
       "      <td>Alan Rickman</td>\n",
       "      <td>1.020871e+10</td>\n",
       "      <td>29</td>\n",
       "      <td>[Croatian language, English Language]</td>\n",
       "      <td>M</td>\n",
       "    </tr>\n",
       "    <tr>\n",
       "      <th>181</th>\n",
       "      <td>Robbie Coltrane</td>\n",
       "      <td>1.009465e+10</td>\n",
       "      <td>30</td>\n",
       "      <td>[Croatian language, English Language]</td>\n",
       "      <td>M</td>\n",
       "    </tr>\n",
       "  </tbody>\n",
       "</table>\n",
       "</div>"
      ],
      "text/plain": [
       "                 actor    bo_revenue  Actor Count  \\\n",
       "0        Warwick Davis  1.293016e+10           19   \n",
       "19   Samuel L. Jackson  1.278943e+10           72   \n",
       "91        Frank Welker  1.028744e+10           61   \n",
       "152       Alan Rickman  1.020871e+10           29   \n",
       "181    Robbie Coltrane  1.009465e+10           30   \n",
       "\n",
       "                                 languages sex  \n",
       "0    [Croatian language, English Language]   M  \n",
       "19    [Russian Language, English Language]   M  \n",
       "91    [English Language, Spanish Language]   M  \n",
       "152  [Croatian language, English Language]   M  \n",
       "181  [Croatian language, English Language]   M  "
      ]
     },
     "execution_count": 22,
     "metadata": {},
     "output_type": "execute_result"
    }
   ],
   "source": [
    "# Merge the two datas\n",
    "df_merged = actors.merge(movies, on=['wiki_id'], how='inner')\n",
    "\n",
    "# Clean data of movies without box offic revenue\n",
    "df_merged = df_merged.dropna(subset=['revenue'])\n",
    "\n",
    "# Determine the actor and sum the box office revenue\n",
    "actor_totalRevenue = df_merged.groupby(['actor'])['revenue'].agg(['sum', 'count']).reset_index()\n",
    "actor_totalRevenue.columns = ['actor', 'bo_revenue', 'Actor Count']\n",
    "\n",
    "# Sort the actor_revenue DataFrame in descending order\n",
    "actor_revenue_sort = actor_totalRevenue.sort_values(by='bo_revenue', ascending=False)\n",
    "\n",
    "#Extract only the top 20 best actors\n",
    "actor_top20 = actor_revenue_sort.head(20)\n",
    "\n",
    "# Merge the top 20 actors with original datas\n",
    "top20_actor_data = actor_top20.merge(df_merged[['actor', 'languages','sex']], on='actor', how='left')\n",
    "top20_actor_data = top20_actor_data.drop_duplicates(subset = ['actor'])\n",
    "top20_actor_data.head()"
   ]
  },
  {
   "cell_type": "code",
   "execution_count": 23,
   "metadata": {
    "execution": {
     "iopub.execute_input": "2023-11-17T16:19:27.215129Z",
     "iopub.status.busy": "2023-11-17T16:19:27.214929Z",
     "iopub.status.idle": "2023-11-17T16:19:27.470242Z",
     "shell.execute_reply": "2023-11-17T16:19:27.469542Z"
    }
   },
   "outputs": [
    {
     "data": {
      "image/png": "[encoded data removed]",
      "text/plain": [
       "<Figure size 1200x600 with 1 Axes>"
      ]
     },
     "metadata": {},
     "output_type": "display_data"
    }
   ],
   "source": [
    "# Plot the data above\n",
    "actor_names = top20_actor_data['actor']\n",
    "revenues_total = top20_actor_data['bo_revenue']\n",
    "\n",
    "plt.figure(figsize=(12, 6))\n",
    "plt.plot(actor_names, revenues_total)\n",
    "plt.xlabel('Actor Names')\n",
    "plt.ylabel('Total Box Office Revenue')\n",
    "plt.title('Top 10 Actors by Box Office Revenue')\n",
    "plt.xticks(rotation=45, ha='right')  # Rotate the actor names for better readability\n",
    "\n",
    "plt.tight_layout()\n",
    "plt.show()\n",
    "\n"
   ]
  },
  {
   "cell_type": "markdown",
   "metadata": {},
   "source": [
    "In the data above, we are ranking the actors according to the sum of box office revenue of the movies they acted in."
   ]
  },
  {
   "cell_type": "markdown",
   "metadata": {},
   "source": [
    "### Study the main lead actors obtaining the highest revenue"
   ]
  },
  {
   "cell_type": "code",
   "execution_count": 24,
   "metadata": {
    "execution": {
     "iopub.execute_input": "2023-11-17T16:19:27.473412Z",
     "iopub.status.busy": "2023-11-17T16:19:27.472916Z",
     "iopub.status.idle": "2023-11-17T16:19:28.401841Z",
     "shell.execute_reply": "2023-11-17T16:19:28.401119Z"
    }
   },
   "outputs": [],
   "source": [
    "def calculater_importance(x):\n",
    "    a = 0\n",
    "    for w in x[\"adj\"]:\n",
    "        a += w.isalpha()\n",
    "    for w in x[\"active\"]:\n",
    "        a += w.isalpha()\n",
    "    for w in x[\"patient\"]:\n",
    "        a += w.isalpha()\n",
    "    return a\n",
    "\n",
    "characters['importance'] = characters.apply(calculater_importance, axis=1)\n",
    "\n",
    "characters_with_importance = characters[['wiki_id', 'character', 'importance']]"
   ]
  },
  {
   "cell_type": "code",
   "execution_count": 25,
   "metadata": {
    "execution": {
     "iopub.execute_input": "2023-11-17T16:19:28.404959Z",
     "iopub.status.busy": "2023-11-17T16:19:28.404688Z",
     "iopub.status.idle": "2023-11-17T16:19:28.448566Z",
     "shell.execute_reply": "2023-11-17T16:19:28.447889Z"
    }
   },
   "outputs": [
    {
     "name": "stderr",
     "output_type": "stream",
     "text": [
      "/tmp/ipykernel_2270/1073324314.py:1: SettingWithCopyWarning: \n",
      "A value is trying to be set on a copy of a slice from a DataFrame.\n",
      "Try using .loc[row_indexer,col_indexer] = value instead\n",
      "\n",
      "See the caveats in the documentation: https://pandas.pydata.org/pandas-docs/stable/user_guide/indexing.html#returning-a-view-versus-a-copy\n",
      "  characters_with_importance['importance_share'] = characters_with_importance['importance'] / characters_with_importance.groupby('wiki_id')['importance'].transform('sum')\n",
      "/tmp/ipykernel_2270/1073324314.py:2: SettingWithCopyWarning: \n",
      "A value is trying to be set on a copy of a slice from a DataFrame.\n",
      "Try using .loc[row_indexer,col_indexer] = value instead\n",
      "\n",
      "See the caveats in the documentation: https://pandas.pydata.org/pandas-docs/stable/user_guide/indexing.html#returning-a-view-versus-a-copy\n",
      "  characters_with_importance['is_important'] = characters_with_importance['importance_share'] >= 0.2\n"
     ]
    },
    {
     "data": {
      "text/html": [
       "<div>\n",
       "<style scoped>\n",
       "    .dataframe tbody tr th:only-of-type {\n",
       "        vertical-align: middle;\n",
       "    }\n",
       "\n",
       "    .dataframe tbody tr th {\n",
       "        vertical-align: top;\n",
       "    }\n",
       "\n",
       "    .dataframe thead th {\n",
       "        text-align: right;\n",
       "    }\n",
       "</style>\n",
       "<table border=\"1\" class=\"dataframe\">\n",
       "  <thead>\n",
       "    <tr style=\"text-align: right;\">\n",
       "      <th></th>\n",
       "      <th>wiki_id</th>\n",
       "      <th>character</th>\n",
       "      <th>importance</th>\n",
       "      <th>importance_share</th>\n",
       "      <th>is_important</th>\n",
       "    </tr>\n",
       "  </thead>\n",
       "  <tbody>\n",
       "    <tr>\n",
       "      <th>12514</th>\n",
       "      <td>33010153</td>\n",
       "      <td>Stalin</td>\n",
       "      <td>7</td>\n",
       "      <td>0.700000</td>\n",
       "      <td>True</td>\n",
       "    </tr>\n",
       "    <tr>\n",
       "      <th>8298</th>\n",
       "      <td>5331654</td>\n",
       "      <td>Sarah</td>\n",
       "      <td>50</td>\n",
       "      <td>0.409836</td>\n",
       "      <td>True</td>\n",
       "    </tr>\n",
       "    <tr>\n",
       "      <th>16466</th>\n",
       "      <td>7944229</td>\n",
       "      <td>Duck</td>\n",
       "      <td>8</td>\n",
       "      <td>0.307692</td>\n",
       "      <td>True</td>\n",
       "    </tr>\n",
       "    <tr>\n",
       "      <th>18681</th>\n",
       "      <td>16855103</td>\n",
       "      <td>Hilda</td>\n",
       "      <td>3</td>\n",
       "      <td>0.103448</td>\n",
       "      <td>False</td>\n",
       "    </tr>\n",
       "    <tr>\n",
       "      <th>29041</th>\n",
       "      <td>4759392</td>\n",
       "      <td>Bae Buffgun</td>\n",
       "      <td>3</td>\n",
       "      <td>0.333333</td>\n",
       "      <td>True</td>\n",
       "    </tr>\n",
       "    <tr>\n",
       "      <th>41548</th>\n",
       "      <td>24050844</td>\n",
       "      <td>Jay</td>\n",
       "      <td>3</td>\n",
       "      <td>1.000000</td>\n",
       "      <td>True</td>\n",
       "    </tr>\n",
       "    <tr>\n",
       "      <th>28843</th>\n",
       "      <td>2201333</td>\n",
       "      <td>Mark</td>\n",
       "      <td>4</td>\n",
       "      <td>0.114286</td>\n",
       "      <td>False</td>\n",
       "    </tr>\n",
       "    <tr>\n",
       "      <th>72432</th>\n",
       "      <td>349874</td>\n",
       "      <td>Aylward</td>\n",
       "      <td>8</td>\n",
       "      <td>1.000000</td>\n",
       "      <td>True</td>\n",
       "    </tr>\n",
       "    <tr>\n",
       "      <th>45302</th>\n",
       "      <td>15488314</td>\n",
       "      <td>Dani</td>\n",
       "      <td>3</td>\n",
       "      <td>0.083333</td>\n",
       "      <td>False</td>\n",
       "    </tr>\n",
       "    <tr>\n",
       "      <th>46778</th>\n",
       "      <td>6076089</td>\n",
       "      <td>Kate</td>\n",
       "      <td>7</td>\n",
       "      <td>0.200000</td>\n",
       "      <td>True</td>\n",
       "    </tr>\n",
       "  </tbody>\n",
       "</table>\n",
       "</div>"
      ],
      "text/plain": [
       "        wiki_id    character  importance  importance_share  is_important\n",
       "12514  33010153       Stalin           7          0.700000          True\n",
       "8298    5331654        Sarah          50          0.409836          True\n",
       "16466   7944229         Duck           8          0.307692          True\n",
       "18681  16855103        Hilda           3          0.103448         False\n",
       "29041   4759392  Bae Buffgun           3          0.333333          True\n",
       "41548  24050844          Jay           3          1.000000          True\n",
       "28843   2201333         Mark           4          0.114286         False\n",
       "72432    349874      Aylward           8          1.000000          True\n",
       "45302  15488314         Dani           3          0.083333         False\n",
       "46778   6076089         Kate           7          0.200000          True"
      ]
     },
     "execution_count": 25,
     "metadata": {},
     "output_type": "execute_result"
    }
   ],
   "source": [
    "characters_with_importance['importance_share'] = characters_with_importance['importance'] / characters_with_importance.groupby('wiki_id')['importance'].transform('sum')\n",
    "characters_with_importance['is_important'] = characters_with_importance['importance_share'] >= 0.2\n",
    "characters_with_importance.sample(10)"
   ]
  },
  {
   "cell_type": "code",
   "execution_count": 26,
   "metadata": {
    "execution": {
     "iopub.execute_input": "2023-11-17T16:19:28.451228Z",
     "iopub.status.busy": "2023-11-17T16:19:28.450911Z",
     "iopub.status.idle": "2023-11-17T16:19:28.540148Z",
     "shell.execute_reply": "2023-11-17T16:19:28.539461Z"
    }
   },
   "outputs": [
    {
     "data": {
      "text/html": [
       "<div>\n",
       "<style scoped>\n",
       "    .dataframe tbody tr th:only-of-type {\n",
       "        vertical-align: middle;\n",
       "    }\n",
       "\n",
       "    .dataframe tbody tr th {\n",
       "        vertical-align: top;\n",
       "    }\n",
       "\n",
       "    .dataframe thead th {\n",
       "        text-align: right;\n",
       "    }\n",
       "</style>\n",
       "<table border=\"1\" class=\"dataframe\">\n",
       "  <thead>\n",
       "    <tr style=\"text-align: right;\">\n",
       "      <th></th>\n",
       "      <th>actor</th>\n",
       "      <th>sum</th>\n",
       "      <th>count</th>\n",
       "    </tr>\n",
       "  </thead>\n",
       "  <tbody>\n",
       "    <tr>\n",
       "      <th>2263</th>\n",
       "      <td>Tom Cruise</td>\n",
       "      <td>5.690064e+09</td>\n",
       "      <td>19</td>\n",
       "    </tr>\n",
       "    <tr>\n",
       "      <th>520</th>\n",
       "      <td>Daniel Radcliffe</td>\n",
       "      <td>5.058613e+09</td>\n",
       "      <td>6</td>\n",
       "    </tr>\n",
       "    <tr>\n",
       "      <th>2265</th>\n",
       "      <td>Tom Hanks</td>\n",
       "      <td>4.577922e+09</td>\n",
       "      <td>18</td>\n",
       "    </tr>\n",
       "    <tr>\n",
       "      <th>1409</th>\n",
       "      <td>Leonardo DiCaprio</td>\n",
       "      <td>4.059193e+09</td>\n",
       "      <td>8</td>\n",
       "    </tr>\n",
       "    <tr>\n",
       "      <th>1595</th>\n",
       "      <td>Mel Gibson</td>\n",
       "      <td>4.048504e+09</td>\n",
       "      <td>22</td>\n",
       "    </tr>\n",
       "  </tbody>\n",
       "</table>\n",
       "</div>"
      ],
      "text/plain": [
       "                  actor           sum  count\n",
       "2263         Tom Cruise  5.690064e+09     19\n",
       "520    Daniel Radcliffe  5.058613e+09      6\n",
       "2265          Tom Hanks  4.577922e+09     18\n",
       "1409  Leonardo DiCaprio  4.059193e+09      8\n",
       "1595         Mel Gibson  4.048504e+09     22"
      ]
     },
     "execution_count": 26,
     "metadata": {},
     "output_type": "execute_result"
    }
   ],
   "source": [
    "df_charac_actor = df_merged[['wiki_id', 'character','actor','revenue']]\n",
    "\n",
    "# Include characters and actors together in the same dataset\n",
    "character_actor = df_charac_actor.merge(characters_with_importance, on=['wiki_id', 'character'], how='left')\n",
    "\n",
    "# Merge only the main charac of movies\\n\",\n",
    "main_character = character_actor[character_actor['is_important'] == True]\n",
    "\n",
    "#Add up the Box office revenue and count the occurance of movie appearance\n",
    "main_charac_mergedBOR = main_character.groupby(['actor'])['revenue'].agg(['sum', 'count']).reset_index()\n",
    "\n",
    "main_charac_sort = main_charac_mergedBOR.sort_values(by='sum', ascending=False)\n",
    "\n",
    "main_charac_top20 = main_charac_sort.head(20)\n",
    "main_charac_top20.head()"
   ]
  },
  {
   "cell_type": "code",
   "execution_count": 27,
   "metadata": {
    "execution": {
     "iopub.execute_input": "2023-11-17T16:19:28.542993Z",
     "iopub.status.busy": "2023-11-17T16:19:28.542476Z",
     "iopub.status.idle": "2023-11-17T16:19:28.752434Z",
     "shell.execute_reply": "2023-11-17T16:19:28.751699Z"
    }
   },
   "outputs": [
    {
     "data": {
      "image/png": "[encoded data removed]",
      "text/plain": [
       "<Figure size 1200x600 with 1 Axes>"
      ]
     },
     "metadata": {},
     "output_type": "display_data"
    }
   ],
   "source": [
    "# Plot the charts for main actors\\n\",\n",
    "main_charac_top20_names = main_charac_top20['actor']\n",
    "main_charac_revenue = main_charac_top20['sum']\n",
    "\n",
    "plt.figure(figsize=(12, 6))\n",
    "plt.plot(main_charac_top20_names,main_charac_revenue)\n",
    "plt.xlabel('Actor Names')\n",
    "plt.ylabel('Box Office Revenue')\n",
    "plt.title('Top 20 Main Characters by Box average Office Revenue')\n",
    "plt.xticks(rotation=45, ha='right')  # Rotate the actor names for better readability\n",
    "\n",
    "plt.show()"
   ]
  },
  {
   "cell_type": "markdown",
   "metadata": {},
   "source": [
    "The top of the actors changed, and we see, that the actors look like those who we would expect to be successful (generally subjectively more famous than the previous top)."
   ]
  },
  {
   "cell_type": "markdown",
   "metadata": {},
   "source": [
    "### Male or female perform better in generating box office revenue?"
   ]
  },
  {
   "cell_type": "code",
   "execution_count": 28,
   "metadata": {
    "execution": {
     "iopub.execute_input": "2023-11-17T16:19:28.755115Z",
     "iopub.status.busy": "2023-11-17T16:19:28.754911Z",
     "iopub.status.idle": "2023-11-17T16:19:28.893733Z",
     "shell.execute_reply": "2023-11-17T16:19:28.893050Z"
    }
   },
   "outputs": [
    {
     "data": {
      "text/html": [
       "<div>\n",
       "<style scoped>\n",
       "    .dataframe tbody tr th:only-of-type {\n",
       "        vertical-align: middle;\n",
       "    }\n",
       "\n",
       "    .dataframe tbody tr th {\n",
       "        vertical-align: top;\n",
       "    }\n",
       "\n",
       "    .dataframe thead th {\n",
       "        text-align: right;\n",
       "    }\n",
       "</style>\n",
       "<table border=\"1\" class=\"dataframe\">\n",
       "  <thead>\n",
       "    <tr style=\"text-align: right;\">\n",
       "      <th></th>\n",
       "      <th>actor</th>\n",
       "      <th>bo_revenue</th>\n",
       "      <th>Actor Count</th>\n",
       "      <th>sex</th>\n",
       "    </tr>\n",
       "  </thead>\n",
       "  <tbody>\n",
       "    <tr>\n",
       "      <th>0</th>\n",
       "      <td>Warwick Davis</td>\n",
       "      <td>1.293016e+10</td>\n",
       "      <td>19</td>\n",
       "      <td>M</td>\n",
       "    </tr>\n",
       "    <tr>\n",
       "      <th>31</th>\n",
       "      <td>Samuel L. Jackson</td>\n",
       "      <td>1.278943e+10</td>\n",
       "      <td>72</td>\n",
       "      <td>M</td>\n",
       "    </tr>\n",
       "    <tr>\n",
       "      <th>137</th>\n",
       "      <td>Frank Welker</td>\n",
       "      <td>1.028744e+10</td>\n",
       "      <td>61</td>\n",
       "      <td>M</td>\n",
       "    </tr>\n",
       "    <tr>\n",
       "      <th>320</th>\n",
       "      <td>Alan Rickman</td>\n",
       "      <td>1.020871e+10</td>\n",
       "      <td>29</td>\n",
       "      <td>M</td>\n",
       "    </tr>\n",
       "    <tr>\n",
       "      <th>362</th>\n",
       "      <td>Robbie Coltrane</td>\n",
       "      <td>1.009465e+10</td>\n",
       "      <td>30</td>\n",
       "      <td>M</td>\n",
       "    </tr>\n",
       "  </tbody>\n",
       "</table>\n",
       "</div>"
      ],
      "text/plain": [
       "                 actor    bo_revenue  Actor Count sex\n",
       "0        Warwick Davis  1.293016e+10           19   M\n",
       "31   Samuel L. Jackson  1.278943e+10           72   M\n",
       "137       Frank Welker  1.028744e+10           61   M\n",
       "320       Alan Rickman  1.020871e+10           29   M\n",
       "362    Robbie Coltrane  1.009465e+10           30   M"
      ]
     },
     "execution_count": 28,
     "metadata": {},
     "output_type": "execute_result"
    }
   ],
   "source": [
    "gender_actor_data = actor_revenue_sort.merge(actors[['actor', 'sex']], on='actor', how='left')\n",
    "gender_actor_data = gender_actor_data.drop_duplicates(subset = ['actor'])\n",
    "gender_actor_data.head()"
   ]
  },
  {
   "cell_type": "markdown",
   "metadata": {},
   "source": []
  },
  {
   "cell_type": "code",
   "execution_count": 29,
   "metadata": {
    "execution": {
     "iopub.execute_input": "2023-11-17T16:19:28.896734Z",
     "iopub.status.busy": "2023-11-17T16:19:28.896248Z",
     "iopub.status.idle": "2023-11-17T16:19:29.073264Z",
     "shell.execute_reply": "2023-11-17T16:19:29.072542Z"
    }
   },
   "outputs": [
    {
     "data": {
      "image/png": "[encoded data removed]",
      "text/plain": [
       "<Figure size 1000x1000 with 1 Axes>"
      ]
     },
     "metadata": {},
     "output_type": "display_data"
    }
   ],
   "source": [
    "# Box plot for revenue between genders\n",
    "plt.figure(figsize=(10, 10))\n",
    "gender_boxplot = sns.boxplot(x=\"sex\", y=\"bo_revenue\", data=gender_actor_data.loc[gender_actor_data['sex'].isin(['M','F'])])\n",
    "\n",
    "# Set labels\n",
    "plt.ylabel(\"Movie box office revenue($)\")\n",
    "plt.title(\"Box office revenue between genders\")\n",
    "plt.ylim(0, 500000000)\n",
    "          \n",
    "#Show plot\n",
    "plt.tight_layout()\n",
    "plt.show()\n",
    "\n",
    "# Given the variance and the 25th percentile, 75th percentile and medan, male actors drive higher box office revenue.\""
   ]
  },
  {
   "cell_type": "markdown",
   "metadata": {},
   "source": [
    "### Study the language used in top 50 films / Which language drive the highest revenue?"
   ]
  },
  {
   "cell_type": "code",
   "execution_count": 30,
   "metadata": {
    "execution": {
     "iopub.execute_input": "2023-11-17T16:19:29.076305Z",
     "iopub.status.busy": "2023-11-17T16:19:29.076064Z",
     "iopub.status.idle": "2023-11-17T16:19:29.632703Z",
     "shell.execute_reply": "2023-11-17T16:19:29.631962Z"
    }
   },
   "outputs": [
    {
     "data": {
      "image/png": "[encoded data removed]",
      "text/plain": [
       "<Figure size 1200x600 with 1 Axes>"
      ]
     },
     "metadata": {},
     "output_type": "display_data"
    }
   ],
   "source": [
    "# Extract the top 100 movies\n",
    "film_sort = df_merged[['countries','languages','revenue','wiki_id']]\n",
    "film_sort = film_sort.drop_duplicates(subset = ['wiki_id'])\n",
    "film_sort = film_sort.sort_values(by='revenue', ascending=False)\n",
    "top100film = film_sort.head(100)\n",
    "\n",
    "# Split the language into new data frames\\\n",
    "df_split_languages = top100film.explode('languages')\n",
    "\n",
    "# Count the occurance of the languages\n",
    "language_counts = df_split_languages['languages'].value_counts()\n",
    "df_language_counts = pd.DataFrame({'Language': language_counts.index, 'Count': language_counts.values})\n",
    "\n",
    "# Plot the data\n",
    "df_language_counts.plot(kind='bar', x='Language', y='Count', figsize=(12, 6),log=True)\n",
    "plt.title('How many movies in the given language are in top 100 movies by revenue')\n",
    "plt.xlabel('Language')\n",
    "plt.ylabel('Count (logscale)')\n",
    "plt.xticks(rotation=45, ha='right')\n",
    "plt.show()"
   ]
  },
  {
   "cell_type": "markdown",
   "metadata": {},
   "source": [
    "### Study the genre of movies that earn the highest revenue."
   ]
  },
  {
   "cell_type": "code",
   "execution_count": 31,
   "metadata": {
    "execution": {
     "iopub.execute_input": "2023-11-17T16:19:29.635568Z",
     "iopub.status.busy": "2023-11-17T16:19:29.635148Z",
     "iopub.status.idle": "2023-11-17T16:19:29.810650Z",
     "shell.execute_reply": "2023-11-17T16:19:29.809922Z"
    }
   },
   "outputs": [
    {
     "data": {
      "text/plain": [
       "([0, 1, 2, 3, 4, 5, 6, 7, 8, 9],\n",
       " [Text(0, 0, ''),\n",
       "  Text(0, 0, ''),\n",
       "  Text(0, 0, ''),\n",
       "  Text(0, 0, ''),\n",
       "  Text(0, 0, ''),\n",
       "  Text(0, 0, ''),\n",
       "  Text(0, 0, ''),\n",
       "  Text(0, 0, ''),\n",
       "  Text(0, 0, ''),\n",
       "  Text(0, 0, '')])"
      ]
     },
     "execution_count": 31,
     "metadata": {},
     "output_type": "execute_result"
    },
    {
     "data": {
      "image/png": "[encoded data removed]",
      "text/plain": [
       "<Figure size 640x480 with 1 Axes>"
      ]
     },
     "metadata": {},
     "output_type": "display_data"
    }
   ],
   "source": [
    "#Clean data to remove repeated movies\n",
    "df_clean_split_genres = df_merged[['title','genres','revenue','wiki_id']]\n",
    "df_clean_split_genres = df_clean_split_genres.drop_duplicates(subset = ['wiki_id'])\n",
    "\n",
    "# Split the genre into new data frames\n",
    "df_split_genre = df_clean_split_genres.explode('genres')[['title', 'revenue', 'genres']]\n",
    "\n",
    "# Find top genres\n",
    "top_genres = df_split_genre.groupby('genres').size().reset_index().sort_values(by=0, ascending=False)\n",
    "top_genres = top_genres.head(10)['genres'].values\n",
    "\n",
    "# Determine the actor and sum the box office revenue\n",
    "genre_totalRevenue = df_split_genre[df_split_genre['genres'].isin(top_genres)].groupby('genres')['revenue'].median().reset_index()\n",
    "\n",
    "# Sort the BOR in ascending order\n",
    "genre_totalRevenue = genre_totalRevenue.sort_values(by='revenue', ascending=False)\n",
    "\n",
    "genre = genre_totalRevenue['genres']\n",
    "genreRevenue = genre_totalRevenue['revenue']\n",
    "\n",
    "#Plot the charts\n",
    "plt.plot(genre, genreRevenue)\n",
    "plt.xlabel('Genre')\n",
    "plt.ylabel('Box office revenue')\n",
    "plt.title('Top 10 popular Genres sorted by median Box Office Revenue')\n",
    "plt.xticks(rotation=45, ha='right')  # Rotate the actor names for better readability"
   ]
  },
  {
   "cell_type": "markdown",
   "metadata": {},
   "source": [
    "# Genre prediction using clusters"
   ]
  },
  {
   "cell_type": "code",
   "execution_count": null,
   "metadata": {},
   "outputs": [],
   "source": []
  },
  {
   "cell_type": "markdown",
   "metadata": {},
   "source": [
    "# Revenue prediction using clusters"
   ]
  },
  {
   "cell_type": "markdown",
   "metadata": {},
   "source": [
    "First, We'll make a table of what archetypal characters each film contains."
   ]
  },
  {
   "cell_type": "code",
   "execution_count": 32,
   "metadata": {
    "execution": {
     "iopub.execute_input": "2023-11-17T16:19:29.814034Z",
     "iopub.status.busy": "2023-11-17T16:19:29.813602Z",
     "iopub.status.idle": "2023-11-17T16:19:30.059629Z",
     "shell.execute_reply": "2023-11-17T16:19:30.059050Z"
    }
   },
   "outputs": [],
   "source": [
    "colnames = [\"wiki_id\",\"Freebase movie ID\",\" Movie name\",\"Movie release date\", \"MovieBoxOfficeRevenue\",\"Movie runtime\",\"Movie languages\",\"Movie countries\",\"Movie genres\" ]\n",
    "df_movies = pd.read_csv(\"data/MovieSummaries/movie.metadata.tsv\", sep='\\t',names= colnames)"
   ]
  },
  {
   "cell_type": "code",
   "execution_count": 33,
   "metadata": {
    "execution": {
     "iopub.execute_input": "2023-11-17T16:19:30.062798Z",
     "iopub.status.busy": "2023-11-17T16:19:30.062315Z",
     "iopub.status.idle": "2023-11-17T16:19:30.199025Z",
     "shell.execute_reply": "2023-11-17T16:19:30.198410Z"
    }
   },
   "outputs": [],
   "source": [
    "# read data\n",
    "df_clusters = pd.read_csv(\"data/character_clusters.csv\")\n",
    "df_clusters = df_clusters.drop(df_clusters.columns[[0,3,4,5]], axis=1) # dropping unneccesary columns\n"
   ]
  },
  {
   "cell_type": "code",
   "execution_count": 34,
   "metadata": {
    "execution": {
     "iopub.execute_input": "2023-11-17T16:19:30.201997Z",
     "iopub.status.busy": "2023-11-17T16:19:30.201590Z",
     "iopub.status.idle": "2023-11-17T16:19:30.271313Z",
     "shell.execute_reply": "2023-11-17T16:19:30.270708Z"
    }
   },
   "outputs": [],
   "source": [
    "# merging datasets\n",
    "df_merged = pd.merge(df_clusters, df_movies, on='wiki_id')"
   ]
  },
  {
   "cell_type": "code",
   "execution_count": 35,
   "metadata": {
    "execution": {
     "iopub.execute_input": "2023-11-17T16:19:30.274558Z",
     "iopub.status.busy": "2023-11-17T16:19:30.274095Z",
     "iopub.status.idle": "2023-11-17T16:19:31.248739Z",
     "shell.execute_reply": "2023-11-17T16:19:31.248033Z"
    }
   },
   "outputs": [],
   "source": [
    "#add column for each archetypes. And they will take binary number.\n",
    "for i in range(1,51):\n",
    "    df_merged['archetype{}'.format(i)]=df_merged['cluster'].map(lambda x: 1 if x== i else 0)"
   ]
  },
  {
   "cell_type": "code",
   "execution_count": 36,
   "metadata": {
    "execution": {
     "iopub.execute_input": "2023-11-17T16:19:31.251837Z",
     "iopub.status.busy": "2023-11-17T16:19:31.251446Z",
     "iopub.status.idle": "2023-11-17T16:19:31.280493Z",
     "shell.execute_reply": "2023-11-17T16:19:31.279921Z"
    }
   },
   "outputs": [],
   "source": [
    "# if the movie include the archetype[i], then the column archetype[i] will take 1 , otherwise 0.\n",
    "def dummy(s):\n",
    "    if sum(s)>0:\n",
    "        return 1\n",
    "    else:\n",
    "        return 0\n",
    "\n",
    "# this is just an opperation for getting Box office value after a groupby operation.\n",
    "def boxoffice(s):\n",
    "    return sum(s)/len(s)\n",
    "\n",
    "string= ''    \n",
    "for i in range(1,51):\n",
    "    string = string + '\\'archetype' +str(i) +'\\':dummy,'\n",
    "string = string[:-1]"
   ]
  },
  {
   "cell_type": "code",
   "execution_count": 37,
   "metadata": {
    "execution": {
     "iopub.execute_input": "2023-11-17T16:19:31.282956Z",
     "iopub.status.busy": "2023-11-17T16:19:31.282770Z",
     "iopub.status.idle": "2023-11-17T16:19:42.170722Z",
     "shell.execute_reply": "2023-11-17T16:19:42.170070Z"
    }
   },
   "outputs": [],
   "source": [
    "df_moviearchetypes = df_merged.groupby('wiki_id').agg({'MovieBoxOfficeRevenue':boxoffice,'archetype1':dummy,'archetype2':dummy,'archetype3':dummy,'archetype4':dummy,'archetype5':dummy,'archetype6':dummy,'archetype7':dummy,'archetype8':dummy,'archetype9':dummy,'archetype10':dummy,'archetype11':dummy,'archetype12':dummy,'archetype13':dummy,'archetype14':dummy,'archetype15':dummy,'archetype16':dummy,'archetype17':dummy,'archetype18':dummy,'archetype19':dummy,'archetype20':dummy,'archetype21':dummy,'archetype22':dummy,'archetype23':dummy,'archetype24':dummy,'archetype25':dummy,'archetype26':dummy,'archetype27':dummy,'archetype28':dummy,'archetype29':dummy,'archetype30':dummy,'archetype31':dummy,'archetype32':dummy,'archetype33':dummy,'archetype34':dummy,'archetype35':dummy,'archetype36':dummy,'archetype37':dummy,'archetype38':dummy,'archetype39':dummy,'archetype40':dummy,'archetype41':dummy,'archetype42':dummy,'archetype43':dummy,'archetype44':dummy,'archetype45':dummy,'archetype46':dummy,'archetype47':dummy,'archetype48':dummy,'archetype49':dummy,'archetype50':dummy})"
   ]
  },
  {
   "cell_type": "code",
   "execution_count": 38,
   "metadata": {
    "execution": {
     "iopub.execute_input": "2023-11-17T16:19:42.173595Z",
     "iopub.status.busy": "2023-11-17T16:19:42.173393Z",
     "iopub.status.idle": "2023-11-17T16:19:42.204634Z",
     "shell.execute_reply": "2023-11-17T16:19:42.204017Z"
    }
   },
   "outputs": [],
   "source": [
    "#drop the raw without Box Office value\n",
    "df_moviearchetypes = df_moviearchetypes.dropna(subset=['MovieBoxOfficeRevenue'])"
   ]
  },
  {
   "cell_type": "code",
   "execution_count": 39,
   "metadata": {
    "execution": {
     "iopub.execute_input": "2023-11-17T16:19:42.207937Z",
     "iopub.status.busy": "2023-11-17T16:19:42.207536Z",
     "iopub.status.idle": "2023-11-17T16:19:42.247574Z",
     "shell.execute_reply": "2023-11-17T16:19:42.246933Z"
    }
   },
   "outputs": [
    {
     "data": {
      "text/html": [
       "<div>\n",
       "<style scoped>\n",
       "    .dataframe tbody tr th:only-of-type {\n",
       "        vertical-align: middle;\n",
       "    }\n",
       "\n",
       "    .dataframe tbody tr th {\n",
       "        vertical-align: top;\n",
       "    }\n",
       "\n",
       "    .dataframe thead th {\n",
       "        text-align: right;\n",
       "    }\n",
       "</style>\n",
       "<table border=\"1\" class=\"dataframe\">\n",
       "  <thead>\n",
       "    <tr style=\"text-align: right;\">\n",
       "      <th></th>\n",
       "      <th>MovieBoxOfficeRevenue</th>\n",
       "      <th>archetype1</th>\n",
       "      <th>archetype2</th>\n",
       "      <th>archetype3</th>\n",
       "      <th>archetype4</th>\n",
       "      <th>archetype5</th>\n",
       "      <th>archetype6</th>\n",
       "      <th>archetype7</th>\n",
       "      <th>archetype8</th>\n",
       "      <th>archetype9</th>\n",
       "      <th>...</th>\n",
       "      <th>archetype41</th>\n",
       "      <th>archetype42</th>\n",
       "      <th>archetype43</th>\n",
       "      <th>archetype44</th>\n",
       "      <th>archetype45</th>\n",
       "      <th>archetype46</th>\n",
       "      <th>archetype47</th>\n",
       "      <th>archetype48</th>\n",
       "      <th>archetype49</th>\n",
       "      <th>archetype50</th>\n",
       "    </tr>\n",
       "    <tr>\n",
       "      <th>wiki_id</th>\n",
       "      <th></th>\n",
       "      <th></th>\n",
       "      <th></th>\n",
       "      <th></th>\n",
       "      <th></th>\n",
       "      <th></th>\n",
       "      <th></th>\n",
       "      <th></th>\n",
       "      <th></th>\n",
       "      <th></th>\n",
       "      <th></th>\n",
       "      <th></th>\n",
       "      <th></th>\n",
       "      <th></th>\n",
       "      <th></th>\n",
       "      <th></th>\n",
       "      <th></th>\n",
       "      <th></th>\n",
       "      <th></th>\n",
       "      <th></th>\n",
       "      <th></th>\n",
       "    </tr>\n",
       "  </thead>\n",
       "  <tbody>\n",
       "    <tr>\n",
       "      <th>9617369</th>\n",
       "      <td>241998151.0</td>\n",
       "      <td>0</td>\n",
       "      <td>1</td>\n",
       "      <td>0</td>\n",
       "      <td>0</td>\n",
       "      <td>0</td>\n",
       "      <td>0</td>\n",
       "      <td>0</td>\n",
       "      <td>0</td>\n",
       "      <td>0</td>\n",
       "      <td>...</td>\n",
       "      <td>0</td>\n",
       "      <td>1</td>\n",
       "      <td>0</td>\n",
       "      <td>0</td>\n",
       "      <td>0</td>\n",
       "      <td>0</td>\n",
       "      <td>1</td>\n",
       "      <td>0</td>\n",
       "      <td>0</td>\n",
       "      <td>0</td>\n",
       "    </tr>\n",
       "    <tr>\n",
       "      <th>803786</th>\n",
       "      <td>340139.0</td>\n",
       "      <td>0</td>\n",
       "      <td>0</td>\n",
       "      <td>0</td>\n",
       "      <td>1</td>\n",
       "      <td>0</td>\n",
       "      <td>0</td>\n",
       "      <td>0</td>\n",
       "      <td>0</td>\n",
       "      <td>0</td>\n",
       "      <td>...</td>\n",
       "      <td>0</td>\n",
       "      <td>0</td>\n",
       "      <td>0</td>\n",
       "      <td>0</td>\n",
       "      <td>0</td>\n",
       "      <td>0</td>\n",
       "      <td>0</td>\n",
       "      <td>0</td>\n",
       "      <td>0</td>\n",
       "      <td>0</td>\n",
       "    </tr>\n",
       "    <tr>\n",
       "      <th>766846</th>\n",
       "      <td>2276900.0</td>\n",
       "      <td>0</td>\n",
       "      <td>0</td>\n",
       "      <td>0</td>\n",
       "      <td>0</td>\n",
       "      <td>0</td>\n",
       "      <td>0</td>\n",
       "      <td>0</td>\n",
       "      <td>0</td>\n",
       "      <td>0</td>\n",
       "      <td>...</td>\n",
       "      <td>0</td>\n",
       "      <td>0</td>\n",
       "      <td>0</td>\n",
       "      <td>0</td>\n",
       "      <td>0</td>\n",
       "      <td>1</td>\n",
       "      <td>0</td>\n",
       "      <td>0</td>\n",
       "      <td>0</td>\n",
       "      <td>0</td>\n",
       "    </tr>\n",
       "    <tr>\n",
       "      <th>12765604</th>\n",
       "      <td>1850000.0</td>\n",
       "      <td>0</td>\n",
       "      <td>0</td>\n",
       "      <td>0</td>\n",
       "      <td>0</td>\n",
       "      <td>0</td>\n",
       "      <td>0</td>\n",
       "      <td>0</td>\n",
       "      <td>0</td>\n",
       "      <td>1</td>\n",
       "      <td>...</td>\n",
       "      <td>0</td>\n",
       "      <td>0</td>\n",
       "      <td>0</td>\n",
       "      <td>0</td>\n",
       "      <td>0</td>\n",
       "      <td>0</td>\n",
       "      <td>0</td>\n",
       "      <td>0</td>\n",
       "      <td>0</td>\n",
       "      <td>0</td>\n",
       "    </tr>\n",
       "    <tr>\n",
       "      <th>8425661</th>\n",
       "      <td>609841637.0</td>\n",
       "      <td>0</td>\n",
       "      <td>0</td>\n",
       "      <td>0</td>\n",
       "      <td>0</td>\n",
       "      <td>0</td>\n",
       "      <td>0</td>\n",
       "      <td>0</td>\n",
       "      <td>0</td>\n",
       "      <td>0</td>\n",
       "      <td>...</td>\n",
       "      <td>0</td>\n",
       "      <td>1</td>\n",
       "      <td>0</td>\n",
       "      <td>0</td>\n",
       "      <td>0</td>\n",
       "      <td>0</td>\n",
       "      <td>0</td>\n",
       "      <td>0</td>\n",
       "      <td>0</td>\n",
       "      <td>0</td>\n",
       "    </tr>\n",
       "    <tr>\n",
       "      <th>106328</th>\n",
       "      <td>172989651.0</td>\n",
       "      <td>0</td>\n",
       "      <td>0</td>\n",
       "      <td>0</td>\n",
       "      <td>0</td>\n",
       "      <td>0</td>\n",
       "      <td>0</td>\n",
       "      <td>0</td>\n",
       "      <td>0</td>\n",
       "      <td>0</td>\n",
       "      <td>...</td>\n",
       "      <td>0</td>\n",
       "      <td>0</td>\n",
       "      <td>0</td>\n",
       "      <td>0</td>\n",
       "      <td>1</td>\n",
       "      <td>0</td>\n",
       "      <td>0</td>\n",
       "      <td>0</td>\n",
       "      <td>0</td>\n",
       "      <td>0</td>\n",
       "    </tr>\n",
       "    <tr>\n",
       "      <th>17182332</th>\n",
       "      <td>6086508.0</td>\n",
       "      <td>1</td>\n",
       "      <td>0</td>\n",
       "      <td>0</td>\n",
       "      <td>0</td>\n",
       "      <td>0</td>\n",
       "      <td>0</td>\n",
       "      <td>0</td>\n",
       "      <td>0</td>\n",
       "      <td>0</td>\n",
       "      <td>...</td>\n",
       "      <td>0</td>\n",
       "      <td>0</td>\n",
       "      <td>0</td>\n",
       "      <td>0</td>\n",
       "      <td>0</td>\n",
       "      <td>0</td>\n",
       "      <td>0</td>\n",
       "      <td>0</td>\n",
       "      <td>1</td>\n",
       "      <td>0</td>\n",
       "    </tr>\n",
       "    <tr>\n",
       "      <th>14169361</th>\n",
       "      <td>14391750.0</td>\n",
       "      <td>0</td>\n",
       "      <td>0</td>\n",
       "      <td>0</td>\n",
       "      <td>0</td>\n",
       "      <td>0</td>\n",
       "      <td>0</td>\n",
       "      <td>0</td>\n",
       "      <td>0</td>\n",
       "      <td>0</td>\n",
       "      <td>...</td>\n",
       "      <td>0</td>\n",
       "      <td>1</td>\n",
       "      <td>0</td>\n",
       "      <td>0</td>\n",
       "      <td>0</td>\n",
       "      <td>0</td>\n",
       "      <td>0</td>\n",
       "      <td>0</td>\n",
       "      <td>0</td>\n",
       "      <td>0</td>\n",
       "    </tr>\n",
       "    <tr>\n",
       "      <th>27434686</th>\n",
       "      <td>1400000.0</td>\n",
       "      <td>0</td>\n",
       "      <td>0</td>\n",
       "      <td>0</td>\n",
       "      <td>0</td>\n",
       "      <td>0</td>\n",
       "      <td>0</td>\n",
       "      <td>0</td>\n",
       "      <td>0</td>\n",
       "      <td>0</td>\n",
       "      <td>...</td>\n",
       "      <td>0</td>\n",
       "      <td>1</td>\n",
       "      <td>1</td>\n",
       "      <td>0</td>\n",
       "      <td>0</td>\n",
       "      <td>0</td>\n",
       "      <td>0</td>\n",
       "      <td>0</td>\n",
       "      <td>0</td>\n",
       "      <td>0</td>\n",
       "    </tr>\n",
       "    <tr>\n",
       "      <th>3185575</th>\n",
       "      <td>142000000.0</td>\n",
       "      <td>0</td>\n",
       "      <td>0</td>\n",
       "      <td>0</td>\n",
       "      <td>0</td>\n",
       "      <td>0</td>\n",
       "      <td>0</td>\n",
       "      <td>0</td>\n",
       "      <td>0</td>\n",
       "      <td>0</td>\n",
       "      <td>...</td>\n",
       "      <td>0</td>\n",
       "      <td>0</td>\n",
       "      <td>0</td>\n",
       "      <td>0</td>\n",
       "      <td>0</td>\n",
       "      <td>0</td>\n",
       "      <td>0</td>\n",
       "      <td>0</td>\n",
       "      <td>0</td>\n",
       "      <td>0</td>\n",
       "    </tr>\n",
       "  </tbody>\n",
       "</table>\n",
       "<p>10 rows × 51 columns</p>\n",
       "</div>"
      ],
      "text/plain": [
       "          MovieBoxOfficeRevenue  archetype1  archetype2  archetype3  \\\n",
       "wiki_id                                                               \n",
       "9617369             241998151.0           0           1           0   \n",
       "803786                 340139.0           0           0           0   \n",
       "766846                2276900.0           0           0           0   \n",
       "12765604              1850000.0           0           0           0   \n",
       "8425661             609841637.0           0           0           0   \n",
       "106328              172989651.0           0           0           0   \n",
       "17182332              6086508.0           1           0           0   \n",
       "14169361             14391750.0           0           0           0   \n",
       "27434686              1400000.0           0           0           0   \n",
       "3185575             142000000.0           0           0           0   \n",
       "\n",
       "          archetype4  archetype5  archetype6  archetype7  archetype8  \\\n",
       "wiki_id                                                                \n",
       "9617369            0           0           0           0           0   \n",
       "803786             1           0           0           0           0   \n",
       "766846             0           0           0           0           0   \n",
       "12765604           0           0           0           0           0   \n",
       "8425661            0           0           0           0           0   \n",
       "106328             0           0           0           0           0   \n",
       "17182332           0           0           0           0           0   \n",
       "14169361           0           0           0           0           0   \n",
       "27434686           0           0           0           0           0   \n",
       "3185575            0           0           0           0           0   \n",
       "\n",
       "          archetype9  ...  archetype41  archetype42  archetype43  archetype44  \\\n",
       "wiki_id               ...                                                       \n",
       "9617369            0  ...            0            1            0            0   \n",
       "803786             0  ...            0            0            0            0   \n",
       "766846             0  ...            0            0            0            0   \n",
       "12765604           1  ...            0            0            0            0   \n",
       "8425661            0  ...            0            1            0            0   \n",
       "106328             0  ...            0            0            0            0   \n",
       "17182332           0  ...            0            0            0            0   \n",
       "14169361           0  ...            0            1            0            0   \n",
       "27434686           0  ...            0            1            1            0   \n",
       "3185575            0  ...            0            0            0            0   \n",
       "\n",
       "          archetype45  archetype46  archetype47  archetype48  archetype49  \\\n",
       "wiki_id                                                                     \n",
       "9617369             0            0            1            0            0   \n",
       "803786              0            0            0            0            0   \n",
       "766846              0            1            0            0            0   \n",
       "12765604            0            0            0            0            0   \n",
       "8425661             0            0            0            0            0   \n",
       "106328              1            0            0            0            0   \n",
       "17182332            0            0            0            0            1   \n",
       "14169361            0            0            0            0            0   \n",
       "27434686            0            0            0            0            0   \n",
       "3185575             0            0            0            0            0   \n",
       "\n",
       "          archetype50  \n",
       "wiki_id                \n",
       "9617369             0  \n",
       "803786              0  \n",
       "766846              0  \n",
       "12765604            0  \n",
       "8425661             0  \n",
       "106328              0  \n",
       "17182332            0  \n",
       "14169361            0  \n",
       "27434686            0  \n",
       "3185575             0  \n",
       "\n",
       "[10 rows x 51 columns]"
      ]
     },
     "execution_count": 39,
     "metadata": {},
     "output_type": "execute_result"
    }
   ],
   "source": [
    "#table will look like this\n",
    "df_moviearchetypes.sample(10)"
   ]
  },
  {
   "cell_type": "markdown",
   "metadata": {},
   "source": [
    "Now we got the data.\n",
    "\n",
    "Our purpose is to create a linear regression model with each archetype as a variable to predict the log of the box office revenue.\n",
    "\n",
    "We will use linear regression model and least square method to fit it."
   ]
  },
  {
   "cell_type": "code",
   "execution_count": 40,
   "metadata": {
    "execution": {
     "iopub.execute_input": "2023-11-17T16:19:42.250430Z",
     "iopub.status.busy": "2023-11-17T16:19:42.250035Z",
     "iopub.status.idle": "2023-11-17T16:19:42.326766Z",
     "shell.execute_reply": "2023-11-17T16:19:42.326207Z"
    }
   },
   "outputs": [],
   "source": [
    "import statsmodels.formula.api as smf"
   ]
  },
  {
   "cell_type": "code",
   "execution_count": 41,
   "metadata": {
    "execution": {
     "iopub.execute_input": "2023-11-17T16:19:42.329607Z",
     "iopub.status.busy": "2023-11-17T16:19:42.329205Z",
     "iopub.status.idle": "2023-11-17T16:19:42.358998Z",
     "shell.execute_reply": "2023-11-17T16:19:42.358490Z"
    }
   },
   "outputs": [],
   "source": [
    "#Apply log to boxoffice\n",
    "df_moviearchetypes['MovieBoxOfficeRevenue'] = df_moviearchetypes['MovieBoxOfficeRevenue'].apply(np.log)"
   ]
  },
  {
   "cell_type": "code",
   "execution_count": 42,
   "metadata": {
    "execution": {
     "iopub.execute_input": "2023-11-17T16:19:42.361725Z",
     "iopub.status.busy": "2023-11-17T16:19:42.361333Z",
     "iopub.status.idle": "2023-11-17T16:19:42.391868Z",
     "shell.execute_reply": "2023-11-17T16:19:42.391261Z"
    }
   },
   "outputs": [],
   "source": [
    "#The number of archetypes\n",
    "n = 50\n",
    "\n",
    "model_str = \"MovieBoxOfficeRevenue ~ \"\n",
    "for i in range(1,n+1):\n",
    "    model_str += \"C(archetype\" + str(i) + \")+\"\n",
    "\n",
    "model_str_without_interaction = model_str.strip(\"+\")\n",
    "\n",
    "for i in range(1,n):\n",
    "    for j in range(i+1, n+1):\n",
    "        model_str += \"C(archetype\" + str(i) + \"):C(archetype\" + str(j) + \")+\"\n",
    "\n",
    "model_str = model_str.strip(\"+\")\n"
   ]
  },
  {
   "cell_type": "code",
   "execution_count": 43,
   "metadata": {
    "execution": {
     "iopub.execute_input": "2023-11-17T16:19:42.394927Z",
     "iopub.status.busy": "2023-11-17T16:19:42.394464Z",
     "iopub.status.idle": "2023-11-17T16:19:43.442068Z",
     "shell.execute_reply": "2023-11-17T16:19:43.441459Z"
    }
   },
   "outputs": [],
   "source": [
    "# Declare the model\n",
    "mod = smf.ols(formula = model_str_without_interaction, data = df_moviearchetypes)"
   ]
  },
  {
   "cell_type": "code",
   "execution_count": 44,
   "metadata": {
    "execution": {
     "iopub.execute_input": "2023-11-17T16:19:43.444944Z",
     "iopub.status.busy": "2023-11-17T16:19:43.444727Z",
     "iopub.status.idle": "2023-11-17T16:19:43.485861Z",
     "shell.execute_reply": "2023-11-17T16:19:43.485183Z"
    }
   },
   "outputs": [],
   "source": [
    "# Fit the model (adding a random seed ensuring consistency)\n",
    "np.random.seed(2)\n",
    "res = mod.fit()"
   ]
  },
  {
   "cell_type": "code",
   "execution_count": 45,
   "metadata": {
    "execution": {
     "iopub.execute_input": "2023-11-17T16:19:43.489346Z",
     "iopub.status.busy": "2023-11-17T16:19:43.488917Z",
     "iopub.status.idle": "2023-11-17T16:19:43.530133Z",
     "shell.execute_reply": "2023-11-17T16:19:43.529460Z"
    }
   },
   "outputs": [
    {
     "data": {
      "text/plain": [
       "0.10792935630076328"
      ]
     },
     "execution_count": 45,
     "metadata": {},
     "output_type": "execute_result"
    }
   ],
   "source": [
    "res.rsquared"
   ]
  },
  {
   "cell_type": "code",
   "execution_count": 46,
   "metadata": {
    "execution": {
     "iopub.execute_input": "2023-11-17T16:19:43.533972Z",
     "iopub.status.busy": "2023-11-17T16:19:43.533523Z",
     "iopub.status.idle": "2023-11-17T16:19:43.580042Z",
     "shell.execute_reply": "2023-11-17T16:19:43.579413Z"
    }
   },
   "outputs": [
    {
     "data": {
      "text/plain": [
       "Intercept              0.000000e+00\n",
       "C(archetype1)[T.1]     1.391960e-07\n",
       "C(archetype2)[T.1]     2.961022e-04\n",
       "C(archetype3)[T.1]     1.003335e-05\n",
       "C(archetype4)[T.1]     4.934274e-01\n",
       "C(archetype5)[T.1]     3.896911e-01\n",
       "C(archetype6)[T.1]     5.881189e-02\n",
       "C(archetype7)[T.1]     1.657232e-03\n",
       "C(archetype8)[T.1]     8.135929e-01\n",
       "C(archetype9)[T.1]     1.284307e-10\n",
       "C(archetype10)[T.1]    8.903552e-02\n",
       "C(archetype11)[T.1]    1.240982e-05\n",
       "C(archetype12)[T.1]    4.212689e-08\n",
       "C(archetype13)[T.1]    6.555561e-06\n",
       "C(archetype14)[T.1]    1.188798e-07\n",
       "C(archetype15)[T.1]    8.796829e-02\n",
       "C(archetype16)[T.1]    2.839457e-05\n",
       "C(archetype17)[T.1]    5.090854e-03\n",
       "C(archetype18)[T.1]    2.238517e-04\n",
       "C(archetype19)[T.1]    8.021913e-16\n",
       "C(archetype20)[T.1]    3.608869e-02\n",
       "C(archetype21)[T.1]    4.285275e-04\n",
       "C(archetype22)[T.1]    1.176541e-02\n",
       "C(archetype23)[T.1]    1.665749e-01\n",
       "C(archetype24)[T.1]    7.452245e-08\n",
       "C(archetype25)[T.1]    6.717105e-01\n",
       "C(archetype26)[T.1]    5.239093e-03\n",
       "C(archetype27)[T.1]    7.550477e-02\n",
       "C(archetype28)[T.1]    9.703258e-05\n",
       "C(archetype29)[T.1]    6.612992e-02\n",
       "C(archetype30)[T.1]    9.946198e-02\n",
       "C(archetype31)[T.1]    1.317785e-01\n",
       "C(archetype32)[T.1]    3.907195e-02\n",
       "C(archetype33)[T.1]    7.044745e-06\n",
       "C(archetype34)[T.1]    7.608722e-02\n",
       "C(archetype35)[T.1]    7.632737e-03\n",
       "C(archetype36)[T.1]    8.791612e-01\n",
       "C(archetype37)[T.1]    4.405951e-01\n",
       "C(archetype38)[T.1]    6.816073e-05\n",
       "C(archetype39)[T.1]    2.097584e-03\n",
       "C(archetype40)[T.1]    6.046608e-06\n",
       "C(archetype41)[T.1]    1.082818e-01\n",
       "C(archetype42)[T.1]    1.457540e-22\n",
       "C(archetype43)[T.1]    2.929444e-04\n",
       "C(archetype44)[T.1]    9.487648e-02\n",
       "C(archetype45)[T.1]    9.142931e-11\n",
       "C(archetype46)[T.1]    2.812643e-04\n",
       "C(archetype47)[T.1]    1.809599e-02\n",
       "C(archetype48)[T.1]    1.644125e-02\n",
       "C(archetype49)[T.1]    4.939893e-01\n",
       "dtype: float64"
      ]
     },
     "execution_count": 46,
     "metadata": {},
     "output_type": "execute_result"
    }
   ],
   "source": [
    "res.pvalues"
   ]
  },
  {
   "cell_type": "markdown",
   "metadata": {},
   "source": [
    "R-squared is very low.\n",
    "The model is not accurate.\n",
    "But we can still select which of those archetypes might have an effect on box office revenue by considering the p-values."
   ]
  },
  {
   "cell_type": "markdown",
   "metadata": {},
   "source": [
    "Then we will add interaction terms and try again."
   ]
  },
  {
   "cell_type": "code",
   "execution_count": 47,
   "metadata": {
    "execution": {
     "iopub.execute_input": "2023-11-17T16:19:43.584128Z",
     "iopub.status.busy": "2023-11-17T16:19:43.583606Z",
     "iopub.status.idle": "2023-11-17T16:19:46.214654Z",
     "shell.execute_reply": "2023-11-17T16:19:46.213966Z"
    }
   },
   "outputs": [],
   "source": [
    "mod = smf.ols(formula = model_str, data = df_moviearchetypes)"
   ]
  },
  {
   "cell_type": "code",
   "execution_count": 48,
   "metadata": {
    "execution": {
     "iopub.execute_input": "2023-11-17T16:19:46.217786Z",
     "iopub.status.busy": "2023-11-17T16:19:46.217322Z",
     "iopub.status.idle": "2023-11-17T16:19:48.189944Z",
     "shell.execute_reply": "2023-11-17T16:19:48.189195Z"
    }
   },
   "outputs": [],
   "source": [
    "# Fit the model \n",
    "res = mod.fit()"
   ]
  },
  {
   "cell_type": "code",
   "execution_count": 49,
   "metadata": {
    "execution": {
     "iopub.execute_input": "2023-11-17T16:19:48.193789Z",
     "iopub.status.busy": "2023-11-17T16:19:48.193286Z",
     "iopub.status.idle": "2023-11-17T16:19:48.236050Z",
     "shell.execute_reply": "2023-11-17T16:19:48.235435Z"
    }
   },
   "outputs": [
    {
     "data": {
      "text/plain": [
       "0.27313325949988476"
      ]
     },
     "execution_count": 49,
     "metadata": {},
     "output_type": "execute_result"
    }
   ],
   "source": [
    "res.rsquared"
   ]
  },
  {
   "cell_type": "markdown",
   "metadata": {},
   "source": [
    "R-squared is still low but  better than the last one. We can conclude that revenue prediction by archetype combination could be prospective."
   ]
  }
 ],
 "metadata": {
  "kernelspec": {
   "display_name": "Python 3 (ipykernel)",
   "language": "python",
   "name": "python3"
  },
  "language_info": {
   "codemirror_mode": {
    "name": "ipython",
    "version": 3
   },
   "file_extension": ".py",
   "mimetype": "text/x-python",
   "name": "python",
   "nbconvert_exporter": "python",
   "pygments_lexer": "ipython3",
   "version": "3.9.18"
  }
 },
 "nbformat": 4,
 "nbformat_minor": 2
}
