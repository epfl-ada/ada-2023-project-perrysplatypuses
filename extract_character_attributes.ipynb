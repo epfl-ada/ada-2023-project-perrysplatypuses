{
 "cells": [
  {
   "cell_type": "code",
   "execution_count": null,
   "metadata": {
    "execution": {
     "iopub.execute_input": "2023-11-16T21:38:46.334873Z",
     "iopub.status.busy": "2023-11-16T21:38:46.334680Z",
     "iopub.status.idle": "2023-11-16T21:38:46.350024Z",
     "shell.execute_reply": "2023-11-16T21:38:46.349405Z"
    }
   },
   "outputs": [],
   "source": [
    "%load_ext autoreload\n",
    "%autoreload 2"
   ]
  },
  {
   "cell_type": "code",
   "execution_count": null,
   "metadata": {
    "execution": {
     "iopub.execute_input": "2023-11-16T21:38:46.352562Z",
     "iopub.status.busy": "2023-11-16T21:38:46.352212Z",
     "iopub.status.idle": "2023-11-16T21:38:46.811505Z",
     "shell.execute_reply": "2023-11-16T21:38:46.810823Z"
    }
   },
   "outputs": [],
   "source": [
    "import pandas as pd\n",
    "import matplotlib.pyplot as plt\n",
    "import numpy as np\n",
    "from tqdm import tqdm"
   ]
  },
  {
   "cell_type": "code",
   "execution_count": null,
   "metadata": {
    "execution": {
     "iopub.execute_input": "2023-11-16T21:38:46.814607Z",
     "iopub.status.busy": "2023-11-16T21:38:46.814346Z",
     "iopub.status.idle": "2023-11-16T21:38:49.561201Z",
     "shell.execute_reply": "2023-11-16T21:38:49.560491Z"
    }
   },
   "outputs": [],
   "source": [
    "from utils.character_attributes_extraction import character_names_from_text, character_attributes_from_text, character_active_verbs_from_text, character_patient_verbs_from_text"
   ]
  },
  {
   "cell_type": "code",
   "execution_count": null,
   "metadata": {
    "execution": {
     "iopub.execute_input": "2023-11-16T21:38:49.564275Z",
     "iopub.status.busy": "2023-11-16T21:38:49.563828Z",
     "iopub.status.idle": "2023-11-16T21:38:51.105623Z",
     "shell.execute_reply": "2023-11-16T21:38:51.104981Z"
    }
   },
   "outputs": [],
   "source": [
    "plots =  pd.read_csv(\n",
    "    'data/MovieSummaries/plot_summaries.txt', \n",
    "    sep='\\t', \n",
    "    names=['wiki_id', 'plot']\n",
    ")\n",
    "\n",
    "plots['plot'] = plots['plot'].apply(lambda x: ' '.join(x.split()))\n",
    "\n",
    "plots.head(5)"
   ]
  },
  {
   "cell_type": "markdown",
   "metadata": {},
   "source": [
    "# Extract characters names"
   ]
  },
  {
   "cell_type": "markdown",
   "metadata": {},
   "source": [
    "## Spacy\n",
    "\n",
    "[Spacy](https://spacy.io/usage/linguistic-features) is a really nice library that allows to do many nlp tasks easilly.\n",
    "We will use named entity recognition and dependency parsing the most. Also we will probably use built-in word2vec."
   ]
  },
  {
   "cell_type": "code",
   "execution_count": null,
   "metadata": {
    "execution": {
     "iopub.execute_input": "2023-11-16T21:38:51.108326Z",
     "iopub.status.busy": "2023-11-16T21:38:51.107959Z",
     "iopub.status.idle": "2023-11-16T21:38:52.131870Z",
     "shell.execute_reply": "2023-11-16T21:38:52.131154Z"
    }
   },
   "outputs": [],
   "source": [
    "import spacy\n",
    "\n",
    "nlp = spacy.load(\"en_core_web_md\")"
   ]
  },
  {
   "cell_type": "code",
   "execution_count": null,
   "metadata": {
    "execution": {
     "iopub.execute_input": "2023-11-16T21:38:52.135043Z",
     "iopub.status.busy": "2023-11-16T21:38:52.134636Z",
     "iopub.status.idle": "2023-11-16T21:38:52.163903Z",
     "shell.execute_reply": "2023-11-16T21:38:52.163337Z"
    }
   },
   "outputs": [],
   "source": [
    "doc = nlp(\"As Gregor Samsa awoke one morning from uneasy dreams he found himself transformed in his bed into an enormous insect.\")"
   ]
  },
  {
   "cell_type": "code",
   "execution_count": null,
   "metadata": {
    "execution": {
     "iopub.execute_input": "2023-11-16T21:38:52.166855Z",
     "iopub.status.busy": "2023-11-16T21:38:52.166416Z",
     "iopub.status.idle": "2023-11-16T21:38:52.231166Z",
     "shell.execute_reply": "2023-11-16T21:38:52.230447Z"
    }
   },
   "outputs": [],
   "source": [
    "from spacy import displacy\n",
    "displacy.render(doc, style='dep')"
   ]
  },
  {
   "cell_type": "code",
   "execution_count": null,
   "metadata": {
    "execution": {
     "iopub.execute_input": "2023-11-16T21:38:52.234450Z",
     "iopub.status.busy": "2023-11-16T21:38:52.233854Z",
     "iopub.status.idle": "2023-11-16T21:38:52.256540Z",
     "shell.execute_reply": "2023-11-16T21:38:52.255909Z"
    }
   },
   "outputs": [],
   "source": [
    "plot = plots.loc[51]['plot']\n",
    "print(plot)"
   ]
  },
  {
   "cell_type": "code",
   "execution_count": null,
   "metadata": {
    "execution": {
     "iopub.execute_input": "2023-11-16T21:38:52.259102Z",
     "iopub.status.busy": "2023-11-16T21:38:52.258727Z",
     "iopub.status.idle": "2023-11-16T21:38:52.328349Z",
     "shell.execute_reply": "2023-11-16T21:38:52.327666Z"
    }
   },
   "outputs": [],
   "source": [
    "character_attributes_from_text(plot)"
   ]
  },
  {
   "cell_type": "code",
   "execution_count": null,
   "metadata": {
    "execution": {
     "iopub.execute_input": "2023-11-16T21:38:52.331099Z",
     "iopub.status.busy": "2023-11-16T21:38:52.330698Z",
     "iopub.status.idle": "2023-11-16T21:38:52.395469Z",
     "shell.execute_reply": "2023-11-16T21:38:52.394765Z"
    }
   },
   "outputs": [],
   "source": [
    "character_active_verbs_from_text(plot)"
   ]
  },
  {
   "cell_type": "markdown",
   "metadata": {},
   "source": [
    "Extracting features for characters in each movie."
   ]
  },
  {
   "cell_type": "code",
   "execution_count": null,
   "metadata": {
    "execution": {
     "iopub.execute_input": "2023-11-16T21:38:52.398142Z",
     "iopub.status.busy": "2023-11-16T21:38:52.397811Z",
     "iopub.status.idle": "2023-11-16T21:38:52.456614Z",
     "shell.execute_reply": "2023-11-16T21:38:52.455775Z"
    }
   },
   "outputs": [],
   "source": [
    "%%script false --no-raise-error\n",
    "# it takes 5 hours 22 minutes to run \n",
    "\n",
    "character_list = []\n",
    "\n",
    "for index, row in tqdm([row for row in plots.iterrows()]):\n",
    "    plot = row['plot'] \n",
    "    character_names = character_names_from_text(plot)\n",
    "    character_attributes = character_attributes_from_text(plot)\n",
    "    character_active_verbs = character_active_verbs_from_text(plot)\n",
    "    character_patient_verbs = character_patient_verbs_from_text(plot)\n",
    "    for name in character_names:\n",
    "        character_list.append(\n",
    "            {\n",
    "                'wiki_id': row['wiki_id'],\n",
    "                'character': name,\n",
    "                'adj': character_attributes.get(name, []),\n",
    "                'active': character_active_verbs.get(name, []),\n",
    "                'patient': character_patient_verbs.get(name, []),\n",
    "            }\n",
    "        )\n",
    "\n",
    "character_df = pd.DataFrame(character_list)\n",
    "character_df.head()"
   ]
  },
  {
   "cell_type": "code",
   "execution_count": null,
   "metadata": {
    "execution": {
     "iopub.execute_input": "2023-11-16T21:38:52.459902Z",
     "iopub.status.busy": "2023-11-16T21:38:52.459492Z",
     "iopub.status.idle": "2023-11-16T21:38:52.518686Z",
     "shell.execute_reply": "2023-11-16T21:38:52.517951Z"
    }
   },
   "outputs": [],
   "source": [
    "%%script false --no-raise-error\n",
    "\n",
    "character_df.to_csv('data/character_attributes.csv')"
   ]
  },
  {
   "cell_type": "code",
   "execution_count": null,
   "metadata": {
    "execution": {
     "iopub.execute_input": "2023-11-16T21:38:52.521813Z",
     "iopub.status.busy": "2023-11-16T21:38:52.521393Z",
     "iopub.status.idle": "2023-11-16T21:38:52.581153Z",
     "shell.execute_reply": "2023-11-16T21:38:52.580383Z"
    }
   },
   "outputs": [],
   "source": [
    "%%script false --no-raise-error\n",
    "\n",
    "character_df[character_df['active'].map(len)>5]"
   ]
  },
  {
   "cell_type": "markdown",
   "metadata": {},
   "source": [
    "## Usage example"
   ]
  },
  {
   "cell_type": "code",
   "execution_count": null,
   "metadata": {
    "execution": {
     "iopub.execute_input": "2023-11-16T21:38:52.584500Z",
     "iopub.status.busy": "2023-11-16T21:38:52.584046Z",
     "iopub.status.idle": "2023-11-16T21:38:52.609199Z",
     "shell.execute_reply": "2023-11-16T21:38:52.608645Z"
    }
   },
   "outputs": [],
   "source": [
    "from utils.character_attributes_extraction import attributes2vec"
   ]
  },
  {
   "cell_type": "code",
   "execution_count": null,
   "metadata": {
    "execution": {
     "iopub.execute_input": "2023-11-16T21:38:52.611723Z",
     "iopub.status.busy": "2023-11-16T21:38:52.611519Z",
     "iopub.status.idle": "2023-11-16T21:38:53.743003Z",
     "shell.execute_reply": "2023-11-16T21:38:53.742285Z"
    }
   },
   "outputs": [],
   "source": [
    "characters =  pd.read_csv(\n",
    "    'data/character_attributes.csv', \n",
    "    index_col=0,\n",
    "    converters={\n",
    "        \"adj\": lambda x: x.strip(\"[]\").replace(\"'\",\"\").split(\", \"), # need this to read list columns from csv\n",
    "        \"active\": lambda x: x.strip(\"[]\").replace(\"'\",\"\").split(\", \"),\n",
    "        \"patient\": lambda x: x.strip(\"[]\").replace(\"'\",\"\").split(\", \")\n",
    "        }\n",
    "    )\n",
    "characters.head()"
   ]
  },
  {
   "cell_type": "code",
   "execution_count": null,
   "metadata": {
    "execution": {
     "iopub.execute_input": "2023-11-16T21:38:53.745516Z",
     "iopub.status.busy": "2023-11-16T21:38:53.745290Z",
     "iopub.status.idle": "2023-11-16T21:38:53.830138Z",
     "shell.execute_reply": "2023-11-16T21:38:53.829402Z"
    }
   },
   "outputs": [],
   "source": [
    "for i, r in characters.head().iterrows():\n",
    "        print(\" \".join([str(len(l)) for l in attributes2vec(r)]))"
   ]
  }
 ],
 "metadata": {
  "kernelspec": {
   "display_name": ".venv",
   "language": "python",
   "name": "python3"
  },
  "language_info": {
   "codemirror_mode": {
    "name": "ipython",
    "version": 3
   },
   "file_extension": ".py",
   "mimetype": "text/x-python",
   "name": "python",
   "nbconvert_exporter": "python",
   "pygments_lexer": "ipython3",
   "version": "3.9.7"
  }
 },
 "nbformat": 4,
 "nbformat_minor": 2
}
