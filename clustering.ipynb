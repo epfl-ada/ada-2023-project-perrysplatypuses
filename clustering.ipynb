{
 "cells": [
  {
   "cell_type": "code",
   "execution_count": 1,
   "metadata": {
    "execution": {
     "iopub.execute_input": "2023-11-17T18:09:15.301459Z",
     "iopub.status.busy": "2023-11-17T18:09:15.300892Z",
     "iopub.status.idle": "2023-11-17T18:09:15.317105Z",
     "shell.execute_reply": "2023-11-17T18:09:15.316538Z"
    }
   },
   "outputs": [],
   "source": [
    "%load_ext autoreload\n",
    "%autoreload 2"
   ]
  },
  {
   "cell_type": "code",
   "execution_count": 2,
   "metadata": {
    "execution": {
     "iopub.execute_input": "2023-11-17T18:09:15.320393Z",
     "iopub.status.busy": "2023-11-17T18:09:15.320070Z",
     "iopub.status.idle": "2023-11-17T18:09:16.121781Z",
     "shell.execute_reply": "2023-11-17T18:09:16.121080Z"
    }
   },
   "outputs": [],
   "source": [
    "import pandas as pd\n",
    "import matplotlib.pyplot as plt\n",
    "import numpy as np\n",
    "from tqdm import tqdm\n",
    "import json"
   ]
  },
  {
   "cell_type": "code",
   "execution_count": 3,
   "metadata": {
    "execution": {
     "iopub.execute_input": "2023-11-17T18:09:16.125118Z",
     "iopub.status.busy": "2023-11-17T18:09:16.124588Z",
     "iopub.status.idle": "2023-11-17T18:09:16.173178Z",
     "shell.execute_reply": "2023-11-17T18:09:16.172614Z"
    }
   },
   "outputs": [],
   "source": [
    "from IPython.display import clear_output"
   ]
  },
  {
   "cell_type": "code",
   "execution_count": 4,
   "metadata": {
    "execution": {
     "iopub.execute_input": "2023-11-17T18:09:16.175935Z",
     "iopub.status.busy": "2023-11-17T18:09:16.175520Z",
     "iopub.status.idle": "2023-11-17T18:09:16.504437Z",
     "shell.execute_reply": "2023-11-17T18:09:16.503665Z"
    }
   },
   "outputs": [],
   "source": [
    "from sklearn.cluster import AgglomerativeClustering, KMeans, DBSCAN\n",
    "from sklearn import metrics\n",
    "from sklearn.decomposition import LatentDirichletAllocation"
   ]
  },
  {
   "cell_type": "code",
   "execution_count": 5,
   "metadata": {
    "execution": {
     "iopub.execute_input": "2023-11-17T18:09:16.507674Z",
     "iopub.status.busy": "2023-11-17T18:09:16.507198Z",
     "iopub.status.idle": "2023-11-17T18:09:19.884311Z",
     "shell.execute_reply": "2023-11-17T18:09:19.883687Z"
    }
   },
   "outputs": [],
   "source": [
    "from utils.clustering import get_lda_clusters, get_vocab, word_topics_clustering, sort_meaningful, get_trf_clusters, topic_count"
   ]
  },
  {
   "cell_type": "code",
   "execution_count": 6,
   "metadata": {
    "execution": {
     "iopub.execute_input": "2023-11-17T18:09:19.887350Z",
     "iopub.status.busy": "2023-11-17T18:09:19.886897Z",
     "iopub.status.idle": "2023-11-17T18:09:19.914333Z",
     "shell.execute_reply": "2023-11-17T18:09:19.913737Z"
    }
   },
   "outputs": [],
   "source": [
    "from utils.clustering import get_lda_clusters, get_vocab, word_topics_clustering, sort_meaningful, get_trf_clusters, topic_count"
   ]
  },
  {
   "cell_type": "code",
   "execution_count": 7,
   "metadata": {
    "execution": {
     "iopub.execute_input": "2023-11-17T18:09:19.917183Z",
     "iopub.status.busy": "2023-11-17T18:09:19.916811Z",
     "iopub.status.idle": "2023-11-17T18:09:21.082069Z",
     "shell.execute_reply": "2023-11-17T18:09:21.081294Z"
    }
   },
   "outputs": [
    {
     "data": {
      "text/html": [
       "<div>\n",
       "<style scoped>\n",
       "    .dataframe tbody tr th:only-of-type {\n",
       "        vertical-align: middle;\n",
       "    }\n",
       "\n",
       "    .dataframe tbody tr th {\n",
       "        vertical-align: top;\n",
       "    }\n",
       "\n",
       "    .dataframe thead th {\n",
       "        text-align: right;\n",
       "    }\n",
       "</style>\n",
       "<table border=\"1\" class=\"dataframe\">\n",
       "  <thead>\n",
       "    <tr style=\"text-align: right;\">\n",
       "      <th></th>\n",
       "      <th>wiki_id</th>\n",
       "      <th>character</th>\n",
       "      <th>adj</th>\n",
       "      <th>active</th>\n",
       "      <th>patient</th>\n",
       "    </tr>\n",
       "  </thead>\n",
       "  <tbody>\n",
       "    <tr>\n",
       "      <th>0</th>\n",
       "      <td>31186339</td>\n",
       "      <td>Primrose Everdeen</td>\n",
       "      <td>[old]</td>\n",
       "      <td>[choose]</td>\n",
       "      <td>[]</td>\n",
       "    </tr>\n",
       "    <tr>\n",
       "      <th>1</th>\n",
       "      <td>31186339</td>\n",
       "      <td>Caesar Flickerman</td>\n",
       "      <td>[]</td>\n",
       "      <td>[]</td>\n",
       "      <td>[]</td>\n",
       "    </tr>\n",
       "    <tr>\n",
       "      <th>2</th>\n",
       "      <td>31186339</td>\n",
       "      <td>Peeta Mellark</td>\n",
       "      <td>[son]</td>\n",
       "      <td>[take, reveal, mean, form, present, beg, tell]</td>\n",
       "      <td>[force]</td>\n",
       "    </tr>\n",
       "    <tr>\n",
       "      <th>3</th>\n",
       "      <td>31186339</td>\n",
       "      <td>Cato</td>\n",
       "      <td>[]</td>\n",
       "      <td>[kill]</td>\n",
       "      <td>[encounter, wound, shoot]</td>\n",
       "    </tr>\n",
       "    <tr>\n",
       "      <th>4</th>\n",
       "      <td>31186339</td>\n",
       "      <td>Snow</td>\n",
       "      <td>[]</td>\n",
       "      <td>[summon, consider]</td>\n",
       "      <td>[]</td>\n",
       "    </tr>\n",
       "  </tbody>\n",
       "</table>\n",
       "</div>"
      ],
      "text/plain": [
       "    wiki_id          character    adj  \\\n",
       "0  31186339  Primrose Everdeen  [old]   \n",
       "1  31186339  Caesar Flickerman     []   \n",
       "2  31186339      Peeta Mellark  [son]   \n",
       "3  31186339               Cato     []   \n",
       "4  31186339               Snow     []   \n",
       "\n",
       "                                           active                    patient  \n",
       "0                                        [choose]                         []  \n",
       "1                                              []                         []  \n",
       "2  [take, reveal, mean, form, present, beg, tell]                    [force]  \n",
       "3                                          [kill]  [encounter, wound, shoot]  \n",
       "4                              [summon, consider]                         []  "
      ]
     },
     "execution_count": 7,
     "metadata": {},
     "output_type": "execute_result"
    }
   ],
   "source": [
    "characters =  pd.read_csv(\n",
    "    'data/character_attributes.csv', \n",
    "    index_col=0,\n",
    "    converters={\n",
    "        \"adj\": lambda x: x.strip(\"[]\").replace(\"'\",\"\").split(\", \"), # need this to read list columns from csv\n",
    "        \"active\": lambda x: x.strip(\"[]\").replace(\"'\",\"\").split(\", \"),\n",
    "        \"patient\": lambda x: x.strip(\"[]\").replace(\"'\",\"\").split(\", \")\n",
    "        }\n",
    "    )\n",
    "characters.head()"
   ]
  },
  {
   "cell_type": "code",
   "execution_count": 8,
   "metadata": {
    "execution": {
     "iopub.execute_input": "2023-11-17T18:09:21.122669Z",
     "iopub.status.busy": "2023-11-17T18:09:21.121940Z",
     "iopub.status.idle": "2023-11-17T18:09:23.533365Z",
     "shell.execute_reply": "2023-11-17T18:09:23.532765Z"
    }
   },
   "outputs": [],
   "source": [
    "characters = sort_meaningful(characters, 3)"
   ]
  },
  {
   "cell_type": "code",
   "execution_count": 9,
   "metadata": {
    "execution": {
     "iopub.execute_input": "2023-11-17T18:09:23.536671Z",
     "iopub.status.busy": "2023-11-17T18:09:23.536097Z",
     "iopub.status.idle": "2023-11-17T18:09:23.565220Z",
     "shell.execute_reply": "2023-11-17T18:09:23.564584Z"
    }
   },
   "outputs": [
    {
     "data": {
      "text/plain": [
       "74842"
      ]
     },
     "execution_count": 9,
     "metadata": {},
     "output_type": "execute_result"
    }
   ],
   "source": [
    "len(characters)"
   ]
  },
  {
   "cell_type": "markdown",
   "metadata": {},
   "source": [
    "### Clusters from tv_tropes"
   ]
  },
  {
   "cell_type": "code",
   "execution_count": 10,
   "metadata": {
    "execution": {
     "iopub.execute_input": "2023-11-17T18:09:23.568070Z",
     "iopub.status.busy": "2023-11-17T18:09:23.567710Z",
     "iopub.status.idle": "2023-11-17T18:09:23.838044Z",
     "shell.execute_reply": "2023-11-17T18:09:23.837308Z"
    }
   },
   "outputs": [
    {
     "data": {
      "text/html": [
       "<div>\n",
       "<style scoped>\n",
       "    .dataframe tbody tr th:only-of-type {\n",
       "        vertical-align: middle;\n",
       "    }\n",
       "\n",
       "    .dataframe tbody tr th {\n",
       "        vertical-align: top;\n",
       "    }\n",
       "\n",
       "    .dataframe thead th {\n",
       "        text-align: right;\n",
       "    }\n",
       "</style>\n",
       "<table border=\"1\" class=\"dataframe\">\n",
       "  <thead>\n",
       "    <tr style=\"text-align: right;\">\n",
       "      <th></th>\n",
       "      <th>char</th>\n",
       "      <th>movie</th>\n",
       "      <th>trope</th>\n",
       "      <th>wiki_id</th>\n",
       "    </tr>\n",
       "  </thead>\n",
       "  <tbody>\n",
       "    <tr>\n",
       "      <th>0</th>\n",
       "      <td>Professor Philip Brainard</td>\n",
       "      <td>Flubber</td>\n",
       "      <td>absent_minded_professor</td>\n",
       "      <td>1344253</td>\n",
       "    </tr>\n",
       "    <tr>\n",
       "      <th>1</th>\n",
       "      <td>Professor Keenbean</td>\n",
       "      <td>Richie Rich</td>\n",
       "      <td>absent_minded_professor</td>\n",
       "      <td>1486573</td>\n",
       "    </tr>\n",
       "    <tr>\n",
       "      <th>2</th>\n",
       "      <td>Dr. Reinhardt Lane</td>\n",
       "      <td>The Shadow</td>\n",
       "      <td>absent_minded_professor</td>\n",
       "      <td>14143328</td>\n",
       "    </tr>\n",
       "    <tr>\n",
       "      <th>3</th>\n",
       "      <td>Dr. Reinhardt Lane</td>\n",
       "      <td>The Shadow</td>\n",
       "      <td>absent_minded_professor</td>\n",
       "      <td>29760749</td>\n",
       "    </tr>\n",
       "    <tr>\n",
       "      <th>4</th>\n",
       "      <td>Dr. Reinhardt Lane</td>\n",
       "      <td>The Shadow</td>\n",
       "      <td>absent_minded_professor</td>\n",
       "      <td>5991505</td>\n",
       "    </tr>\n",
       "    <tr>\n",
       "      <th>...</th>\n",
       "      <td>...</td>\n",
       "      <td>...</td>\n",
       "      <td>...</td>\n",
       "      <td>...</td>\n",
       "    </tr>\n",
       "    <tr>\n",
       "      <th>691</th>\n",
       "      <td>Morgan Earp</td>\n",
       "      <td>Tombstone</td>\n",
       "      <td>young_gun</td>\n",
       "      <td>525113</td>\n",
       "    </tr>\n",
       "    <tr>\n",
       "      <th>692</th>\n",
       "      <td>Colorado Ryan</td>\n",
       "      <td>Rio Bravo</td>\n",
       "      <td>young_gun</td>\n",
       "      <td>81100</td>\n",
       "    </tr>\n",
       "    <tr>\n",
       "      <th>693</th>\n",
       "      <td>Tom Sawyer</td>\n",
       "      <td>The League of Extraordinary Gentlemen</td>\n",
       "      <td>young_gun</td>\n",
       "      <td>4138142</td>\n",
       "    </tr>\n",
       "    <tr>\n",
       "      <th>694</th>\n",
       "      <td>William H. 'Billy the Kid' Bonney</td>\n",
       "      <td>Young Guns II</td>\n",
       "      <td>young_gun</td>\n",
       "      <td>675213</td>\n",
       "    </tr>\n",
       "    <tr>\n",
       "      <th>695</th>\n",
       "      <td>Jake</td>\n",
       "      <td>Silverado</td>\n",
       "      <td>young_gun</td>\n",
       "      <td>2087781</td>\n",
       "    </tr>\n",
       "  </tbody>\n",
       "</table>\n",
       "<p>696 rows × 4 columns</p>\n",
       "</div>"
      ],
      "text/plain": [
       "                                  char                                  movie  \\\n",
       "0            Professor Philip Brainard                                Flubber   \n",
       "1                   Professor Keenbean                            Richie Rich   \n",
       "2                   Dr. Reinhardt Lane                             The Shadow   \n",
       "3                   Dr. Reinhardt Lane                             The Shadow   \n",
       "4                   Dr. Reinhardt Lane                             The Shadow   \n",
       "..                                 ...                                    ...   \n",
       "691                        Morgan Earp                              Tombstone   \n",
       "692                      Colorado Ryan                              Rio Bravo   \n",
       "693                         Tom Sawyer  The League of Extraordinary Gentlemen   \n",
       "694  William H. 'Billy the Kid' Bonney                          Young Guns II   \n",
       "695                               Jake                              Silverado   \n",
       "\n",
       "                       trope   wiki_id  \n",
       "0    absent_minded_professor   1344253  \n",
       "1    absent_minded_professor   1486573  \n",
       "2    absent_minded_professor  14143328  \n",
       "3    absent_minded_professor  29760749  \n",
       "4    absent_minded_professor   5991505  \n",
       "..                       ...       ...  \n",
       "691                young_gun    525113  \n",
       "692                young_gun     81100  \n",
       "693                young_gun   4138142  \n",
       "694                young_gun    675213  \n",
       "695                young_gun   2087781  \n",
       "\n",
       "[696 rows x 4 columns]"
      ]
     },
     "execution_count": 10,
     "metadata": {},
     "output_type": "execute_result"
    }
   ],
   "source": [
    "import json\n",
    "\n",
    "tropes_list=[]\n",
    "with open('data/MovieSummaries/tvtropes.clusters.txt', 'r') as f:\n",
    "    s = f.readline()\n",
    "    while s:\n",
    "        trope = s[:s.index('\\t')]\n",
    "        character = json.loads(s[s.index('\\t'): ])\n",
    "        character['trope'] = trope\n",
    "        tropes_list.append(character)\n",
    "        s = f.readline()\n",
    "topres_df = pd.DataFrame(tropes_list)\n",
    "topres_df.head()\n",
    "\n",
    "\n",
    "movies = pd.read_csv(\n",
    "    'data/MovieSummaries/movie.metadata.tsv', \n",
    "    sep='\\t', \n",
    "    names=['wiki_id', 'freebase_id', 'title', 'release_date', 'revenue', 'runtime', 'languages', 'countries', 'genres']\n",
    ")\n",
    "topres_df = topres_df.merge(movies, how='left', left_on='movie', right_on='title')[['char', 'movie', 'trope', 'wiki_id']]\n",
    "topres_df"
   ]
  },
  {
   "cell_type": "code",
   "execution_count": 11,
   "metadata": {
    "execution": {
     "iopub.execute_input": "2023-11-17T18:09:23.840921Z",
     "iopub.status.busy": "2023-11-17T18:09:23.840536Z",
     "iopub.status.idle": "2023-11-17T18:09:23.901614Z",
     "shell.execute_reply": "2023-11-17T18:09:23.900897Z"
    }
   },
   "outputs": [
    {
     "data": {
      "text/html": [
       "<div>\n",
       "<style scoped>\n",
       "    .dataframe tbody tr th:only-of-type {\n",
       "        vertical-align: middle;\n",
       "    }\n",
       "\n",
       "    .dataframe tbody tr th {\n",
       "        vertical-align: top;\n",
       "    }\n",
       "\n",
       "    .dataframe thead th {\n",
       "        text-align: right;\n",
       "    }\n",
       "</style>\n",
       "<table border=\"1\" class=\"dataframe\">\n",
       "  <thead>\n",
       "    <tr style=\"text-align: right;\">\n",
       "      <th></th>\n",
       "      <th>char</th>\n",
       "      <th>movie</th>\n",
       "      <th>trope</th>\n",
       "      <th>wiki_id</th>\n",
       "      <th>character</th>\n",
       "      <th>adj</th>\n",
       "      <th>active</th>\n",
       "      <th>patient</th>\n",
       "    </tr>\n",
       "  </thead>\n",
       "  <tbody>\n",
       "    <tr>\n",
       "      <th>0</th>\n",
       "      <td>Professor Philip Brainard</td>\n",
       "      <td>Flubber</td>\n",
       "      <td>absent_minded_professor</td>\n",
       "      <td>1344253</td>\n",
       "      <td>Philip Brainard</td>\n",
       "      <td>[professor]</td>\n",
       "      <td>[develop, approach, manage, discover, go, flun...</td>\n",
       "      <td>[lead, persuade]</td>\n",
       "    </tr>\n",
       "    <tr>\n",
       "      <th>1</th>\n",
       "      <td>Professor Philip Brainard</td>\n",
       "      <td>Flubber</td>\n",
       "      <td>absent_minded_professor</td>\n",
       "      <td>1344253</td>\n",
       "      <td>Chester Hoenicker</td>\n",
       "      <td>[]</td>\n",
       "      <td>[send, discover]</td>\n",
       "      <td>[confront, defeat]</td>\n",
       "    </tr>\n",
       "    <tr>\n",
       "      <th>2</th>\n",
       "      <td>Professor Philip Brainard</td>\n",
       "      <td>Flubber</td>\n",
       "      <td>absent_minded_professor</td>\n",
       "      <td>1344253</td>\n",
       "      <td>Sara Jean Reynolds</td>\n",
       "      <td>[]</td>\n",
       "      <td>[return, confront, defeat]</td>\n",
       "      <td>[steal, win]</td>\n",
       "    </tr>\n",
       "    <tr>\n",
       "      <th>3</th>\n",
       "      <td>Professor Philip Brainard</td>\n",
       "      <td>Flubber</td>\n",
       "      <td>absent_minded_professor</td>\n",
       "      <td>1344253</td>\n",
       "      <td>Wilson Croft</td>\n",
       "      <td>[partner]</td>\n",
       "      <td>[make]</td>\n",
       "      <td>[defeat]</td>\n",
       "    </tr>\n",
       "    <tr>\n",
       "      <th>4</th>\n",
       "      <td>Professor Keenbean</td>\n",
       "      <td>Richie Rich</td>\n",
       "      <td>absent_minded_professor</td>\n",
       "      <td>1486573</td>\n",
       "      <td>Richard Rich</td>\n",
       "      <td>[Sr, ., only]</td>\n",
       "      <td>[acquire, try, open, manage]</td>\n",
       "      <td>[shoot]</td>\n",
       "    </tr>\n",
       "    <tr>\n",
       "      <th>...</th>\n",
       "      <td>...</td>\n",
       "      <td>...</td>\n",
       "      <td>...</td>\n",
       "      <td>...</td>\n",
       "      <td>...</td>\n",
       "      <td>...</td>\n",
       "      <td>...</td>\n",
       "      <td>...</td>\n",
       "    </tr>\n",
       "    <tr>\n",
       "      <th>2875</th>\n",
       "      <td>Jake</td>\n",
       "      <td>Silverado</td>\n",
       "      <td>young_gun</td>\n",
       "      <td>2087781</td>\n",
       "      <td>Cobb</td>\n",
       "      <td>[sheriff]</td>\n",
       "      <td>[]</td>\n",
       "      <td>[defy, kill]</td>\n",
       "    </tr>\n",
       "    <tr>\n",
       "      <th>2876</th>\n",
       "      <td>Jake</td>\n",
       "      <td>Silverado</td>\n",
       "      <td>young_gun</td>\n",
       "      <td>2087781</td>\n",
       "      <td>Mal</td>\n",
       "      <td>[cowboy]</td>\n",
       "      <td>[find, reunite]</td>\n",
       "      <td>[]</td>\n",
       "    </tr>\n",
       "    <tr>\n",
       "      <th>2877</th>\n",
       "      <td>Jake</td>\n",
       "      <td>Silverado</td>\n",
       "      <td>young_gun</td>\n",
       "      <td>2087781</td>\n",
       "      <td>Emmett</td>\n",
       "      <td>[]</td>\n",
       "      <td>[ambush, find, ride, aid, learn, kill, leave]</td>\n",
       "      <td>[kill]</td>\n",
       "    </tr>\n",
       "    <tr>\n",
       "      <th>2878</th>\n",
       "      <td>Jake</td>\n",
       "      <td>Silverado</td>\n",
       "      <td>young_gun</td>\n",
       "      <td>2087781</td>\n",
       "      <td>Jake</td>\n",
       "      <td>[brother]</td>\n",
       "      <td>[learn, leave]</td>\n",
       "      <td>[aid]</td>\n",
       "    </tr>\n",
       "    <tr>\n",
       "      <th>2879</th>\n",
       "      <td>Jake</td>\n",
       "      <td>Silverado</td>\n",
       "      <td>young_gun</td>\n",
       "      <td>2087781</td>\n",
       "      <td>Paden</td>\n",
       "      <td>[man, nephew]</td>\n",
       "      <td>[ride, jail, kill, stay]</td>\n",
       "      <td>[aid]</td>\n",
       "    </tr>\n",
       "  </tbody>\n",
       "</table>\n",
       "<p>2771 rows × 8 columns</p>\n",
       "</div>"
      ],
      "text/plain": [
       "                           char        movie                    trope  \\\n",
       "0     Professor Philip Brainard      Flubber  absent_minded_professor   \n",
       "1     Professor Philip Brainard      Flubber  absent_minded_professor   \n",
       "2     Professor Philip Brainard      Flubber  absent_minded_professor   \n",
       "3     Professor Philip Brainard      Flubber  absent_minded_professor   \n",
       "4            Professor Keenbean  Richie Rich  absent_minded_professor   \n",
       "...                         ...          ...                      ...   \n",
       "2875                       Jake    Silverado                young_gun   \n",
       "2876                       Jake    Silverado                young_gun   \n",
       "2877                       Jake    Silverado                young_gun   \n",
       "2878                       Jake    Silverado                young_gun   \n",
       "2879                       Jake    Silverado                young_gun   \n",
       "\n",
       "      wiki_id           character            adj  \\\n",
       "0     1344253     Philip Brainard    [professor]   \n",
       "1     1344253   Chester Hoenicker             []   \n",
       "2     1344253  Sara Jean Reynolds             []   \n",
       "3     1344253        Wilson Croft      [partner]   \n",
       "4     1486573        Richard Rich  [Sr, ., only]   \n",
       "...       ...                 ...            ...   \n",
       "2875  2087781                Cobb      [sheriff]   \n",
       "2876  2087781                 Mal       [cowboy]   \n",
       "2877  2087781              Emmett             []   \n",
       "2878  2087781                Jake      [brother]   \n",
       "2879  2087781               Paden  [man, nephew]   \n",
       "\n",
       "                                                 active             patient  \n",
       "0     [develop, approach, manage, discover, go, flun...    [lead, persuade]  \n",
       "1                                      [send, discover]  [confront, defeat]  \n",
       "2                            [return, confront, defeat]        [steal, win]  \n",
       "3                                                [make]            [defeat]  \n",
       "4                          [acquire, try, open, manage]             [shoot]  \n",
       "...                                                 ...                 ...  \n",
       "2875                                                 []        [defy, kill]  \n",
       "2876                                    [find, reunite]                  []  \n",
       "2877      [ambush, find, ride, aid, learn, kill, leave]              [kill]  \n",
       "2878                                     [learn, leave]               [aid]  \n",
       "2879                           [ride, jail, kill, stay]               [aid]  \n",
       "\n",
       "[2771 rows x 8 columns]"
      ]
     },
     "execution_count": 11,
     "metadata": {},
     "output_type": "execute_result"
    }
   ],
   "source": [
    "tropes_and_clusters = topres_df.merge(characters, how='left', left_on='wiki_id', right_on='wiki_id').dropna()\n",
    "tropes_and_clusters"
   ]
  },
  {
   "cell_type": "code",
   "execution_count": 12,
   "metadata": {
    "execution": {
     "iopub.execute_input": "2023-11-17T18:09:23.904249Z",
     "iopub.status.busy": "2023-11-17T18:09:23.904029Z",
     "iopub.status.idle": "2023-11-17T18:09:23.935386Z",
     "shell.execute_reply": "2023-11-17T18:09:23.934646Z"
    }
   },
   "outputs": [],
   "source": [
    "def same_name(names1, names2):\n",
    "    names1 = names1.values\n",
    "    names2 = names2.values\n",
    "    flag = []\n",
    "    for i in range(len(names1)):\n",
    "        flag.append(names2[i] in names1[i])\n",
    "    return flag\n",
    "\n",
    "tropes_and_clusters = tropes_and_clusters[same_name(tropes_and_clusters['char'], tropes_and_clusters['character'])]"
   ]
  },
  {
   "cell_type": "code",
   "execution_count": 13,
   "metadata": {
    "execution": {
     "iopub.execute_input": "2023-11-17T18:09:23.938445Z",
     "iopub.status.busy": "2023-11-17T18:09:23.938210Z",
     "iopub.status.idle": "2023-11-17T18:09:23.982114Z",
     "shell.execute_reply": "2023-11-17T18:09:23.981373Z"
    }
   },
   "outputs": [
    {
     "data": {
      "text/html": [
       "<div>\n",
       "<style scoped>\n",
       "    .dataframe tbody tr th:only-of-type {\n",
       "        vertical-align: middle;\n",
       "    }\n",
       "\n",
       "    .dataframe tbody tr th {\n",
       "        vertical-align: top;\n",
       "    }\n",
       "\n",
       "    .dataframe thead th {\n",
       "        text-align: right;\n",
       "    }\n",
       "</style>\n",
       "<table border=\"1\" class=\"dataframe\">\n",
       "  <thead>\n",
       "    <tr style=\"text-align: right;\">\n",
       "      <th></th>\n",
       "      <th>character</th>\n",
       "      <th>adj</th>\n",
       "      <th>active</th>\n",
       "      <th>patient</th>\n",
       "      <th>trope</th>\n",
       "      <th>wiki_id</th>\n",
       "      <th>movie</th>\n",
       "    </tr>\n",
       "  </thead>\n",
       "  <tbody>\n",
       "    <tr>\n",
       "      <th>0</th>\n",
       "      <td>Philip Brainard</td>\n",
       "      <td>[professor]</td>\n",
       "      <td>[develop, approach, manage, discover, go, flun...</td>\n",
       "      <td>[lead, persuade]</td>\n",
       "      <td>absent_minded_professor</td>\n",
       "      <td>1344253</td>\n",
       "      <td>Flubber</td>\n",
       "    </tr>\n",
       "    <tr>\n",
       "      <th>1</th>\n",
       "      <td>Keenbean</td>\n",
       "      <td>[scientist, Smellmaster, RoboBee]</td>\n",
       "      <td>[listen, state]</td>\n",
       "      <td>[confront, rescue]</td>\n",
       "      <td>absent_minded_professor</td>\n",
       "      <td>1486573</td>\n",
       "      <td>Richie Rich</td>\n",
       "    </tr>\n",
       "    <tr>\n",
       "      <th>2</th>\n",
       "      <td>Reinhardt</td>\n",
       "      <td>[father, scientist]</td>\n",
       "      <td>[disable]</td>\n",
       "      <td>[rescue]</td>\n",
       "      <td>absent_minded_professor</td>\n",
       "      <td>5991505</td>\n",
       "      <td>The Shadow</td>\n",
       "    </tr>\n",
       "    <tr>\n",
       "      <th>3</th>\n",
       "      <td>Daniel Jackson</td>\n",
       "      <td>[professor, chance]</td>\n",
       "      <td>[accept, translate, deduce, reveal, go, realiz...</td>\n",
       "      <td>[offer, give, kill]</td>\n",
       "      <td>absent_minded_professor</td>\n",
       "      <td>28327</td>\n",
       "      <td>Stargate</td>\n",
       "    </tr>\n",
       "    <tr>\n",
       "      <th>4</th>\n",
       "      <td>Evelyn Carnahan</td>\n",
       "      <td>[sacrifice]</td>\n",
       "      <td>[present, visit, save, look, take, reveal, hyp...</td>\n",
       "      <td>[lead]</td>\n",
       "      <td>adventurer_archaeologist</td>\n",
       "      <td>253828</td>\n",
       "      <td>The Mummy</td>\n",
       "    </tr>\n",
       "    <tr>\n",
       "      <th>...</th>\n",
       "      <td>...</td>\n",
       "      <td>...</td>\n",
       "      <td>...</td>\n",
       "      <td>...</td>\n",
       "      <td>...</td>\n",
       "      <td>...</td>\n",
       "      <td>...</td>\n",
       "    </tr>\n",
       "    <tr>\n",
       "      <th>412</th>\n",
       "      <td>Colorado Ryan</td>\n",
       "      <td>[gunslinger]</td>\n",
       "      <td>[decline, prove, offer, visit, step, throw, ag...</td>\n",
       "      <td>[]</td>\n",
       "      <td>young_gun</td>\n",
       "      <td>81100</td>\n",
       "      <td>Rio Bravo</td>\n",
       "    </tr>\n",
       "    <tr>\n",
       "      <th>413</th>\n",
       "      <td>Tom Sawyer</td>\n",
       "      <td>[Quartermain]</td>\n",
       "      <td>[join, manage, go, take, manage]</td>\n",
       "      <td>[tell]</td>\n",
       "      <td>young_gun</td>\n",
       "      <td>4138142</td>\n",
       "      <td>The League of Extraordinary Gentlemen</td>\n",
       "    </tr>\n",
       "    <tr>\n",
       "      <th>414</th>\n",
       "      <td>Billy</td>\n",
       "      <td>[]</td>\n",
       "      <td>[become, meet, find, pose, mention, come, refu...</td>\n",
       "      <td>[pardon, find]</td>\n",
       "      <td>young_gun</td>\n",
       "      <td>675213</td>\n",
       "      <td>Young Guns II</td>\n",
       "    </tr>\n",
       "    <tr>\n",
       "      <th>415</th>\n",
       "      <td>Kid</td>\n",
       "      <td>[]</td>\n",
       "      <td>[bring, remain, emerge]</td>\n",
       "      <td>[]</td>\n",
       "      <td>young_gun</td>\n",
       "      <td>675213</td>\n",
       "      <td>Young Guns II</td>\n",
       "    </tr>\n",
       "    <tr>\n",
       "      <th>416</th>\n",
       "      <td>Jake</td>\n",
       "      <td>[brother]</td>\n",
       "      <td>[learn, leave]</td>\n",
       "      <td>[aid]</td>\n",
       "      <td>young_gun</td>\n",
       "      <td>2087781</td>\n",
       "      <td>Silverado</td>\n",
       "    </tr>\n",
       "  </tbody>\n",
       "</table>\n",
       "<p>417 rows × 7 columns</p>\n",
       "</div>"
      ],
      "text/plain": [
       "           character                                adj  \\\n",
       "0    Philip Brainard                        [professor]   \n",
       "1           Keenbean  [scientist, Smellmaster, RoboBee]   \n",
       "2          Reinhardt                [father, scientist]   \n",
       "3     Daniel Jackson                [professor, chance]   \n",
       "4    Evelyn Carnahan                        [sacrifice]   \n",
       "..               ...                                ...   \n",
       "412    Colorado Ryan                       [gunslinger]   \n",
       "413       Tom Sawyer                      [Quartermain]   \n",
       "414            Billy                                 []   \n",
       "415              Kid                                 []   \n",
       "416             Jake                          [brother]   \n",
       "\n",
       "                                                active              patient  \\\n",
       "0    [develop, approach, manage, discover, go, flun...     [lead, persuade]   \n",
       "1                                      [listen, state]   [confront, rescue]   \n",
       "2                                            [disable]             [rescue]   \n",
       "3    [accept, translate, deduce, reveal, go, realiz...  [offer, give, kill]   \n",
       "4    [present, visit, save, look, take, reveal, hyp...               [lead]   \n",
       "..                                                 ...                  ...   \n",
       "412  [decline, prove, offer, visit, step, throw, ag...                   []   \n",
       "413                   [join, manage, go, take, manage]               [tell]   \n",
       "414  [become, meet, find, pose, mention, come, refu...       [pardon, find]   \n",
       "415                            [bring, remain, emerge]                   []   \n",
       "416                                     [learn, leave]                [aid]   \n",
       "\n",
       "                        trope  wiki_id                                  movie  \n",
       "0     absent_minded_professor  1344253                                Flubber  \n",
       "1     absent_minded_professor  1486573                            Richie Rich  \n",
       "2     absent_minded_professor  5991505                             The Shadow  \n",
       "3     absent_minded_professor    28327                               Stargate  \n",
       "4    adventurer_archaeologist   253828                              The Mummy  \n",
       "..                        ...      ...                                    ...  \n",
       "412                 young_gun    81100                              Rio Bravo  \n",
       "413                 young_gun  4138142  The League of Extraordinary Gentlemen  \n",
       "414                 young_gun   675213                          Young Guns II  \n",
       "415                 young_gun   675213                          Young Guns II  \n",
       "416                 young_gun  2087781                              Silverado  \n",
       "\n",
       "[417 rows x 7 columns]"
      ]
     },
     "execution_count": 13,
     "metadata": {},
     "output_type": "execute_result"
    }
   ],
   "source": [
    "characters_to_check = tropes_and_clusters[['character', 'adj', 'active', 'patient', 'trope', 'wiki_id', 'movie']].reset_index(drop=True)\n",
    "characters_to_check"
   ]
  },
  {
   "cell_type": "markdown",
   "metadata": {},
   "source": [
    "# Clustering evaluation\n",
    "\n",
    "We want to see, how good our clustering algorithm performs compared to the original alorithm proposed in the paper [Learning Latent Personas of Film Characters](http://www.cs.cmu.edu/~dbamman/pubs/pdf/bamman+oconnor+smith.acl13.pdf)"
   ]
  },
  {
   "cell_type": "code",
   "execution_count": 14,
   "metadata": {
    "execution": {
     "iopub.execute_input": "2023-11-17T18:09:23.984973Z",
     "iopub.status.busy": "2023-11-17T18:09:23.984748Z",
     "iopub.status.idle": "2023-11-17T18:09:24.020709Z",
     "shell.execute_reply": "2023-11-17T18:09:24.020119Z"
    }
   },
   "outputs": [],
   "source": [
    "from math import log\n",
    "\n",
    "def group_labels_by_clusters(clusters):\n",
    "    _, clusters = np.unique(clusters, return_inverse=True)\n",
    "    l = [[] for _ in range(np.max(clusters) + 1)]\n",
    "    for i in range(len(clusters)):\n",
    "        l[clusters[i]].append(i)\n",
    "    return l\n",
    "\n",
    "def variation_of_information(X, Y):\n",
    "    n = float(sum([len(x) for x in X]))\n",
    "    sigma = 0.0\n",
    "    for x in X:\n",
    "        p = len(x) / n\n",
    "        for y in Y:\n",
    "           q = len(y) / n\n",
    "           r = len(set(x) & set(y)) / n\n",
    "           if r > 0.0:\n",
    "               sigma += r * (log(r / p, 2) + log(r / q, 2))\n",
    "    return abs(sigma)"
   ]
  },
  {
   "cell_type": "code",
   "execution_count": 15,
   "metadata": {
    "execution": {
     "iopub.execute_input": "2023-11-17T18:09:24.023774Z",
     "iopub.status.busy": "2023-11-17T18:09:24.023347Z",
     "iopub.status.idle": "2023-11-17T18:09:24.051265Z",
     "shell.execute_reply": "2023-11-17T18:09:24.050702Z"
    }
   },
   "outputs": [],
   "source": [
    "tv_tropes = group_labels_by_clusters(characters_to_check['trope'].values)"
   ]
  },
  {
   "cell_type": "code",
   "execution_count": 16,
   "metadata": {
    "execution": {
     "iopub.execute_input": "2023-11-17T18:09:24.054063Z",
     "iopub.status.busy": "2023-11-17T18:09:24.053813Z",
     "iopub.status.idle": "2023-11-17T18:09:24.087447Z",
     "shell.execute_reply": "2023-11-17T18:09:24.086748Z"
    }
   },
   "outputs": [
    {
     "data": {
      "text/plain": [
       "71"
      ]
     },
     "execution_count": 16,
     "metadata": {},
     "output_type": "execute_result"
    }
   ],
   "source": [
    "len(tv_tropes)"
   ]
  },
  {
   "cell_type": "code",
   "execution_count": 17,
   "metadata": {
    "execution": {
     "iopub.execute_input": "2023-11-17T18:09:24.090139Z",
     "iopub.status.busy": "2023-11-17T18:09:24.089725Z",
     "iopub.status.idle": "2023-11-17T18:09:37.406159Z",
     "shell.execute_reply": "2023-11-17T18:09:37.405552Z"
    }
   },
   "outputs": [
    {
     "data": {
      "text/plain": [
       "{'25 topics, 25 archetypes': 6.2466797099799205,\n",
       " '25 topics, 50 archetypes': 5.721030072070011,\n",
       " '25 topics, 100 archetypes': 5.19585126544422,\n",
       " '50 topics, 25 archetypes': 6.3319648575061835,\n",
       " '50 topics, 50 archetypes': 5.666473591455292,\n",
       " '50 topics, 100 archetypes': 4.976150571899939,\n",
       " '100 topics, 25 archetypes': 6.349160556531042,\n",
       " '100 topics, 50 archetypes': 5.607356379575675,\n",
       " '100 topics, 100 archetypes': 4.898739702618948}"
      ]
     },
     "execution_count": 17,
     "metadata": {},
     "output_type": "execute_result"
    }
   ],
   "source": [
    "agglomerative_clusters_n = [25, 50, 100]\n",
    "n_components = [25, 50, 100]\n",
    "\n",
    "configs = {}\n",
    "config_base = {'characters': characters_to_check, 'min_freq': 5, 'max_freq':0.9}\n",
    "\n",
    "for alg_n in agglomerative_clusters_n:\n",
    "    for n in n_components:\n",
    "        config = config_base.copy()\n",
    "        config['clustering_algo'] = AgglomerativeClustering(n_clusters=alg_n, metric='cosine', linkage='complete')\n",
    "        config['n_components'] = n\n",
    "        configs[f'{alg_n} topics, {n} archetypes'] = config\n",
    "\n",
    "results_lda = {}\n",
    "for k, config in configs.items():\n",
    "    clusters = get_lda_clusters(**config)\n",
    "    results_lda[k] = variation_of_information(group_labels_by_clusters(clusters), tv_tropes)\n",
    "    print(k, f'VI = {results_lda[k]}')\n",
    "\n",
    "clear_output(wait=True)\n",
    "results_lda"
   ]
  },
  {
   "cell_type": "markdown",
   "metadata": {},
   "source": [
    "Note, that the results are even better (K=100, P=100, 5.42 in the paper and 4.9 here) than the results from the [paper](http://www.cs.cmu.edu/~dbamman/pubs/pdf/bamman+oconnor+smith.acl13.pdf). That could indicate that using word2vec embeddings and Agglomerative clustering of the words to topics might be better suited for dividing the words into topics for the purpose of personas extraction."
   ]
  },
  {
   "cell_type": "markdown",
   "metadata": {},
   "source": [
    "## BERT based clustering"
   ]
  },
  {
   "cell_type": "code",
   "execution_count": 18,
   "metadata": {
    "execution": {
     "iopub.execute_input": "2023-11-17T18:09:37.408907Z",
     "iopub.status.busy": "2023-11-17T18:09:37.408544Z",
     "iopub.status.idle": "2023-11-17T18:09:38.841579Z",
     "shell.execute_reply": "2023-11-17T18:09:38.840915Z"
    }
   },
   "outputs": [
    {
     "data": {
      "text/html": [
       "<div>\n",
       "<style scoped>\n",
       "    .dataframe tbody tr th:only-of-type {\n",
       "        vertical-align: middle;\n",
       "    }\n",
       "\n",
       "    .dataframe tbody tr th {\n",
       "        vertical-align: top;\n",
       "    }\n",
       "\n",
       "    .dataframe thead th {\n",
       "        text-align: right;\n",
       "    }\n",
       "</style>\n",
       "<table border=\"1\" class=\"dataframe\">\n",
       "  <thead>\n",
       "    <tr style=\"text-align: right;\">\n",
       "      <th></th>\n",
       "      <th>wiki_id</th>\n",
       "      <th>character</th>\n",
       "      <th>emb</th>\n",
       "    </tr>\n",
       "  </thead>\n",
       "  <tbody>\n",
       "    <tr>\n",
       "      <th>0</th>\n",
       "      <td>6002183</td>\n",
       "      <td>Horton</td>\n",
       "      <td>[1.0488402843475342, 0.3811729848384857, 0.645...</td>\n",
       "    </tr>\n",
       "    <tr>\n",
       "      <th>1</th>\n",
       "      <td>6002183</td>\n",
       "      <td>Ned McDodd</td>\n",
       "      <td>[-0.5622232556343079, -0.2521360516548157, -0....</td>\n",
       "    </tr>\n",
       "    <tr>\n",
       "      <th>2</th>\n",
       "      <td>6002183</td>\n",
       "      <td>JoJo</td>\n",
       "      <td>[-0.7999439835548401, -0.4102073311805725, 0.6...</td>\n",
       "    </tr>\n",
       "    <tr>\n",
       "      <th>3</th>\n",
       "      <td>6002183</td>\n",
       "      <td>Sally</td>\n",
       "      <td>[0.7803803086280823, -0.7006192207336426, 0.32...</td>\n",
       "    </tr>\n",
       "    <tr>\n",
       "      <th>4</th>\n",
       "      <td>6002183</td>\n",
       "      <td>LaRue</td>\n",
       "      <td>[-0.038770418614149094, 0.219954714179039, -0....</td>\n",
       "    </tr>\n",
       "  </tbody>\n",
       "</table>\n",
       "</div>"
      ],
      "text/plain": [
       "   wiki_id   character                                                emb\n",
       "0  6002183      Horton  [1.0488402843475342, 0.3811729848384857, 0.645...\n",
       "1  6002183  Ned McDodd  [-0.5622232556343079, -0.2521360516548157, -0....\n",
       "2  6002183        JoJo  [-0.7999439835548401, -0.4102073311805725, 0.6...\n",
       "3  6002183       Sally  [0.7803803086280823, -0.7006192207336426, 0.32...\n",
       "4  6002183       LaRue  [-0.038770418614149094, 0.219954714179039, -0...."
      ]
     },
     "execution_count": 18,
     "metadata": {},
     "output_type": "execute_result"
    }
   ],
   "source": [
    "characters_with_trf_emb =  pd.read_csv(\n",
    "    'data/trf_embeddings_for_labeled_characters.csv', \n",
    "    index_col=0,\n",
    "    converters={\n",
    "        \"emb\": lambda x: [float(k) for k in x.strip(\"[]\").replace(\"'\",\"\").split(\", \")]\n",
    "        }\n",
    "    )\n",
    "characters_with_trf_emb.head()"
   ]
  },
  {
   "cell_type": "code",
   "execution_count": 19,
   "metadata": {
    "execution": {
     "iopub.execute_input": "2023-11-17T18:09:38.844171Z",
     "iopub.status.busy": "2023-11-17T18:09:38.843957Z",
     "iopub.status.idle": "2023-11-17T18:09:38.879919Z",
     "shell.execute_reply": "2023-11-17T18:09:38.879339Z"
    }
   },
   "outputs": [],
   "source": [
    "tropes_and_clusters = characters_to_check.merge(characters_with_trf_emb, how='left', left_on='wiki_id', right_on='wiki_id').dropna()\n",
    "tropes_and_clusters = tropes_and_clusters[tropes_and_clusters['character_x'] == tropes_and_clusters['character_y']]\n",
    "characters_to_check_trf = tropes_and_clusters[['character_y', 'emb', 'trope', 'wiki_id', 'movie']]"
   ]
  },
  {
   "cell_type": "code",
   "execution_count": 20,
   "metadata": {
    "execution": {
     "iopub.execute_input": "2023-11-17T18:09:38.882759Z",
     "iopub.status.busy": "2023-11-17T18:09:38.882548Z",
     "iopub.status.idle": "2023-11-17T18:09:38.910578Z",
     "shell.execute_reply": "2023-11-17T18:09:38.910009Z"
    }
   },
   "outputs": [],
   "source": [
    "tv_tropes_trf = group_labels_by_clusters(characters_to_check_trf['trope'].values)"
   ]
  },
  {
   "cell_type": "code",
   "execution_count": 21,
   "metadata": {
    "execution": {
     "iopub.execute_input": "2023-11-17T18:09:38.913197Z",
     "iopub.status.busy": "2023-11-17T18:09:38.912994Z",
     "iopub.status.idle": "2023-11-17T18:09:41.687526Z",
     "shell.execute_reply": "2023-11-17T18:09:41.686819Z"
    }
   },
   "outputs": [
    {
     "data": {
      "text/plain": [
       "{'25 archetypes, agglomerative clustering': 6.120872572312354,\n",
       " '25 archetypes, kmeans clustering': 6.132979831209675,\n",
       " '50 archetypes, agglomerative clustering': 5.554948748358468,\n",
       " '50 archetypes, kmeans clustering': 5.448838511872446,\n",
       " '100 archetypes, agglomerative clustering': 4.755176265593408,\n",
       " '100 archetypes, kmeans clustering': 4.640598634893487}"
      ]
     },
     "execution_count": 21,
     "metadata": {},
     "output_type": "execute_result"
    }
   ],
   "source": [
    "results_trf = {}\n",
    "for n in n_components:\n",
    "    k = f'{n} archetypes, agglomerative clustering'\n",
    "    agglomerative = AgglomerativeClustering(n_clusters=n, metric='euclidean', linkage='complete')\n",
    "    clusters = get_trf_clusters(characters_to_check_trf, agglomerative)\n",
    "    results_trf[k] = variation_of_information(group_labels_by_clusters(clusters), tv_tropes_trf)\n",
    "    print(k, f'VI = {results_trf[k]}')\n",
    "\n",
    "    k = f'{n} archetypes, kmeans clustering'\n",
    "    kmeans = KMeans(n_clusters=n)\n",
    "    clusters = get_trf_clusters(characters_to_check_trf, kmeans)\n",
    "    results_trf[k] = variation_of_information(group_labels_by_clusters(clusters), tv_tropes_trf)\n",
    "    print(k, f'VI = {results_trf[k]}')\n",
    "\n",
    "clear_output(wait=True)\n",
    "results_trf"
   ]
  },
  {
   "cell_type": "markdown",
   "metadata": {},
   "source": [
    "It's still better than the results from the paper, but extracting BERT embeddings is very slow, so we will stick to the previous method."
   ]
  },
  {
   "cell_type": "markdown",
   "metadata": {},
   "source": [
    "# Find optimal number of clusters"
   ]
  },
  {
   "cell_type": "code",
   "execution_count": 22,
   "metadata": {
    "execution": {
     "iopub.execute_input": "2023-11-17T18:09:41.692663Z",
     "iopub.status.busy": "2023-11-17T18:09:41.691442Z",
     "iopub.status.idle": "2023-11-17T18:09:41.740569Z",
     "shell.execute_reply": "2023-11-17T18:09:41.739881Z"
    }
   },
   "outputs": [],
   "source": [
    "def medoid(vec):\n",
    "    dist_matrix = np.zeros((len(vec), len(vec)))\n",
    "    for i in range(len(vec)):\n",
    "        for j in range(i + 1, len(vec)):\n",
    "            dist_matrix[i][j] = np.sum(np.abs(vec[i] - vec[j]))\n",
    "            dist_matrix[j][i] = dist_matrix[i][j]\n",
    "    argmin = np.argmin(np.sum(dist_matrix, axis=0))\n",
    "    return vec[argmin]\n",
    "\n",
    "def unsupervised_evaluation(features, labels):\n",
    "    unique_labels = np.unique(labels)\n",
    "    # Calculate cluster medoid\n",
    "    cluster_medoids = np.array([medoid(features[labels == label]) for label in unique_labels])\n",
    "\n",
    "    # Calculate within-cluster sum of squares (WSS)\n",
    "    wss = 0\n",
    "    for num, label in enumerate(unique_labels):\n",
    "        distance = np.sum((features[labels == label] - cluster_medoids[num]) ** 2)\n",
    "        wss += distance\n",
    "\n",
    "    sil_score = metrics.silhouette_score(features, labels)\n",
    "    return wss, sil_score"
   ]
  },
  {
   "cell_type": "code",
   "execution_count": 23,
   "metadata": {
    "execution": {
     "iopub.execute_input": "2023-11-17T18:09:41.745615Z",
     "iopub.status.busy": "2023-11-17T18:09:41.744410Z",
     "iopub.status.idle": "2023-11-17T18:09:41.783505Z",
     "shell.execute_reply": "2023-11-17T18:09:41.782920Z"
    }
   },
   "outputs": [],
   "source": [
    "characters_for_eval = characters.sample(1000).reset_index(drop=True)"
   ]
  },
  {
   "cell_type": "code",
   "execution_count": 24,
   "metadata": {
    "execution": {
     "iopub.execute_input": "2023-11-17T18:09:41.786606Z",
     "iopub.status.busy": "2023-11-17T18:09:41.786391Z",
     "iopub.status.idle": "2023-11-17T18:10:28.940274Z",
     "shell.execute_reply": "2023-11-17T18:10:28.939472Z"
    }
   },
   "outputs": [
    {
     "name": "stderr",
     "output_type": "stream",
     "text": [
      "100%|██████████| 19/19 [00:47<00:00,  2.48s/it]\n"
     ]
    }
   ],
   "source": [
    "clustering_algo = AgglomerativeClustering(n_clusters=200, metric='cosine', linkage='complete')\n",
    "\n",
    "k_values = np.arange(10, 101, 5)\n",
    "wsss = []\n",
    "silhouettes = []\n",
    "min_wss_idx = 0\n",
    "\n",
    "for i in tqdm(range(len(k_values))):\n",
    "    y, X = get_lda_clusters(characters_for_eval, 5, 0.9, clustering_algo, k_values[i], return_topic_counts=True)\n",
    "    wss, silhouette = unsupervised_evaluation(X, y)\n",
    "    wsss.append(wss)\n",
    "    silhouettes.append(silhouette)\n",
    "    clear_output(wait=True)"
   ]
  },
  {
   "cell_type": "code",
   "execution_count": 25,
   "metadata": {
    "execution": {
     "iopub.execute_input": "2023-11-17T18:10:28.943481Z",
     "iopub.status.busy": "2023-11-17T18:10:28.943226Z",
     "iopub.status.idle": "2023-11-17T18:10:29.262343Z",
     "shell.execute_reply": "2023-11-17T18:10:29.261627Z"
    }
   },
   "outputs": [
    {
     "data": {
      "image/png": "[encoded data removed]",
      "text/plain": [
       "<Figure size 640x480 with 2 Axes>"
      ]
     },
     "metadata": {},
     "output_type": "display_data"
    }
   ],
   "source": [
    "plt.subplot(1, 2, 1)\n",
    "plt.plot(k_values, wsss)\n",
    "plt.title(\"WSS scores\")\n",
    "\n",
    "plt.subplot(1, 2, 2)\n",
    "plt.plot(k_values, silhouettes)\n",
    "plt.title(\"Silhouette scores\")\n",
    "\n",
    "plt.show()"
   ]
  },
  {
   "cell_type": "markdown",
   "metadata": {},
   "source": [
    "We can see, that the 50 clusters provide relatively good combination of the silhouette and WSS scores and is still manageable to interpret."
   ]
  },
  {
   "cell_type": "code",
   "execution_count": 26,
   "metadata": {
    "execution": {
     "iopub.execute_input": "2023-11-17T18:10:29.265069Z",
     "iopub.status.busy": "2023-11-17T18:10:29.264803Z",
     "iopub.status.idle": "2023-11-17T18:10:29.294456Z",
     "shell.execute_reply": "2023-11-17T18:10:29.293869Z"
    }
   },
   "outputs": [],
   "source": [
    "clustering_algo = AgglomerativeClustering(n_clusters=200, metric='cosine', linkage='complete')\n",
    "\n",
    "optimal_k = 50"
   ]
  },
  {
   "cell_type": "code",
   "execution_count": 27,
   "metadata": {
    "execution": {
     "iopub.execute_input": "2023-11-17T18:10:29.297546Z",
     "iopub.status.busy": "2023-11-17T18:10:29.297104Z",
     "iopub.status.idle": "2023-11-17T18:10:29.367879Z",
     "shell.execute_reply": "2023-11-17T18:10:29.367126Z"
    }
   },
   "outputs": [],
   "source": [
    "%%script false --no-raise-error\n",
    "# We want to save components of lda and word clusters (topic_dict) as well as clustering\n",
    "\n",
    "vocab, vocab_vectors = get_vocab(characters, 5, 0.9)\n",
    "topic_dict = word_topics_clustering(vocab, vocab_vectors, clustering_algo)\n",
    "counts = topic_count(characters, topic_dict)\n",
    "lda = LatentDirichletAllocation(\n",
    "        n_components=optimal_k, random_state=0\n",
    ").fit(counts)\n",
    "\n",
    "characters['cluster'] = lda.transform(counts).argmax(axis=1)"
   ]
  },
  {
   "cell_type": "code",
   "execution_count": 28,
   "metadata": {
    "execution": {
     "iopub.execute_input": "2023-11-17T18:10:29.371053Z",
     "iopub.status.busy": "2023-11-17T18:10:29.370631Z",
     "iopub.status.idle": "2023-11-17T18:10:29.445406Z",
     "shell.execute_reply": "2023-11-17T18:10:29.444674Z"
    }
   },
   "outputs": [],
   "source": [
    "%%script false --no-raise-error\n",
    "\n",
    "characters.to_csv('data/character_clusters.csv')"
   ]
  },
  {
   "cell_type": "code",
   "execution_count": 29,
   "metadata": {
    "execution": {
     "iopub.execute_input": "2023-11-17T18:10:29.448774Z",
     "iopub.status.busy": "2023-11-17T18:10:29.448309Z",
     "iopub.status.idle": "2023-11-17T18:10:29.521949Z",
     "shell.execute_reply": "2023-11-17T18:10:29.521198Z"
    }
   },
   "outputs": [],
   "source": [
    "%%script false --no-raise-error\n",
    "topic_to_words = {}\n",
    "\n",
    "for k, v in topic_dict.items():\n",
    "    v = str(v)\n",
    "    if v in topic_to_words:\n",
    "        topic_to_words[v].append(k)\n",
    "    else:\n",
    "        topic_to_words[v] = [k]\n",
    "        \n",
    "json.dump( topic_to_words, open( \"data/words_by_topic.json\", 'w' ) )"
   ]
  },
  {
   "cell_type": "code",
   "execution_count": 30,
   "metadata": {
    "execution": {
     "iopub.execute_input": "2023-11-17T18:10:29.525452Z",
     "iopub.status.busy": "2023-11-17T18:10:29.524936Z",
     "iopub.status.idle": "2023-11-17T18:10:29.599410Z",
     "shell.execute_reply": "2023-11-17T18:10:29.598653Z"
    }
   },
   "outputs": [],
   "source": [
    "%%script false --no-raise-error\n",
    "\n",
    "with open('data/lda_components.npy', 'wb') as f:\n",
    "    np.save(f, lda.components_)"
   ]
  }
 ],
 "metadata": {
  "kernelspec": {
   "display_name": ".venv",
   "language": "python",
   "name": "python3"
  },
  "language_info": {
   "codemirror_mode": {
    "name": "ipython",
    "version": 3
   },
   "file_extension": ".py",
   "mimetype": "text/x-python",
   "name": "python",
   "nbconvert_exporter": "python",
   "pygments_lexer": "ipython3",
   "version": "3.9.18"
  }
 },
 "nbformat": 4,
 "nbformat_minor": 2
}
