{
 "cells": [
  {
   "cell_type": "code",
   "execution_count": 1,
   "metadata": {},
   "outputs": [],
   "source": [
    "import pandas as pd\n",
    "import matplotlib.pyplot as plt\n",
    "import numpy as np\n",
    "from tqdm import tqdm\n",
    "import torch"
   ]
  },
  {
   "cell_type": "code",
   "execution_count": 2,
   "metadata": {},
   "outputs": [
    {
     "name": "stderr",
     "output_type": "stream",
     "text": [
      "/home/cat/EPFL/Fall 2023/ADA/project_repo/.venv/lib/python3.9/site-packages/tqdm/auto.py:21: TqdmWarning: IProgress not found. Please update jupyter and ipywidgets. See https://ipywidgets.readthedocs.io/en/stable/user_install.html\n",
      "  from .autonotebook import tqdm as notebook_tqdm\n"
     ]
    }
   ],
   "source": [
    "from utils.transformer_character_embeddings import embeddings_from_text"
   ]
  },
  {
   "cell_type": "code",
   "execution_count": 3,
   "metadata": {},
   "outputs": [
    {
     "data": {
      "text/html": [
       "<div>\n",
       "<style scoped>\n",
       "    .dataframe tbody tr th:only-of-type {\n",
       "        vertical-align: middle;\n",
       "    }\n",
       "\n",
       "    .dataframe tbody tr th {\n",
       "        vertical-align: top;\n",
       "    }\n",
       "\n",
       "    .dataframe thead th {\n",
       "        text-align: right;\n",
       "    }\n",
       "</style>\n",
       "<table border=\"1\" class=\"dataframe\">\n",
       "  <thead>\n",
       "    <tr style=\"text-align: right;\">\n",
       "      <th></th>\n",
       "      <th>wiki_id</th>\n",
       "      <th>plot</th>\n",
       "    </tr>\n",
       "  </thead>\n",
       "  <tbody>\n",
       "    <tr>\n",
       "      <th>0</th>\n",
       "      <td>23890098</td>\n",
       "      <td>Shlykov, a hard-working taxi driver and Lyosha...</td>\n",
       "    </tr>\n",
       "    <tr>\n",
       "      <th>1</th>\n",
       "      <td>31186339</td>\n",
       "      <td>The nation of Panem consists of a wealthy Capi...</td>\n",
       "    </tr>\n",
       "    <tr>\n",
       "      <th>2</th>\n",
       "      <td>20663735</td>\n",
       "      <td>Poovalli Induchoodan is sentenced for six year...</td>\n",
       "    </tr>\n",
       "    <tr>\n",
       "      <th>3</th>\n",
       "      <td>2231378</td>\n",
       "      <td>The Lemon Drop Kid , a New York City swindler,...</td>\n",
       "    </tr>\n",
       "    <tr>\n",
       "      <th>4</th>\n",
       "      <td>595909</td>\n",
       "      <td>Seventh-day Adventist Church pastor Michael Ch...</td>\n",
       "    </tr>\n",
       "  </tbody>\n",
       "</table>\n",
       "</div>"
      ],
      "text/plain": [
       "    wiki_id                                               plot\n",
       "0  23890098  Shlykov, a hard-working taxi driver and Lyosha...\n",
       "1  31186339  The nation of Panem consists of a wealthy Capi...\n",
       "2  20663735  Poovalli Induchoodan is sentenced for six year...\n",
       "3   2231378  The Lemon Drop Kid , a New York City swindler,...\n",
       "4    595909  Seventh-day Adventist Church pastor Michael Ch..."
      ]
     },
     "execution_count": 3,
     "metadata": {},
     "output_type": "execute_result"
    }
   ],
   "source": [
    "plots =  pd.read_csv(\n",
    "    'data/MovieSummaries/plot_summaries.txt', \n",
    "    sep='\\t', \n",
    "    names=['wiki_id', 'plot']\n",
    ")\n",
    "\n",
    "plots['plot'] = plots['plot'].apply(lambda x: ' '.join(x.split()))\n",
    "\n",
    "plots.head(5)"
   ]
  },
  {
   "cell_type": "code",
   "execution_count": 4,
   "metadata": {},
   "outputs": [],
   "source": [
    "input_text = plots.iloc[1]['plot']"
   ]
  },
  {
   "cell_type": "code",
   "execution_count": 6,
   "metadata": {},
   "outputs": [
    {
     "name": "stderr",
     "output_type": "stream",
     "text": [
      "100%|██████████| 100/100 [05:00<00:00,  3.01s/it]\n"
     ]
    },
    {
     "data": {
      "text/html": [
       "<div>\n",
       "<style scoped>\n",
       "    .dataframe tbody tr th:only-of-type {\n",
       "        vertical-align: middle;\n",
       "    }\n",
       "\n",
       "    .dataframe tbody tr th {\n",
       "        vertical-align: top;\n",
       "    }\n",
       "\n",
       "    .dataframe thead th {\n",
       "        text-align: right;\n",
       "    }\n",
       "</style>\n",
       "<table border=\"1\" class=\"dataframe\">\n",
       "  <thead>\n",
       "    <tr style=\"text-align: right;\">\n",
       "      <th></th>\n",
       "      <th>wiki_id</th>\n",
       "      <th>character</th>\n",
       "      <th>emb</th>\n",
       "    </tr>\n",
       "  </thead>\n",
       "  <tbody>\n",
       "    <tr>\n",
       "      <th>0</th>\n",
       "      <td>31186339</td>\n",
       "      <td>Primrose Everdeen</td>\n",
       "      <td>[-0.30263614654541016, -0.6969847679138184, 0....</td>\n",
       "    </tr>\n",
       "    <tr>\n",
       "      <th>1</th>\n",
       "      <td>31186339</td>\n",
       "      <td>Katniss</td>\n",
       "      <td>[-0.19846008718013763, -0.7502771019935608, 0....</td>\n",
       "    </tr>\n",
       "    <tr>\n",
       "      <th>2</th>\n",
       "      <td>31186339</td>\n",
       "      <td>Peeta Mellark</td>\n",
       "      <td>[-0.10818104445934296, -0.3706214129924774, -0...</td>\n",
       "    </tr>\n",
       "    <tr>\n",
       "      <th>3</th>\n",
       "      <td>31186339</td>\n",
       "      <td>Haymitch Abernathy</td>\n",
       "      <td>[-0.1719408631324768, -0.26161321997642517, -0...</td>\n",
       "    </tr>\n",
       "    <tr>\n",
       "      <th>4</th>\n",
       "      <td>31186339</td>\n",
       "      <td>Caesar Flickerman</td>\n",
       "      <td>[0.8750091791152954, -0.30963605642318726, -0....</td>\n",
       "    </tr>\n",
       "  </tbody>\n",
       "</table>\n",
       "</div>"
      ],
      "text/plain": [
       "    wiki_id           character  \\\n",
       "0  31186339   Primrose Everdeen   \n",
       "1  31186339             Katniss   \n",
       "2  31186339       Peeta Mellark   \n",
       "3  31186339  Haymitch Abernathy   \n",
       "4  31186339   Caesar Flickerman   \n",
       "\n",
       "                                                 emb  \n",
       "0  [-0.30263614654541016, -0.6969847679138184, 0....  \n",
       "1  [-0.19846008718013763, -0.7502771019935608, 0....  \n",
       "2  [-0.10818104445934296, -0.3706214129924774, -0...  \n",
       "3  [-0.1719408631324768, -0.26161321997642517, -0...  \n",
       "4  [0.8750091791152954, -0.30963605642318726, -0....  "
      ]
     },
     "execution_count": 6,
     "metadata": {},
     "output_type": "execute_result"
    }
   ],
   "source": [
    "character_list = []\n",
    "\n",
    "for index, row in tqdm([row for row in plots.iterrows()][:100]):\n",
    "    plot = row['plot'] \n",
    "    character_emb = embeddings_from_text(plot)\n",
    "\n",
    "    for name in character_emb.keys():\n",
    "        character_list.append(\n",
    "            {\n",
    "                'wiki_id': row['wiki_id'],\n",
    "                'character': name,\n",
    "                'emb': character_emb[name].tolist(),\n",
    "            }\n",
    "        )\n",
    "\n",
    "character_df = pd.DataFrame(character_list)\n",
    "character_df.head()"
   ]
  },
  {
   "cell_type": "code",
   "execution_count": 7,
   "metadata": {},
   "outputs": [],
   "source": [
    "character_df.to_csv('data/trf_embeddings_1000.csv')"
   ]
  },
  {
   "cell_type": "code",
   "execution_count": 156,
   "metadata": {},
   "outputs": [
    {
     "data": {
      "text/plain": [
       "array([28,  4,  4, 16,  2,  0,  4,  9, 11, 31, 31, 31,  7, 31, 31, 31, 31,\n",
       "        7,  7,  7,  7, 31, 31, 31, 30, 16, 16,  0, 11,  6, 11,  1,  1,  0,\n",
       "        2,  0, 30,  2,  2,  0,  0,  0,  1,  0, 13, 28,  0, 13, 13, 28,  0,\n",
       "        0,  0, 32, 11,  0, 25, 32,  4, 30,  0,  0,  0,  0,  1,  0,  0,  1,\n",
       "        1,  1,  1,  1,  5,  3, 24,  3, 13, 24,  2, 24,  6, 24,  8,  8,  8,\n",
       "       21, 30,  1, 13,  0,  1,  1,  8, 30, 12,  2,  4, 30,  0,  0,  4, 13,\n",
       "       11,  9,  2,  0,  9,  3,  3, 13, 13,  0,  0,  1, 15, 15, 18, 23, 16,\n",
       "        0,  1, 18, 18, 30, 28, 30, 32,  4, 11, 28, 20,  7,  7,  7,  7,  7,\n",
       "        7,  2,  7,  7,  7,  7,  7,  7,  7, 16,  7,  7, 16, 16,  7,  7, 16,\n",
       "        8, 24, 24, 24, 24, 13,  0, 13,  0,  9, 25,  0,  0, 30,  9, 13, 28,\n",
       "       28, 12, 23,  3,  0, 13,  0,  0, 11, 11, 15, 15, 16, 15, 15, 32, 15,\n",
       "       15,  4, 29,  4, 13,  3, 28, 18, 27, 27, 16, 27, 27,  2, 27, 27,  2,\n",
       "       27, 27, 16,  2, 27, 27, 27, 27, 25, 27,  2,  2, 16, 27,  2, 16, 12,\n",
       "       19, 19, 13, 19, 19, 19, 19, 13,  4,  2,  4,  4, 16, 29, 29,  7,  7,\n",
       "        7,  7,  7,  7,  7,  8,  7,  7,  8, 28, 21, 21, 21, 21, 21, 21,  8,\n",
       "        8,  9, 21, 21, 21, 11, 11,  9,  4,  3, 16, 10,  2, 11,  4,  4,  0,\n",
       "        2,  1, 19, 21, 28, 16, 16, 28, 30,  1, 13, 28, 30,  0, 28,  2,  5,\n",
       "       30, 28,  0,  0, 11,  3, 19, 28,  0,  3, 28,  3, 29, 28, 28,  4,  0,\n",
       "        1,  0,  0,  0, 13, 13, 13,  2, 28,  1, 17,  0, 13, 13, 17, 13, 16,\n",
       "       17,  7,  7,  7,  7,  7,  7,  7,  7, 16,  7,  7,  7, 29,  0,  6,  4,\n",
       "        9, 13, 16,  0, 26,  9,  0,  4,  0,  0, 13,  2,  7,  7,  7,  7,  0,\n",
       "        8,  7,  8,  3, 30, 13,  3, 30, 13,  0, 13, 23, 28,  1, 28, 28,  8,\n",
       "       28,  2, 13,  0, 13, 23, 28,  2,  3, 14, 13, 13,  1, 13, 29, 15,  0,\n",
       "        1, 25, 28, 28,  0,  2, 28, 18, 14, 30,  4, 30, 17,  4,  1,  9,  0,\n",
       "       13, 13,  0,  0, 13, 13, 28,  1,  0,  0, 13, 30,  1,  0,  0,  1, 26,\n",
       "        5, 11, 13, 16, 28, 19, 15, 11,  0, 13, 13, 13, 13, 13, 26, 13, 13,\n",
       "        0, 13,  9, 16, 30,  3,  4,  0,  0,  0,  7,  7,  7,  7, 13, 21, 23,\n",
       "        7,  0,  8,  7,  3, 28,  7,  7,  7,  7,  7, 13, 16,  7,  0, 19, 19,\n",
       "       28, 19, 19, 19, 13, 13,  6,  1,  6,  1,  1, 26, 13, 13,  7,  7, 31,\n",
       "       31, 16,  1, 31, 12,  3,  2, 18, 22, 18, 18, 10, 20, 20, 20, 20, 32,\n",
       "       20, 20, 20,  0, 20, 20, 20, 20, 20, 20, 20, 20, 10, 20, 20, 20, 20,\n",
       "       32, 12, 28, 26, 14])"
      ]
     },
     "execution_count": 156,
     "metadata": {},
     "output_type": "execute_result"
    }
   ],
   "source": [
    "from sklearn.cluster import AgglomerativeClustering\n",
    "X = np.array(character_df['emb'].values.tolist())\n",
    "clustering = AgglomerativeClustering(n_clusters=None, distance_threshold=0.75, metric='cosine', linkage='complete').fit(X)\n",
    "clustering.labels_"
   ]
  },
  {
   "cell_type": "code",
   "execution_count": 157,
   "metadata": {},
   "outputs": [
    {
     "data": {
      "text/plain": [
       "5                      Rue\n",
       "27                 Charley\n",
       "33     Michael Chamberlain\n",
       "35             Alex Thomas\n",
       "39            Jack Baldwin\n",
       "              ...         \n",
       "450              Madeleine\n",
       "451                Bernard\n",
       "460             Abbas Khan\n",
       "473       Anton Gorodetsky\n",
       "513                    Soy\n",
       "Name: character, Length: 68, dtype: object"
      ]
     },
     "execution_count": 157,
     "metadata": {},
     "output_type": "execute_result"
    }
   ],
   "source": [
    "character_df['character'].iloc[clustering.labels_==0]"
   ]
  },
  {
   "cell_type": "markdown",
   "metadata": {},
   "source": [
    "Mostly women cluster:"
   ]
  },
  {
   "cell_type": "code",
   "execution_count": 158,
   "metadata": {},
   "outputs": [
    {
     "data": {
      "text/plain": [
       "31                 Azaria\n",
       "32                  Lindy\n",
       "42                 Dahlia\n",
       "64                  Dotty\n",
       "67                 Simona\n",
       "68                   Eman\n",
       "69                  Lubos\n",
       "70                  Goran\n",
       "71              Frantisek\n",
       "87       Shelia Landreaux\n",
       "90                   Zora\n",
       "91                 Salena\n",
       "113       Arabella Simone\n",
       "120                 Addie\n",
       "273           Odile Deray\n",
       "281              Narcissa\n",
       "306                  Jada\n",
       "315               Quincey\n",
       "370      Sergio Constanza\n",
       "386               Jeannie\n",
       "391          Hester Adams\n",
       "405                  Cera\n",
       "415    Miriam fires Velma\n",
       "420                 Bobbi\n",
       "423                 Malou\n",
       "483                 Wanda\n",
       "485                   Jan\n",
       "486                   Eva\n",
       "495           Thara Kurup\n",
       "Name: character, dtype: object"
      ]
     },
     "execution_count": 158,
     "metadata": {},
     "output_type": "execute_result"
    }
   ],
   "source": [
    "character_df['character'].iloc[clustering.labels_==1]"
   ]
  },
  {
   "cell_type": "markdown",
   "metadata": {},
   "source": [
    "Cluster of names with 's (preprocessing bug)"
   ]
  },
  {
   "cell_type": "code",
   "execution_count": 159,
   "metadata": {},
   "outputs": [
    {
     "data": {
      "text/plain": [
       "4          Caesar Flickerman\n",
       "34              Chamberlains\n",
       "37             Alex Thomas's\n",
       "38              Thomas jumps\n",
       "78          Ari Ben Canaan's\n",
       "95              Shelia Kid's\n",
       "104                  Lowells\n",
       "137            Shambu Dada’s\n",
       "200                Cao Cao's\n",
       "203                Liu Bei's\n",
       "207            Zhuge Liang's\n",
       "214              Jiang Gan's\n",
       "215                Zhou Yu's\n",
       "218              Zhuge walks\n",
       "230             Betty Boop's\n",
       "267             Mud Buddha's\n",
       "272                  milkman\n",
       "287    Seth Michael Donsky's\n",
       "313                  Husband\n",
       "351            Ellen Brody's\n",
       "375                Wasserman\n",
       "381                  Woodmen\n",
       "396         Stephen bargains\n",
       "499       Sukumaran committs\n",
       "Name: character, dtype: object"
      ]
     },
     "execution_count": 159,
     "metadata": {},
     "output_type": "execute_result"
    }
   ],
   "source": [
    "character_df['character'].iloc[clustering.labels_==2]"
   ]
  },
  {
   "cell_type": "markdown",
   "metadata": {},
   "source": [
    "Mostly animated characters:"
   ]
  },
  {
   "cell_type": "code",
   "execution_count": 162,
   "metadata": {},
   "outputs": [
    {
     "data": {
      "text/plain": [
       "1            Katniss\n",
       "2      Peeta Mellark\n",
       "6               Cato\n",
       "58      Buzz Buzzard\n",
       "96           Pee Wee\n",
       "100          Pee-Wee\n",
       "127            Lumpy\n",
       "188       Daffy Duck\n",
       "190            Porky\n",
       "229             Koko\n",
       "231            Bimbo\n",
       "232       Betty Boop\n",
       "263          Dee Dee\n",
       "269            Porky\n",
       "270           Dobbin\n",
       "304         Baby Boy\n",
       "339          Wile E.\n",
       "347           Hoagie\n",
       "401             Mutt\n",
       "404       Littlefoot\n",
       "448            Pudgy\n",
       "Name: character, dtype: object"
      ]
     },
     "execution_count": 162,
     "metadata": {},
     "output_type": "execute_result"
    }
   ],
   "source": [
    "character_df['character'].iloc[clustering.labels_==4]"
   ]
  },
  {
   "cell_type": "markdown",
   "metadata": {},
   "source": [
    "This thing is just strange"
   ]
  },
  {
   "cell_type": "code",
   "execution_count": 166,
   "metadata": {},
   "outputs": [
    {
     "data": {
      "text/plain": [
       "29         Santa Claus\n",
       "80           Auschwitz\n",
       "338    Charlie Chaplin\n",
       "482          Auschwitz\n",
       "484            Gestapo\n",
       "Name: character, dtype: object"
      ]
     },
     "execution_count": 166,
     "metadata": {},
     "output_type": "execute_result"
    }
   ],
   "source": [
    "character_df['character'].iloc[clustering.labels_==6]"
   ]
  }
 ],
 "metadata": {
  "kernelspec": {
   "display_name": ".venv",
   "language": "python",
   "name": "python3"
  },
  "language_info": {
   "codemirror_mode": {
    "name": "ipython",
    "version": 3
   },
   "file_extension": ".py",
   "mimetype": "text/x-python",
   "name": "python",
   "nbconvert_exporter": "python",
   "pygments_lexer": "ipython3",
   "version": "3.9.7"
  }
 },
 "nbformat": 4,
 "nbformat_minor": 2
}
