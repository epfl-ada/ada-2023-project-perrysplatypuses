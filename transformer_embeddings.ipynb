{
 "cells": [
  {
   "cell_type": "code",
   "execution_count": 1,
   "metadata": {},
   "outputs": [],
   "source": [
    "import pandas as pd\n",
    "import matplotlib.pyplot as plt\n",
    "import numpy as np\n",
    "from tqdm import tqdm\n",
    "import torch"
   ]
  },
  {
   "cell_type": "code",
   "execution_count": 2,
   "metadata": {},
   "outputs": [
    {
     "name": "stderr",
     "output_type": "stream",
     "text": [
      "/home/cat/EPFL/Fall 2023/ADA/project_repo/.venv/lib/python3.9/site-packages/tqdm/auto.py:21: TqdmWarning: IProgress not found. Please update jupyter and ipywidgets. See https://ipywidgets.readthedocs.io/en/stable/user_install.html\n",
      "  from .autonotebook import tqdm as notebook_tqdm\n"
     ]
    }
   ],
   "source": [
    "from utils.transformer_character_embeddings import embeddings_from_text"
   ]
  },
  {
   "cell_type": "code",
   "execution_count": 3,
   "metadata": {},
   "outputs": [
    {
     "data": {
      "text/html": [
       "<div>\n",
       "<style scoped>\n",
       "    .dataframe tbody tr th:only-of-type {\n",
       "        vertical-align: middle;\n",
       "    }\n",
       "\n",
       "    .dataframe tbody tr th {\n",
       "        vertical-align: top;\n",
       "    }\n",
       "\n",
       "    .dataframe thead th {\n",
       "        text-align: right;\n",
       "    }\n",
       "</style>\n",
       "<table border=\"1\" class=\"dataframe\">\n",
       "  <thead>\n",
       "    <tr style=\"text-align: right;\">\n",
       "      <th></th>\n",
       "      <th>wiki_id</th>\n",
       "      <th>plot</th>\n",
       "    </tr>\n",
       "  </thead>\n",
       "  <tbody>\n",
       "    <tr>\n",
       "      <th>0</th>\n",
       "      <td>23890098</td>\n",
       "      <td>Shlykov, a hard-working taxi driver and Lyosha...</td>\n",
       "    </tr>\n",
       "    <tr>\n",
       "      <th>1</th>\n",
       "      <td>31186339</td>\n",
       "      <td>The nation of Panem consists of a wealthy Capi...</td>\n",
       "    </tr>\n",
       "    <tr>\n",
       "      <th>2</th>\n",
       "      <td>20663735</td>\n",
       "      <td>Poovalli Induchoodan is sentenced for six year...</td>\n",
       "    </tr>\n",
       "    <tr>\n",
       "      <th>3</th>\n",
       "      <td>2231378</td>\n",
       "      <td>The Lemon Drop Kid , a New York City swindler,...</td>\n",
       "    </tr>\n",
       "    <tr>\n",
       "      <th>4</th>\n",
       "      <td>595909</td>\n",
       "      <td>Seventh-day Adventist Church pastor Michael Ch...</td>\n",
       "    </tr>\n",
       "  </tbody>\n",
       "</table>\n",
       "</div>"
      ],
      "text/plain": [
       "    wiki_id                                               plot\n",
       "0  23890098  Shlykov, a hard-working taxi driver and Lyosha...\n",
       "1  31186339  The nation of Panem consists of a wealthy Capi...\n",
       "2  20663735  Poovalli Induchoodan is sentenced for six year...\n",
       "3   2231378  The Lemon Drop Kid , a New York City swindler,...\n",
       "4    595909  Seventh-day Adventist Church pastor Michael Ch..."
      ]
     },
     "execution_count": 3,
     "metadata": {},
     "output_type": "execute_result"
    }
   ],
   "source": [
    "plots =  pd.read_csv(\n",
    "    'data/MovieSummaries/plot_summaries.txt', \n",
    "    sep='\\t', \n",
    "    names=['wiki_id', 'plot']\n",
    ")\n",
    "\n",
    "plots['plot'] = plots['plot'].apply(lambda x: ' '.join(x.split()))\n",
    "\n",
    "plots.head(5)"
   ]
  },
  {
   "cell_type": "code",
   "execution_count": 4,
   "metadata": {},
   "outputs": [],
   "source": [
    "input_text = plots.iloc[1]['plot']"
   ]
  },
  {
   "cell_type": "code",
   "execution_count": 7,
   "metadata": {},
   "outputs": [
    {
     "name": "stderr",
     "output_type": "stream",
     "text": [
      "100%|██████████| 10/10 [00:44<00:00,  4.46s/it]\n"
     ]
    },
    {
     "data": {
      "text/html": [
       "<div>\n",
       "<style scoped>\n",
       "    .dataframe tbody tr th:only-of-type {\n",
       "        vertical-align: middle;\n",
       "    }\n",
       "\n",
       "    .dataframe tbody tr th {\n",
       "        vertical-align: top;\n",
       "    }\n",
       "\n",
       "    .dataframe thead th {\n",
       "        text-align: right;\n",
       "    }\n",
       "</style>\n",
       "<table border=\"1\" class=\"dataframe\">\n",
       "  <thead>\n",
       "    <tr style=\"text-align: right;\">\n",
       "      <th></th>\n",
       "      <th>wiki_id</th>\n",
       "      <th>character</th>\n",
       "      <th>emb</th>\n",
       "    </tr>\n",
       "  </thead>\n",
       "  <tbody>\n",
       "    <tr>\n",
       "      <th>0</th>\n",
       "      <td>31186339</td>\n",
       "      <td>Primrose Everdeen</td>\n",
       "      <td>[-0.30263614654541016, -0.6969847679138184, 0....</td>\n",
       "    </tr>\n",
       "    <tr>\n",
       "      <th>1</th>\n",
       "      <td>31186339</td>\n",
       "      <td>Katniss</td>\n",
       "      <td>[-0.19846008718013763, -0.7502771019935608, 0....</td>\n",
       "    </tr>\n",
       "    <tr>\n",
       "      <th>2</th>\n",
       "      <td>31186339</td>\n",
       "      <td>Peeta Mellark</td>\n",
       "      <td>[-0.10818104445934296, -0.3706214129924774, -0...</td>\n",
       "    </tr>\n",
       "    <tr>\n",
       "      <th>3</th>\n",
       "      <td>31186339</td>\n",
       "      <td>Haymitch Abernathy</td>\n",
       "      <td>[-0.1719408631324768, -0.26161321997642517, -0...</td>\n",
       "    </tr>\n",
       "    <tr>\n",
       "      <th>4</th>\n",
       "      <td>31186339</td>\n",
       "      <td>Caesar Flickerman</td>\n",
       "      <td>[0.8750091791152954, -0.30963605642318726, -0....</td>\n",
       "    </tr>\n",
       "  </tbody>\n",
       "</table>\n",
       "</div>"
      ],
      "text/plain": [
       "    wiki_id           character  \\\n",
       "0  31186339   Primrose Everdeen   \n",
       "1  31186339             Katniss   \n",
       "2  31186339       Peeta Mellark   \n",
       "3  31186339  Haymitch Abernathy   \n",
       "4  31186339   Caesar Flickerman   \n",
       "\n",
       "                                                 emb  \n",
       "0  [-0.30263614654541016, -0.6969847679138184, 0....  \n",
       "1  [-0.19846008718013763, -0.7502771019935608, 0....  \n",
       "2  [-0.10818104445934296, -0.3706214129924774, -0...  \n",
       "3  [-0.1719408631324768, -0.26161321997642517, -0...  \n",
       "4  [0.8750091791152954, -0.30963605642318726, -0....  "
      ]
     },
     "execution_count": 7,
     "metadata": {},
     "output_type": "execute_result"
    }
   ],
   "source": [
    "character_list = []\n",
    "\n",
    "for index, row in tqdm([row for row in plots.iterrows()][:10]):\n",
    "    plot = row['plot'] \n",
    "    character_emb = embeddings_from_text(plot)\n",
    "\n",
    "    for name in character_emb.keys():\n",
    "        character_list.append(\n",
    "            {\n",
    "                'wiki_id': row['wiki_id'],\n",
    "                'character': name,\n",
    "                'emb': character_emb[name].tolist(),\n",
    "            }\n",
    "        )\n",
    "\n",
    "character_df = pd.DataFrame(character_list)\n",
    "character_df.head()"
   ]
  },
  {
   "cell_type": "code",
   "execution_count": 71,
   "metadata": {},
   "outputs": [
    {
     "data": {
      "text/plain": [
       "array([ 0,  0,  0,  1,  0,  2,  0,  3,  4,  5,  5,  5,  6,  5,  5,  5,  5,\n",
       "        5,  5,  5,  5,  5,  5,  5,  7,  8,  8,  9,  9, 10, 11,  8,  0,  0,\n",
       "       12,  8,  8, 13,  8,  8,  8, 14,  0, 15,  8, 16,  8,  8,  8,  0,  8,\n",
       "        8,  8, 17,  8, 18, 19, 20,  8, 21])"
      ]
     },
     "execution_count": 71,
     "metadata": {},
     "output_type": "execute_result"
    }
   ],
   "source": [
    "from sklearn.cluster import DBSCAN\n",
    "X = np.array(character_df['emb'].values.tolist())\n",
    "clustering = DBSCAN(eps=0.4, min_samples=1, metric='cosine').fit(X)\n",
    "clustering.labels_"
   ]
  },
  {
   "cell_type": "code",
   "execution_count": 72,
   "metadata": {},
   "outputs": [
    {
     "data": {
      "text/plain": [
       "0     Primrose Everdeen\n",
       "1               Katniss\n",
       "2         Peeta Mellark\n",
       "4     Caesar Flickerman\n",
       "6                  Cato\n",
       "32                Lindy\n",
       "33               Azaria\n",
       "42               Dahlia\n",
       "49             Lombardo\n",
       "Name: character, dtype: object"
      ]
     },
     "execution_count": 72,
     "metadata": {},
     "output_type": "execute_result"
    }
   ],
   "source": [
    "character_df['character'].iloc[clustering.labels_==0]"
   ]
  },
  {
   "cell_type": "code",
   "execution_count": 73,
   "metadata": {},
   "outputs": [
    {
     "data": {
      "text/plain": [
       "3    Haymitch Abernathy\n",
       "Name: character, dtype: object"
      ]
     },
     "execution_count": 73,
     "metadata": {},
     "output_type": "execute_result"
    }
   ],
   "source": [
    "character_df['character'].iloc[clustering.labels_==1]"
   ]
  },
  {
   "cell_type": "code",
   "execution_count": 75,
   "metadata": {},
   "outputs": [
    {
     "data": {
      "text/plain": [
       "5    Rue\n",
       "Name: character, dtype: object"
      ]
     },
     "execution_count": 75,
     "metadata": {},
     "output_type": "execute_result"
    }
   ],
   "source": [
    "character_df['character'].iloc[clustering.labels_==2]"
   ]
  },
  {
   "cell_type": "code",
   "execution_count": 76,
   "metadata": {},
   "outputs": [
    {
     "data": {
      "text/plain": [
       "7    Snow\n",
       "Name: character, dtype: object"
      ]
     },
     "execution_count": 76,
     "metadata": {},
     "output_type": "execute_result"
    }
   ],
   "source": [
    "character_df['character'].iloc[clustering.labels_==3]"
   ]
  },
  {
   "cell_type": "code",
   "execution_count": 77,
   "metadata": {},
   "outputs": [
    {
     "data": {
      "text/plain": [
       "25            Moose Moran\n",
       "26          Brainy Baxter\n",
       "31    Michael Chamberlain\n",
       "35            Alex Thomas\n",
       "36          Kate Crawford\n",
       "38           Thomas jumps\n",
       "39           Jack Baldwin\n",
       "40        Vaughan Stevens\n",
       "44                Cecilia\n",
       "46                 Murray\n",
       "47         Natasha Rimsky\n",
       "48                 Hannah\n",
       "50                Dominic\n",
       "51                 Mickey\n",
       "52           Ann Mitchell\n",
       "54        John Willoughby\n",
       "58           Buzz Buzzard\n",
       "Name: character, dtype: object"
      ]
     },
     "execution_count": 77,
     "metadata": {},
     "output_type": "execute_result"
    }
   ],
   "source": [
    "character_df['character'].iloc[clustering.labels_==8]"
   ]
  }
 ],
 "metadata": {
  "kernelspec": {
   "display_name": ".venv",
   "language": "python",
   "name": "python3"
  },
  "language_info": {
   "codemirror_mode": {
    "name": "ipython",
    "version": 3
   },
   "file_extension": ".py",
   "mimetype": "text/x-python",
   "name": "python",
   "nbconvert_exporter": "python",
   "pygments_lexer": "ipython3",
   "version": "3.9.7"
  }
 },
 "nbformat": 4,
 "nbformat_minor": 2
}
